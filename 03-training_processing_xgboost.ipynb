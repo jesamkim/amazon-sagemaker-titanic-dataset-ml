{
 "cells": [
  {
   "cell_type": "markdown",
   "id": "61bb591b-0ad0-4836-a912-98a3f47a9ddd",
   "metadata": {},
   "source": [
    "# 2023 AI/ML UnicornGym - Track 1"
   ]
  },
  {
   "cell_type": "markdown",
   "id": "26d76179-91a4-498d-a5d8-3769a67613e2",
   "metadata": {},
   "source": [
    "@jesamkim | 2023-Feb-08"
   ]
  },
  {
   "cell_type": "markdown",
   "id": "80cb5afb-87a5-454c-9816-5725a317fc29",
   "metadata": {},
   "source": [
    "# 3. 훈련\n",
    "- 알고리즘 : xgboost"
   ]
  },
  {
   "cell_type": "markdown",
   "id": "cbb805e0-64e4-46de-a5bc-c3ac700718f6",
   "metadata": {},
   "source": [
    "### setup environment"
   ]
  },
  {
   "cell_type": "code",
   "execution_count": 1,
   "id": "c43750e0-5f2d-4ec0-9f3f-338be6b4a4e8",
   "metadata": {},
   "outputs": [],
   "source": [
    "%load_ext autoreload\n",
    "%autoreload 2\n",
    "\n",
    "# src 폴더 경로 설정\n",
    "import sys\n",
    "sys.path.append('./src')"
   ]
  },
  {
   "cell_type": "code",
   "execution_count": 2,
   "id": "e5df3b13-1c56-44b8-99c8-f9b7ef162800",
   "metadata": {},
   "outputs": [],
   "source": [
    "import boto3\n",
    "import sagemaker"
   ]
  },
  {
   "cell_type": "code",
   "execution_count": 3,
   "id": "bfcb028a-5936-4b57-b6b9-7d7442259b33",
   "metadata": {},
   "outputs": [
    {
     "name": "stdout",
     "output_type": "stream",
     "text": [
      "Stored variables and their in-db values:\n",
      "bucket                     -> 'sagemaker-us-east-1-376278017302'\n",
      "input_data_uri             -> 's3://sagemaker-us-east-1-376278017302/titanic-ml/\n",
      "project_prefix             -> 'titanic-ml'\n",
      "test_data_uri              -> 's3://sagemaker-us-east-1-376278017302/titanic-ml/\n",
      "train_data_uri             -> 's3://sagemaker-us-east-1-376278017302/titanic-ml/\n"
     ]
    }
   ],
   "source": [
    "%store -r \n",
    "\n",
    "%store"
   ]
  },
  {
   "cell_type": "markdown",
   "id": "4ef2f19a-d9bc-4ae3-9f77-e962fd04f966",
   "metadata": {},
   "source": [
    "## 3-1. SageMaker 세션과 Role, 사용 버킷 정의"
   ]
  },
  {
   "cell_type": "code",
   "execution_count": 4,
   "id": "9b2c83ed-2e20-47ce-acad-0127e71b2dc0",
   "metadata": {},
   "outputs": [
    {
     "data": {
      "text/plain": [
       "'arn:aws:iam::376278017302:role/service-role/AmazonSageMaker-ExecutionRole-20230112T204234'"
      ]
     },
     "execution_count": 4,
     "metadata": {},
     "output_type": "execute_result"
    }
   ],
   "source": [
    "sagemaker_session = sagemaker.session.Session()\n",
    "role = sagemaker.get_execution_role()\n",
    "\n",
    "role"
   ]
  },
  {
   "cell_type": "code",
   "execution_count": 5,
   "id": "6181ff65-801f-4d32-a03e-5600f63169e3",
   "metadata": {},
   "outputs": [],
   "source": [
    "#bucket = sagemaker_session.default_bucket()\n",
    "\n",
    "code_location = f's3://{bucket}/{project_prefix}/xgboost/code'\n",
    "output_path = f's3://{bucket}/{project_prefix}/xgboost/output'"
   ]
  },
  {
   "cell_type": "code",
   "execution_count": 6,
   "id": "439a1ccb-e621-495a-a731-cb0bfe1c98fb",
   "metadata": {},
   "outputs": [
    {
     "data": {
      "text/plain": [
       "'sagemaker-us-east-1-376278017302'"
      ]
     },
     "execution_count": 6,
     "metadata": {},
     "output_type": "execute_result"
    }
   ],
   "source": [
    "bucket"
   ]
  },
  {
   "cell_type": "code",
   "execution_count": 7,
   "id": "05719fd9-74b5-4c93-b5a3-c5f09f4591cc",
   "metadata": {},
   "outputs": [
    {
     "data": {
      "text/plain": [
       "'s3://sagemaker-us-east-1-376278017302/titanic-ml/xgboost/code'"
      ]
     },
     "execution_count": 7,
     "metadata": {},
     "output_type": "execute_result"
    }
   ],
   "source": [
    "code_location"
   ]
  },
  {
   "cell_type": "code",
   "execution_count": 8,
   "id": "5ca20740-5338-4716-9224-6df519f351d4",
   "metadata": {},
   "outputs": [
    {
     "data": {
      "text/plain": [
       "'s3://sagemaker-us-east-1-376278017302/titanic-ml/xgboost/output'"
      ]
     },
     "execution_count": 8,
     "metadata": {},
     "output_type": "execute_result"
    }
   ],
   "source": [
    "output_path"
   ]
  },
  {
   "cell_type": "markdown",
   "id": "1e7fffa0-2533-4254-9d22-2197febd2fc9",
   "metadata": {},
   "source": [
    "## 3-2. 하이퍼파라미터 정의"
   ]
  },
  {
   "cell_type": "code",
   "execution_count": 9,
   "id": "7b1ef6f8-933e-42a1-96c9-10d97f9c7469",
   "metadata": {},
   "outputs": [],
   "source": [
    "hyperparameters = {\n",
    "       \"scale_pos_weight\" : \"19\",    \n",
    "        \"max_depth\": \"2\",\n",
    "        \"eta\": \"0.3\",\n",
    "        \"objective\": \"binary:logistic\",\n",
    "        \"num_round\": \"100\",\n",
    "#    \"max_depth\": \"5\",\n",
    "#    \"subsample\": \"0.7\",\n",
    "#    \"gamma\": \"0\",\n",
    "#    \"alpha\": \"0\",\n",
    "#    \"lambda\": \"1\"\n",
    "}"
   ]
  },
  {
   "cell_type": "markdown",
   "id": "35e66d12-a94e-400a-abea-f09258861f43",
   "metadata": {},
   "source": [
    "## 3-3. 훈련 실행 작업 정의"
   ]
  },
  {
   "cell_type": "code",
   "execution_count": 10,
   "id": "cb7761e4-ea36-41c9-9bc7-7ddacc4a1bb7",
   "metadata": {},
   "outputs": [],
   "source": [
    "instance_count = 1\n",
    "instance_type = \"ml.m5.large\"\n",
    "# instance_type = \"local\"\n",
    "max_run = 1*60*60\n",
    "\n",
    "use_spot_instances = False\n",
    "if use_spot_instances:\n",
    "    max_wait = 1*60*60\n",
    "else:\n",
    "    max_wait = None"
   ]
  },
  {
   "cell_type": "code",
   "execution_count": 11,
   "id": "3e138500-5327-4928-ad61-bcf646315f90",
   "metadata": {},
   "outputs": [],
   "source": [
    "if instance_type in ['local', 'local_gpu']:\n",
    "    from sagemaker.local import LocalSession\n",
    "    sagemaker_session = LocalSession()\n",
    "    sagemaker_session.config = {'local': {'local_code': True}}\n",
    "else:\n",
    "    sagemaker_session = sagemaker.session.Session()"
   ]
  },
  {
   "cell_type": "code",
   "execution_count": 12,
   "id": "bc284954-a2e8-48f4-b801-674400d724eb",
   "metadata": {},
   "outputs": [],
   "source": [
    "from sagemaker.xgboost.estimator import XGBoost\n",
    "\n",
    "estimator = XGBoost(\n",
    "    entry_point=\"xgboost_starter_script.py\",\n",
    "    source_dir=\"src\",\n",
    "    output_path=output_path,\n",
    "    code_location=code_location,\n",
    "    hyperparameters=hyperparameters,\n",
    "    role=role,\n",
    "    sagemaker_session=sagemaker_session,\n",
    "    instance_count=instance_count,\n",
    "    instance_type=instance_type,\n",
    "    framework_version=\"1.3-1\",\n",
    "    max_run=max_run,\n",
    "    use_spot_instances=use_spot_instances,  # spot instance 활용\n",
    "    max_wait=max_wait,\n",
    ")"
   ]
  },
  {
   "cell_type": "markdown",
   "id": "6284b456-da06-455d-80e5-b0ac440459f4",
   "metadata": {},
   "source": [
    "## 3-4. input_data_uri훈련 데이터셋 지정"
   ]
  },
  {
   "cell_type": "code",
   "execution_count": 13,
   "id": "d9dbfcbc-098b-44da-b2eb-fc857c8a22fc",
   "metadata": {},
   "outputs": [
    {
     "data": {
      "text/plain": [
       "'s3://sagemaker-us-east-1-376278017302/titanic-ml/input'"
      ]
     },
     "execution_count": 13,
     "metadata": {},
     "output_type": "execute_result"
    }
   ],
   "source": [
    "input_data_uri"
   ]
  },
  {
   "cell_type": "code",
   "execution_count": 14,
   "id": "9fd2b220-2c14-4a49-8d2b-5be09931719a",
   "metadata": {},
   "outputs": [
    {
     "name": "stdout",
     "output_type": "stream",
     "text": [
      "upload: dataset/.ipynb_checkpoints/train-checkpoint.csv to s3://sagemaker-us-east-1-376278017302/titanic-ml/input/.ipynb_checkpoints/train-checkpoint.csv\n"
     ]
    }
   ],
   "source": [
    "data_path=input_data_uri\n",
    "!aws s3 sync ./dataset/ $data_path"
   ]
  },
  {
   "cell_type": "code",
   "execution_count": 15,
   "id": "9418c792-f788-4aa9-b2aa-9f2416bbfe0e",
   "metadata": {},
   "outputs": [
    {
     "data": {
      "text/plain": [
       "'s3://sagemaker-us-east-1-376278017302/titanic-ml/input'"
      ]
     },
     "execution_count": 15,
     "metadata": {},
     "output_type": "execute_result"
    }
   ],
   "source": [
    "if instance_type in ['local', 'local_gpu']:\n",
    "    from pathlib import Path\n",
    "    file_path = f'file://{Path.cwd()}'\n",
    "    inputs = file_path.split('lab_1_training')[0] + 'dataset/'\n",
    "    \n",
    "else:\n",
    "    inputs = data_path\n",
    "inputs"
   ]
  },
  {
   "cell_type": "markdown",
   "id": "d3d4376a-fbcb-49b5-8c01-9c255c306710",
   "metadata": {},
   "source": [
    "## 3-5. SageMaker Experiments 설정"
   ]
  },
  {
   "cell_type": "code",
   "execution_count": 16,
   "id": "aff02a05-9680-46c6-b5c5-e05a52a73162",
   "metadata": {},
   "outputs": [],
   "source": [
    "# !pip install -U sagemaker-experiments"
   ]
  },
  {
   "cell_type": "code",
   "execution_count": 17,
   "id": "10ce7c0b-65ab-47d1-88e1-226157aae3e5",
   "metadata": {},
   "outputs": [],
   "source": [
    "experiment_name='titanic-xgboost-test-1'"
   ]
  },
  {
   "cell_type": "code",
   "execution_count": 18,
   "id": "be52f050-1f59-42c9-bc3c-37921ab9eefe",
   "metadata": {},
   "outputs": [],
   "source": [
    "from smexperiments.experiment import Experiment\n",
    "from smexperiments.trial import Trial\n",
    "from time import strftime"
   ]
  },
  {
   "cell_type": "code",
   "execution_count": 19,
   "id": "b9760a1b-78e3-43e8-ade9-a4c10e101505",
   "metadata": {},
   "outputs": [],
   "source": [
    "def create_experiment(experiment_name):\n",
    "    try:\n",
    "        sm_experiment = Experiment.load(experiment_name)\n",
    "    except:\n",
    "        sm_experiment = Experiment.create(experiment_name=experiment_name)"
   ]
  },
  {
   "cell_type": "code",
   "execution_count": 20,
   "id": "fd8337b7-7269-4eaa-8762-5e36ef9ca7a4",
   "metadata": {},
   "outputs": [],
   "source": [
    "def create_trial(experiment_name):\n",
    "    create_date = strftime(\"%m%d-%H%M%s\")       \n",
    "    sm_trial = Trial.create(trial_name=f'{experiment_name}-{create_date}',\n",
    "                            experiment_name=experiment_name)\n",
    "\n",
    "    job_name = f'{sm_trial.trial_name}'\n",
    "    return job_name"
   ]
  },
  {
   "cell_type": "markdown",
   "id": "84801124-36ef-41fe-9568-1dd27eb33e1b",
   "metadata": {},
   "source": [
    "## 3-6. 훈련 실행\n",
    "\n",
    "> 훈련하는 데이터(train.csv)에 String이 포함되어 있으면 Fail이 납니다. 앞에서 컬럼을 삭제하거나 숫자형으로 변환하는 등의 데이터 전처리 과정이 필요합니다."
   ]
  },
  {
   "cell_type": "code",
   "execution_count": 21,
   "id": "6108337a-4244-4f91-9419-dc3378a7296e",
   "metadata": {},
   "outputs": [
    {
     "name": "stderr",
     "output_type": "stream",
     "text": [
      "INFO:botocore.credentials:Found credentials from IAM Role: BaseNotebookInstanceEc2InstanceRole\n",
      "INFO:botocore.credentials:Found credentials from IAM Role: BaseNotebookInstanceEc2InstanceRole\n",
      "INFO:sagemaker.image_uris:Defaulting to the only supported framework/algorithm version: latest.\n",
      "INFO:sagemaker.image_uris:Ignoring unnecessary instance type: None.\n",
      "INFO:sagemaker:Creating training-job with name: titanic-xgboost-test-1-0209-05041675919068\n"
     ]
    }
   ],
   "source": [
    "create_experiment(experiment_name)\n",
    "job_name = create_trial(experiment_name)\n",
    "\n",
    "estimator.fit(inputs = {'inputdata': inputs},\n",
    "                  job_name = job_name,\n",
    "                  experiment_config={\n",
    "                      'TrialName': job_name,\n",
    "                      'TrialComponentDisplayName': job_name,\n",
    "                  },\n",
    "                  wait=False)"
   ]
  },
  {
   "cell_type": "code",
   "execution_count": 22,
   "id": "c5380c92-f06c-4a6f-9f96-3f47dc530b9b",
   "metadata": {},
   "outputs": [
    {
     "name": "stdout",
     "output_type": "stream",
     "text": [
      "2023-02-09 05:04:28 Starting - Starting the training job...\n",
      "2023-02-09 05:04:53 Starting - Preparing the instances for trainingProfilerReport-1675919068: InProgress\n",
      "......\n",
      "2023-02-09 05:05:54 Downloading - Downloading input data...\n",
      "2023-02-09 05:06:25 Training - Downloading the training image.....\u001b[34m[2023-02-09 05:07:06.307 ip-10-0-218-7.ec2.internal:7 INFO utils.py:27] RULE_JOB_STOP_SIGNAL_FILENAME: None\u001b[0m\n",
      "\u001b[34m[2023-02-09:05:07:06:INFO] Imported framework sagemaker_xgboost_container.training\u001b[0m\n",
      "\u001b[34m[2023-02-09:05:07:06:INFO] No GPUs detected (normal if no gpus installed)\u001b[0m\n",
      "\u001b[34m[2023-02-09:05:07:06:INFO] Invoking user training script.\u001b[0m\n",
      "\u001b[34m[2023-02-09:05:07:06:INFO] Module xgboost_starter_script does not provide a setup.py. \u001b[0m\n",
      "\u001b[34mGenerating setup.py\u001b[0m\n",
      "\u001b[34m[2023-02-09:05:07:06:INFO] Generating setup.cfg\u001b[0m\n",
      "\u001b[34m[2023-02-09:05:07:06:INFO] Generating MANIFEST.in\u001b[0m\n",
      "\u001b[34m[2023-02-09:05:07:06:INFO] Installing module with the following command:\u001b[0m\n",
      "\u001b[34m/miniconda3/bin/python3 -m pip install . \u001b[0m\n",
      "\u001b[34mProcessing /opt/ml/code\n",
      "  Preparing metadata (setup.py): started\u001b[0m\n",
      "\u001b[34m  Preparing metadata (setup.py): finished with status 'done'\u001b[0m\n",
      "\u001b[34mBuilding wheels for collected packages: xgboost-starter-script\n",
      "  Building wheel for xgboost-starter-script (setup.py): started\n",
      "  Building wheel for xgboost-starter-script (setup.py): finished with status 'done'\n",
      "  Created wheel for xgboost-starter-script: filename=xgboost_starter_script-1.0.0-py2.py3-none-any.whl size=33620 sha256=9c7f8cdaf5a93f0c82bc6275b5291d1b42df32a32b3f1b3b56d0526f9dc294c7\n",
      "  Stored in directory: /home/model-server/tmp/pip-ephem-wheel-cache-5jj43pkp/wheels/3e/0f/51/2f1df833dd0412c1bc2f5ee56baac195b5be563353d111dca6\u001b[0m\n",
      "\u001b[34mSuccessfully built xgboost-starter-script\u001b[0m\n",
      "\u001b[34mInstalling collected packages: xgboost-starter-script\u001b[0m\n",
      "\u001b[34mSuccessfully installed xgboost-starter-script-1.0.0\u001b[0m\n",
      "\u001b[34mWARNING: Running pip as the 'root' user can result in broken permissions and conflicting behaviour with the system package manager. It is recommended to use a virtual environment instead: https://pip.pypa.io/warnings/venv\u001b[0m\n",
      "\u001b[34m[notice] A new release of pip available: 22.2.2 -> 23.0\u001b[0m\n",
      "\u001b[34m[notice] To update, run: pip install --upgrade pip\u001b[0m\n",
      "\u001b[34m[2023-02-09:05:07:08:INFO] No GPUs detected (normal if no gpus installed)\u001b[0m\n",
      "\u001b[34m[2023-02-09:05:07:08:INFO] Invoking user script\u001b[0m\n",
      "\u001b[34mTraining Env:\u001b[0m\n",
      "\u001b[34m{\n",
      "    \"additional_framework_parameters\": {},\n",
      "    \"channel_input_dirs\": {\n",
      "        \"inputdata\": \"/opt/ml/input/data/inputdata\"\n",
      "    },\n",
      "    \"current_host\": \"algo-1\",\n",
      "    \"framework_module\": \"sagemaker_xgboost_container.training:main\",\n",
      "    \"hosts\": [\n",
      "        \"algo-1\"\n",
      "    ],\n",
      "    \"hyperparameters\": {\n",
      "        \"eta\": \"0.3\",\n",
      "        \"max_depth\": \"2\",\n",
      "        \"num_round\": \"100\",\n",
      "        \"objective\": \"binary:logistic\",\n",
      "        \"scale_pos_weight\": \"19\"\n",
      "    },\n",
      "    \"input_config_dir\": \"/opt/ml/input/config\",\n",
      "    \"input_data_config\": {\n",
      "        \"inputdata\": {\n",
      "            \"TrainingInputMode\": \"File\",\n",
      "            \"S3DistributionType\": \"FullyReplicated\",\n",
      "            \"RecordWrapperType\": \"None\"\n",
      "        }\n",
      "    },\n",
      "    \"input_dir\": \"/opt/ml/input\",\n",
      "    \"is_master\": true,\n",
      "    \"job_name\": \"titanic-xgboost-test-1-0209-05041675919068\",\n",
      "    \"log_level\": 20,\n",
      "    \"master_hostname\": \"algo-1\",\n",
      "    \"model_dir\": \"/opt/ml/model\",\n",
      "    \"module_dir\": \"s3://sagemaker-us-east-1-376278017302/titanic-ml/xgboost/code/titanic-xgboost-test-1-0209-05041675919068/source/sourcedir.tar.gz\",\n",
      "    \"module_name\": \"xgboost_starter_script\",\n",
      "    \"network_interface_name\": \"eth0\",\n",
      "    \"num_cpus\": 2,\n",
      "    \"num_gpus\": 0,\n",
      "    \"output_data_dir\": \"/opt/ml/output/data\",\n",
      "    \"output_dir\": \"/opt/ml/output\",\n",
      "    \"output_intermediate_dir\": \"/opt/ml/output/intermediate\",\n",
      "    \"resource_config\": {\n",
      "        \"current_host\": \"algo-1\",\n",
      "        \"current_instance_type\": \"ml.m5.large\",\n",
      "        \"current_group_name\": \"homogeneousCluster\",\n",
      "        \"hosts\": [\n",
      "            \"algo-1\"\n",
      "        ],\n",
      "        \"instance_groups\": [\n",
      "            {\n",
      "                \"instance_group_name\": \"homogeneousCluster\",\n",
      "                \"instance_type\": \"ml.m5.large\",\n",
      "                \"hosts\": [\n",
      "                    \"algo-1\"\n",
      "                ]\n",
      "            }\n",
      "        ],\n",
      "        \"network_interface_name\": \"eth0\"\n",
      "    },\n",
      "    \"user_entry_point\": \"xgboost_starter_script.py\"\u001b[0m\n",
      "\u001b[34m}\u001b[0m\n",
      "\u001b[34mEnvironment variables:\u001b[0m\n",
      "\u001b[34mSM_HOSTS=[\"algo-1\"]\u001b[0m\n",
      "\u001b[34mSM_NETWORK_INTERFACE_NAME=eth0\u001b[0m\n",
      "\u001b[34mSM_HPS={\"eta\":\"0.3\",\"max_depth\":\"2\",\"num_round\":\"100\",\"objective\":\"binary:logistic\",\"scale_pos_weight\":\"19\"}\u001b[0m\n",
      "\u001b[34mSM_USER_ENTRY_POINT=xgboost_starter_script.py\u001b[0m\n",
      "\u001b[34mSM_FRAMEWORK_PARAMS={}\u001b[0m\n",
      "\u001b[34mSM_RESOURCE_CONFIG={\"current_group_name\":\"homogeneousCluster\",\"current_host\":\"algo-1\",\"current_instance_type\":\"ml.m5.large\",\"hosts\":[\"algo-1\"],\"instance_groups\":[{\"hosts\":[\"algo-1\"],\"instance_group_name\":\"homogeneousCluster\",\"instance_type\":\"ml.m5.large\"}],\"network_interface_name\":\"eth0\"}\u001b[0m\n",
      "\u001b[34mSM_INPUT_DATA_CONFIG={\"inputdata\":{\"RecordWrapperType\":\"None\",\"S3DistributionType\":\"FullyReplicated\",\"TrainingInputMode\":\"File\"}}\u001b[0m\n",
      "\u001b[34mSM_OUTPUT_DATA_DIR=/opt/ml/output/data\u001b[0m\n",
      "\u001b[34mSM_CHANNELS=[\"inputdata\"]\u001b[0m\n",
      "\u001b[34mSM_CURRENT_HOST=algo-1\u001b[0m\n",
      "\u001b[34mSM_MODULE_NAME=xgboost_starter_script\u001b[0m\n",
      "\u001b[34mSM_LOG_LEVEL=20\u001b[0m\n",
      "\u001b[34mSM_FRAMEWORK_MODULE=sagemaker_xgboost_container.training:main\u001b[0m\n",
      "\u001b[34mSM_INPUT_DIR=/opt/ml/input\u001b[0m\n",
      "\u001b[34mSM_INPUT_CONFIG_DIR=/opt/ml/input/config\u001b[0m\n",
      "\u001b[34mSM_OUTPUT_DIR=/opt/ml/output\u001b[0m\n",
      "\u001b[34mSM_NUM_CPUS=2\u001b[0m\n",
      "\u001b[34mSM_NUM_GPUS=0\u001b[0m\n",
      "\u001b[34mSM_MODEL_DIR=/opt/ml/model\u001b[0m\n",
      "\u001b[34mSM_MODULE_DIR=s3://sagemaker-us-east-1-376278017302/titanic-ml/xgboost/code/titanic-xgboost-test-1-0209-05041675919068/source/sourcedir.tar.gz\u001b[0m\n",
      "\u001b[34mSM_TRAINING_ENV={\"additional_framework_parameters\":{},\"channel_input_dirs\":{\"inputdata\":\"/opt/ml/input/data/inputdata\"},\"current_host\":\"algo-1\",\"framework_module\":\"sagemaker_xgboost_container.training:main\",\"hosts\":[\"algo-1\"],\"hyperparameters\":{\"eta\":\"0.3\",\"max_depth\":\"2\",\"num_round\":\"100\",\"objective\":\"binary:logistic\",\"scale_pos_weight\":\"19\"},\"input_config_dir\":\"/opt/ml/input/config\",\"input_data_config\":{\"inputdata\":{\"RecordWrapperType\":\"None\",\"S3DistributionType\":\"FullyReplicated\",\"TrainingInputMode\":\"File\"}},\"input_dir\":\"/opt/ml/input\",\"is_master\":true,\"job_name\":\"titanic-xgboost-test-1-0209-05041675919068\",\"log_level\":20,\"master_hostname\":\"algo-1\",\"model_dir\":\"/opt/ml/model\",\"module_dir\":\"s3://sagemaker-us-east-1-376278017302/titanic-ml/xgboost/code/titanic-xgboost-test-1-0209-05041675919068/source/sourcedir.tar.gz\",\"module_name\":\"xgboost_starter_script\",\"network_interface_name\":\"eth0\",\"num_cpus\":2,\"num_gpus\":0,\"output_data_dir\":\"/opt/ml/output/data\",\"output_dir\":\"/opt/ml/output\",\"output_intermediate_dir\":\"/opt/ml/output/intermediate\",\"resource_config\":{\"current_group_name\":\"homogeneousCluster\",\"current_host\":\"algo-1\",\"current_instance_type\":\"ml.m5.large\",\"hosts\":[\"algo-1\"],\"instance_groups\":[{\"hosts\":[\"algo-1\"],\"instance_group_name\":\"homogeneousCluster\",\"instance_type\":\"ml.m5.large\"}],\"network_interface_name\":\"eth0\"},\"user_entry_point\":\"xgboost_starter_script.py\"}\u001b[0m\n",
      "\u001b[34mSM_USER_ARGS=[\"--eta\",\"0.3\",\"--max_depth\",\"2\",\"--num_round\",\"100\",\"--objective\",\"binary:logistic\",\"--scale_pos_weight\",\"19\"]\u001b[0m\n",
      "\u001b[34mSM_OUTPUT_INTERMEDIATE_DIR=/opt/ml/output/intermediate\u001b[0m\n",
      "\u001b[34mSM_CHANNEL_INPUTDATA=/opt/ml/input/data/inputdata\u001b[0m\n",
      "\u001b[34mSM_HP_ETA=0.3\u001b[0m\n",
      "\u001b[34mSM_HP_MAX_DEPTH=2\u001b[0m\n",
      "\u001b[34mSM_HP_NUM_ROUND=100\u001b[0m\n",
      "\u001b[34mSM_HP_OBJECTIVE=binary:logistic\u001b[0m\n",
      "\u001b[34mSM_HP_SCALE_POS_WEIGHT=19\u001b[0m\n",
      "\u001b[34mPYTHONPATH=/miniconda3/bin:/:/miniconda3/lib/python/site-packages/xgboost/dmlc-core/tracker:/miniconda3/lib/python37.zip:/miniconda3/lib/python3.7:/miniconda3/lib/python3.7/lib-dynload:/miniconda3/lib/python3.7/site-packages\u001b[0m\n",
      "\u001b[34mInvoking script with the following command:\u001b[0m\n",
      "\u001b[34m/miniconda3/bin/python3 -m xgboost_starter_script --eta 0.3 --max_depth 2 --num_round 100 --objective binary:logistic --scale_pos_weight 19\u001b[0m\n",
      "\u001b[34mcv_results:      train-auc-mean  train-auc-std  test-auc-mean  test-auc-std\u001b[0m\n",
      "\u001b[34m0         0.815562       0.014506       0.788403      0.035915\u001b[0m\n",
      "\u001b[34m1         0.827526       0.021710       0.787097      0.032307\u001b[0m\n",
      "\u001b[34m2         0.842727       0.029012       0.807611      0.026879\u001b[0m\n",
      "\u001b[34m3         0.846061       0.030179       0.803500      0.031659\u001b[0m\n",
      "\u001b[34m4         0.861013       0.017876       0.804472      0.037366\u001b[0m\n",
      "\u001b[34m..             ...            ...            ...           ...\u001b[0m\n",
      "\u001b[34m18        0.921633       0.010387       0.816069      0.042291\u001b[0m\n",
      "\u001b[34m19        0.924431       0.012690       0.820583      0.040137\u001b[0m\n",
      "\u001b[34m20        0.929020       0.009521       0.816361      0.038405\u001b[0m\n",
      "\u001b[34m21        0.930484       0.008811       0.823861      0.037952\u001b[0m\n",
      "\u001b[34m22        0.932451       0.007594       0.829167      0.037771\u001b[0m\n",
      "\u001b[34m[23 rows x 4 columns]\u001b[0m\n",
      "\u001b[34m[0]#011train-auc:0.9324512\u001b[0m\n",
      "\u001b[34m[1]#011validation-auc:0.8291666\u001b[0m\n",
      "\u001b[34m[05:07:10] WARNING: ../src/learner.cc:1061: Starting in XGBoost 1.3.0, the default evaluation metric used with the objective 'binary:logistic' was changed from 'error' to 'logloss'. Explicitly set eval_metric if you'd like to restore the old behavior.\u001b[0m\n",
      "\n",
      "2023-02-09 05:07:28 Uploading - Uploading generated training model\n",
      "2023-02-09 05:07:28 Completed - Training job completed\n",
      "Training seconds: 102\n",
      "Billable seconds: 102\n"
     ]
    }
   ],
   "source": [
    "estimator.logs()"
   ]
  },
  {
   "cell_type": "markdown",
   "id": "6ebe14a4-d0f2-43ef-9c23-f55ef40f9d05",
   "metadata": {},
   "source": [
    "## 3-7. 실험 결과 보기"
   ]
  },
  {
   "cell_type": "markdown",
   "id": "35bdbb32-8410-4861-b235-f803f68e1658",
   "metadata": {},
   "source": [
    "> 훈련 Job 시도에 대한 훈련 데이터, 모델 입력 하이퍼파라미터, 모델 평가 지표, 모델 아티펙트 결과 위치 등의 확인이 가능 합니다.\n",
    "\n",
    "> 아래의 내용은 SageMaker Studio 에서 직관적으로 확인이 가능 합니다."
   ]
  },
  {
   "cell_type": "code",
   "execution_count": 23,
   "id": "4f759161-facd-49e3-980b-5c7b0726e07e",
   "metadata": {},
   "outputs": [],
   "source": [
    "from sagemaker.analytics import ExperimentAnalytics\n",
    "import pandas as pd\n",
    "pd.options.display.max_columns = 50\n",
    "pd.options.display.max_rows = 10\n",
    "pd.options.display.max_colwidth = 100"
   ]
  },
  {
   "cell_type": "code",
   "execution_count": 24,
   "id": "e9f56e53-bb35-4105-a4ee-4b42037e27dd",
   "metadata": {},
   "outputs": [
    {
     "data": {
      "text/html": [
       "<div>\n",
       "<style scoped>\n",
       "    .dataframe tbody tr th:only-of-type {\n",
       "        vertical-align: middle;\n",
       "    }\n",
       "\n",
       "    .dataframe tbody tr th {\n",
       "        vertical-align: top;\n",
       "    }\n",
       "\n",
       "    .dataframe thead th {\n",
       "        text-align: right;\n",
       "    }\n",
       "</style>\n",
       "<table border=\"1\" class=\"dataframe\">\n",
       "  <thead>\n",
       "    <tr style=\"text-align: right;\">\n",
       "      <th></th>\n",
       "      <th>Experiments</th>\n",
       "      <th>Trials</th>\n",
       "      <th>validation:auc - Min</th>\n",
       "      <th>validation:auc - Max</th>\n",
       "      <th>validation:auc - Avg</th>\n",
       "      <th>validation:auc - StdDev</th>\n",
       "      <th>validation:auc - Last</th>\n",
       "      <th>eta</th>\n",
       "      <th>max_depth</th>\n",
       "      <th>num_round</th>\n",
       "      <th>scale_pos_weight</th>\n",
       "    </tr>\n",
       "  </thead>\n",
       "  <tbody>\n",
       "    <tr>\n",
       "      <th>0</th>\n",
       "      <td>[titanic-xgboost-test-1]</td>\n",
       "      <td>[titanic-xgboost-test-1-0207-13081675775298]</td>\n",
       "      <td>0.85175</td>\n",
       "      <td>0.851750</td>\n",
       "      <td>0.85175</td>\n",
       "      <td>0.0</td>\n",
       "      <td>0.851750</td>\n",
       "      <td>\"0.3\"</td>\n",
       "      <td>\"2\"</td>\n",
       "      <td>\"100\"</td>\n",
       "      <td>\"19\"</td>\n",
       "    </tr>\n",
       "    <tr>\n",
       "      <th>1</th>\n",
       "      <td>[titanic-xgboost-test-1]</td>\n",
       "      <td>[titanic-xgboost-test-1-0207-13531675777997]</td>\n",
       "      <td>0.85175</td>\n",
       "      <td>0.851750</td>\n",
       "      <td>0.85175</td>\n",
       "      <td>0.0</td>\n",
       "      <td>0.851750</td>\n",
       "      <td>\"0.3\"</td>\n",
       "      <td>\"2\"</td>\n",
       "      <td>\"100\"</td>\n",
       "      <td>\"19\"</td>\n",
       "    </tr>\n",
       "    <tr>\n",
       "      <th>2</th>\n",
       "      <td>[titanic-xgboost-test-1]</td>\n",
       "      <td>[titanic-xgboost-test-1-0209-05041675919068]</td>\n",
       "      <td>0.00000</td>\n",
       "      <td>0.829167</td>\n",
       "      <td>0.00000</td>\n",
       "      <td>0.0</td>\n",
       "      <td>0.829167</td>\n",
       "      <td>\"0.3\"</td>\n",
       "      <td>\"2\"</td>\n",
       "      <td>\"100\"</td>\n",
       "      <td>\"19\"</td>\n",
       "    </tr>\n",
       "    <tr>\n",
       "      <th>3</th>\n",
       "      <td>[titanic-xgboost-test-1]</td>\n",
       "      <td>[titanic-xgboost-test-1-0207-13331675776789]</td>\n",
       "      <td>NaN</td>\n",
       "      <td>NaN</td>\n",
       "      <td>NaN</td>\n",
       "      <td>NaN</td>\n",
       "      <td>NaN</td>\n",
       "      <td>NaN</td>\n",
       "      <td>NaN</td>\n",
       "      <td>NaN</td>\n",
       "      <td>NaN</td>\n",
       "    </tr>\n",
       "    <tr>\n",
       "      <th>4</th>\n",
       "      <td>[titanic-xgboost-test-1]</td>\n",
       "      <td>[titanic-xgboost-test-1-0207-13571675778239]</td>\n",
       "      <td>NaN</td>\n",
       "      <td>NaN</td>\n",
       "      <td>NaN</td>\n",
       "      <td>NaN</td>\n",
       "      <td>NaN</td>\n",
       "      <td>NaN</td>\n",
       "      <td>NaN</td>\n",
       "      <td>NaN</td>\n",
       "      <td>NaN</td>\n",
       "    </tr>\n",
       "    <tr>\n",
       "      <th>...</th>\n",
       "      <td>...</td>\n",
       "      <td>...</td>\n",
       "      <td>...</td>\n",
       "      <td>...</td>\n",
       "      <td>...</td>\n",
       "      <td>...</td>\n",
       "      <td>...</td>\n",
       "      <td>...</td>\n",
       "      <td>...</td>\n",
       "      <td>...</td>\n",
       "      <td>...</td>\n",
       "    </tr>\n",
       "    <tr>\n",
       "      <th>6</th>\n",
       "      <td>[titanic-xgboost-test-1]</td>\n",
       "      <td>[titanic-xgboost-test-1-0207-13401675777253]</td>\n",
       "      <td>NaN</td>\n",
       "      <td>NaN</td>\n",
       "      <td>NaN</td>\n",
       "      <td>NaN</td>\n",
       "      <td>NaN</td>\n",
       "      <td>NaN</td>\n",
       "      <td>NaN</td>\n",
       "      <td>NaN</td>\n",
       "      <td>NaN</td>\n",
       "    </tr>\n",
       "    <tr>\n",
       "      <th>7</th>\n",
       "      <td>[titanic-xgboost-test-1]</td>\n",
       "      <td>[titanic-xgboost-test-1-0207-11431675770235]</td>\n",
       "      <td>NaN</td>\n",
       "      <td>NaN</td>\n",
       "      <td>NaN</td>\n",
       "      <td>NaN</td>\n",
       "      <td>NaN</td>\n",
       "      <td>NaN</td>\n",
       "      <td>\"5\"</td>\n",
       "      <td>NaN</td>\n",
       "      <td>NaN</td>\n",
       "    </tr>\n",
       "    <tr>\n",
       "      <th>8</th>\n",
       "      <td>[titanic-xgboost-test-1]</td>\n",
       "      <td>[titanic-xgboost-test-1-0207-11251675769119]</td>\n",
       "      <td>NaN</td>\n",
       "      <td>NaN</td>\n",
       "      <td>NaN</td>\n",
       "      <td>NaN</td>\n",
       "      <td>NaN</td>\n",
       "      <td>\"0.3\"</td>\n",
       "      <td>\"2\"</td>\n",
       "      <td>\"100\"</td>\n",
       "      <td>\"19\"</td>\n",
       "    </tr>\n",
       "    <tr>\n",
       "      <th>9</th>\n",
       "      <td>[titanic-xgboost-test-1]</td>\n",
       "      <td>[titanic-xgboost-test-1-0207-13221675776126]</td>\n",
       "      <td>NaN</td>\n",
       "      <td>NaN</td>\n",
       "      <td>NaN</td>\n",
       "      <td>NaN</td>\n",
       "      <td>NaN</td>\n",
       "      <td>NaN</td>\n",
       "      <td>NaN</td>\n",
       "      <td>NaN</td>\n",
       "      <td>NaN</td>\n",
       "    </tr>\n",
       "    <tr>\n",
       "      <th>10</th>\n",
       "      <td>[titanic-xgboost-test-1]</td>\n",
       "      <td>[titanic-xgboost-test-1-0207-12151675772149]</td>\n",
       "      <td>NaN</td>\n",
       "      <td>NaN</td>\n",
       "      <td>NaN</td>\n",
       "      <td>NaN</td>\n",
       "      <td>NaN</td>\n",
       "      <td>\"0.3\"</td>\n",
       "      <td>\"2\"</td>\n",
       "      <td>\"100\"</td>\n",
       "      <td>\"19\"</td>\n",
       "    </tr>\n",
       "  </tbody>\n",
       "</table>\n",
       "<p>11 rows × 11 columns</p>\n",
       "</div>"
      ],
      "text/plain": [
       "                 Experiments                                        Trials  \\\n",
       "0   [titanic-xgboost-test-1]  [titanic-xgboost-test-1-0207-13081675775298]   \n",
       "1   [titanic-xgboost-test-1]  [titanic-xgboost-test-1-0207-13531675777997]   \n",
       "2   [titanic-xgboost-test-1]  [titanic-xgboost-test-1-0209-05041675919068]   \n",
       "3   [titanic-xgboost-test-1]  [titanic-xgboost-test-1-0207-13331675776789]   \n",
       "4   [titanic-xgboost-test-1]  [titanic-xgboost-test-1-0207-13571675778239]   \n",
       "..                       ...                                           ...   \n",
       "6   [titanic-xgboost-test-1]  [titanic-xgboost-test-1-0207-13401675777253]   \n",
       "7   [titanic-xgboost-test-1]  [titanic-xgboost-test-1-0207-11431675770235]   \n",
       "8   [titanic-xgboost-test-1]  [titanic-xgboost-test-1-0207-11251675769119]   \n",
       "9   [titanic-xgboost-test-1]  [titanic-xgboost-test-1-0207-13221675776126]   \n",
       "10  [titanic-xgboost-test-1]  [titanic-xgboost-test-1-0207-12151675772149]   \n",
       "\n",
       "    validation:auc - Min  validation:auc - Max  validation:auc - Avg  \\\n",
       "0                0.85175              0.851750               0.85175   \n",
       "1                0.85175              0.851750               0.85175   \n",
       "2                0.00000              0.829167               0.00000   \n",
       "3                    NaN                   NaN                   NaN   \n",
       "4                    NaN                   NaN                   NaN   \n",
       "..                   ...                   ...                   ...   \n",
       "6                    NaN                   NaN                   NaN   \n",
       "7                    NaN                   NaN                   NaN   \n",
       "8                    NaN                   NaN                   NaN   \n",
       "9                    NaN                   NaN                   NaN   \n",
       "10                   NaN                   NaN                   NaN   \n",
       "\n",
       "    validation:auc - StdDev  validation:auc - Last    eta max_depth num_round  \\\n",
       "0                       0.0               0.851750  \"0.3\"       \"2\"     \"100\"   \n",
       "1                       0.0               0.851750  \"0.3\"       \"2\"     \"100\"   \n",
       "2                       0.0               0.829167  \"0.3\"       \"2\"     \"100\"   \n",
       "3                       NaN                    NaN    NaN       NaN       NaN   \n",
       "4                       NaN                    NaN    NaN       NaN       NaN   \n",
       "..                      ...                    ...    ...       ...       ...   \n",
       "6                       NaN                    NaN    NaN       NaN       NaN   \n",
       "7                       NaN                    NaN    NaN       \"5\"       NaN   \n",
       "8                       NaN                    NaN  \"0.3\"       \"2\"     \"100\"   \n",
       "9                       NaN                    NaN    NaN       NaN       NaN   \n",
       "10                      NaN                    NaN  \"0.3\"       \"2\"     \"100\"   \n",
       "\n",
       "   scale_pos_weight  \n",
       "0              \"19\"  \n",
       "1              \"19\"  \n",
       "2              \"19\"  \n",
       "3               NaN  \n",
       "4               NaN  \n",
       "..              ...  \n",
       "6               NaN  \n",
       "7               NaN  \n",
       "8              \"19\"  \n",
       "9               NaN  \n",
       "10             \"19\"  \n",
       "\n",
       "[11 rows x 11 columns]"
      ]
     },
     "execution_count": 24,
     "metadata": {},
     "output_type": "execute_result"
    }
   ],
   "source": [
    "trial_component_training_analytics = ExperimentAnalytics(\n",
    "    sagemaker_session= sagemaker_session,\n",
    "    experiment_name= experiment_name,\n",
    "    sort_by=\"metrics.validation:auc.max\",        \n",
    "    sort_order=\"Descending\",\n",
    "    metric_names=[\"validation:auc\"]\n",
    ")\n",
    "\n",
    "trial_component_training_analytics.dataframe()[['Experiments', 'Trials', 'validation:auc - Min', 'validation:auc - Max',\n",
    "                                                'validation:auc - Avg', 'validation:auc - StdDev', 'validation:auc - Last', \n",
    "                                                'eta', 'max_depth', 'num_round', 'scale_pos_weight']]"
   ]
  },
  {
   "cell_type": "markdown",
   "id": "88a5a739-750c-4997-a124-0a089c8de0b9",
   "metadata": {},
   "source": [
    "## 3-8. Evaluation 하기 "
   ]
  },
  {
   "cell_type": "markdown",
   "id": "e1c38fa4-83c5-4a63-a3de-a57f7a7f515c",
   "metadata": {},
   "source": [
    "> SageMaker Processing을 이용하여 Evaluation을 수행하는 코드를 동작할 수 있습니다.\n",
    "\n",
    "> MLOPs에서 Processing을 적용하면 전처리, Evaluation 등을 serverless로 동작할 수 있습니다."
   ]
  },
  {
   "cell_type": "code",
   "execution_count": 25,
   "id": "9edf2364-e6da-46cf-97c4-6e958bfd0cd0",
   "metadata": {},
   "outputs": [],
   "source": [
    "from sagemaker.processing import FrameworkProcessor\n",
    "from sagemaker.processing import ProcessingInput, ProcessingOutput"
   ]
  },
  {
   "cell_type": "code",
   "execution_count": 26,
   "id": "a7892146-8d54-49bd-931f-a359e154f2ff",
   "metadata": {},
   "outputs": [],
   "source": [
    "instance_count = 1\n",
    "instance_type = \"ml.m5.large\"\n",
    "# instance_type = 'local'"
   ]
  },
  {
   "cell_type": "code",
   "execution_count": 27,
   "id": "e11b6415-d021-4804-b5ca-8e307f006fab",
   "metadata": {},
   "outputs": [
    {
     "name": "stderr",
     "output_type": "stream",
     "text": [
      "INFO:botocore.credentials:Found credentials from IAM Role: BaseNotebookInstanceEc2InstanceRole\n",
      "INFO:sagemaker.image_uris:Ignoring unnecessary Python version: py3.\n",
      "INFO:sagemaker.image_uris:Ignoring unnecessary instance type: ml.m5.large.\n"
     ]
    }
   ],
   "source": [
    "script_eval = FrameworkProcessor(\n",
    "    XGBoost,\n",
    "    framework_version=\"1.3-1\",\n",
    "    role=role,\n",
    "    instance_type=instance_type,\n",
    "    instance_count=instance_count\n",
    ")"
   ]
  },
  {
   "cell_type": "code",
   "execution_count": 28,
   "id": "42684bd3-071f-455e-83f2-4daadd529551",
   "metadata": {},
   "outputs": [],
   "source": [
    "artifacts_dir = estimator.model_data"
   ]
  },
  {
   "cell_type": "code",
   "execution_count": 29,
   "id": "7ec1469a-7ed0-4141-9b28-f4d28688bda7",
   "metadata": {},
   "outputs": [],
   "source": [
    "s3_test_path = data_path + '/test.csv'\n",
    "detect_outputpath = f's3://{bucket}/xgboost/processing'"
   ]
  },
  {
   "cell_type": "code",
   "execution_count": 30,
   "id": "894f84ea-cbfc-49ac-bc79-f5e78b84e680",
   "metadata": {},
   "outputs": [],
   "source": [
    "source_dir='src'\n",
    "\n",
    "if instance_type == 'local':\n",
    "    from sagemaker.local import LocalSession\n",
    "    from pathlib import Path\n",
    "\n",
    "    sagemaker_session = LocalSession()\n",
    "    sagemaker_session.config = {'local': {'local_code': True}}\n",
    "    source_dir = f'{Path.cwd()}/src'\n",
    "    s3_test_path=f'./dataset/test.csv'"
   ]
  },
  {
   "cell_type": "code",
   "execution_count": 31,
   "id": "74299cb4-f613-4017-bb90-3b566fee9b3a",
   "metadata": {},
   "outputs": [
    {
     "name": "stderr",
     "output_type": "stream",
     "text": [
      "INFO:botocore.credentials:Found credentials from IAM Role: BaseNotebookInstanceEc2InstanceRole\n",
      "INFO:botocore.credentials:Found credentials from IAM Role: BaseNotebookInstanceEc2InstanceRole\n",
      "INFO:sagemaker.processing:Uploaded src to s3://sagemaker-us-east-1-376278017302/titanic-xgboost-test-1-0209-05071675919263/source/sourcedir.tar.gz\n",
      "INFO:sagemaker.processing:runproc.sh uploaded to s3://sagemaker-us-east-1-376278017302/titanic-xgboost-test-1-0209-05071675919263/source/runproc.sh\n",
      "INFO:sagemaker:Creating processing-job with name titanic-xgboost-test-1-0209-05071675919263\n"
     ]
    },
    {
     "name": "stdout",
     "output_type": "stream",
     "text": [
      "\n",
      "Job Name:  titanic-xgboost-test-1-0209-05071675919263\n",
      "Inputs:  [{'InputName': 'test_data', 'AppManaged': False, 'S3Input': {'S3Uri': 's3://sagemaker-us-east-1-376278017302/titanic-ml/input/test.csv', 'LocalPath': '/opt/ml/processing/test', 'S3DataType': 'S3Prefix', 'S3InputMode': 'File', 'S3DataDistributionType': 'FullyReplicated', 'S3CompressionType': 'None'}}, {'InputName': 'model_weight', 'AppManaged': False, 'S3Input': {'S3Uri': 's3://sagemaker-us-east-1-376278017302/titanic-ml/xgboost/output/titanic-xgboost-test-1-0209-05041675919068/output/model.tar.gz', 'LocalPath': '/opt/ml/processing/model', 'S3DataType': 'S3Prefix', 'S3InputMode': 'File', 'S3DataDistributionType': 'FullyReplicated', 'S3CompressionType': 'None'}}, {'InputName': 'code', 'AppManaged': False, 'S3Input': {'S3Uri': 's3://sagemaker-us-east-1-376278017302/titanic-xgboost-test-1-0209-05071675919263/source/sourcedir.tar.gz', 'LocalPath': '/opt/ml/processing/input/code/', 'S3DataType': 'S3Prefix', 'S3InputMode': 'File', 'S3DataDistributionType': 'FullyReplicated', 'S3CompressionType': 'None'}}, {'InputName': 'entrypoint', 'AppManaged': False, 'S3Input': {'S3Uri': 's3://sagemaker-us-east-1-376278017302/titanic-xgboost-test-1-0209-05071675919263/source/runproc.sh', 'LocalPath': '/opt/ml/processing/input/entrypoint', 'S3DataType': 'S3Prefix', 'S3InputMode': 'File', 'S3DataDistributionType': 'FullyReplicated', 'S3CompressionType': 'None'}}]\n",
      "Outputs:  [{'OutputName': 'evaluation', 'AppManaged': False, 'S3Output': {'S3Uri': 's3://sagemaker-us-east-1-376278017302/xgboost/processing/titanic-xgboost-test-1-0209-05071675919263', 'LocalPath': '/opt/ml/processing/output', 'S3UploadMode': 'EndOfJob'}}]\n"
     ]
    }
   ],
   "source": [
    "create_experiment(experiment_name)\n",
    "job_name = create_trial(experiment_name)\n",
    "\n",
    "script_eval.run(\n",
    "    code=\"evaluation.py\",\n",
    "    source_dir=source_dir,\n",
    "    inputs=[ProcessingInput(source=s3_test_path, input_name=\"test_data\", destination=\"/opt/ml/processing/test\"),\n",
    "            ProcessingInput(source=artifacts_dir, input_name=\"model_weight\", destination=\"/opt/ml/processing/model\")\n",
    "    ],\n",
    "    outputs=[\n",
    "        ProcessingOutput(source=\"/opt/ml/processing/output\", output_name='evaluation', destination=detect_outputpath + \"/\" + job_name),\n",
    "    ],\n",
    "    job_name=job_name,\n",
    "    experiment_config={\n",
    "        'TrialName': job_name,\n",
    "        'TrialComponentDisplayName': job_name,\n",
    "    },\n",
    "    wait=False\n",
    ")"
   ]
  },
  {
   "cell_type": "code",
   "execution_count": 32,
   "id": "2280d6eb-b6c8-4b58-bd96-a88719250480",
   "metadata": {},
   "outputs": [
    {
     "name": "stdout",
     "output_type": "stream",
     "text": [
      ".............................\u001b[34mRequirement already satisfied: xgboost in /miniconda3/lib/python3.7/site-packages (1.3.3)\u001b[0m\n",
      "\u001b[34mRequirement already satisfied: scipy in /miniconda3/lib/python3.7/site-packages (from xgboost) (1.6.2)\u001b[0m\n",
      "\u001b[34mRequirement already satisfied: numpy in /miniconda3/lib/python3.7/site-packages (from xgboost) (1.21.6)\u001b[0m\n",
      "\u001b[34mWARNING: Running pip as the 'root' user can result in broken permissions and conflicting behaviour with the system package manager. It is recommended to use a virtual environment instead: https://pip.pypa.io/warnings/venv\u001b[0m\n",
      "\u001b[34m[notice] A new release of pip available: 22.2.2 -> 23.0\u001b[0m\n",
      "\u001b[34m[notice] To update, run: pip install --upgrade pip\u001b[0m\n",
      "\u001b[34m#############################################\u001b[0m\n",
      "\u001b[34margs.model_path: /opt/ml/processing/model/model.tar.gz\u001b[0m\n",
      "\u001b[34margs.test_path: /opt/ml/processing/test/test.csv\u001b[0m\n",
      "\u001b[34margs.output_evaluation_dir: /opt/ml/processing/output\u001b[0m\n",
      "\u001b[34m****** All folder and files under /opt/ml/processing ****** \u001b[0m\n",
      "\u001b[34m('/opt/ml/processing', ['model', 'test', 'output', 'input'], [])\u001b[0m\n",
      "\u001b[34m('/opt/ml/processing/model', [], ['model.tar.gz'])\u001b[0m\n",
      "\u001b[34m('/opt/ml/processing/test', [], ['test.csv'])\u001b[0m\n",
      "\u001b[34m('/opt/ml/processing/output', [], [])\u001b[0m\n",
      "\u001b[34m('/opt/ml/processing/input', ['entrypoint', 'code'], [])\u001b[0m\n",
      "\u001b[34m('/opt/ml/processing/input/entrypoint', [], ['runproc.sh'])\u001b[0m\n",
      "\u001b[34m('/opt/ml/processing/input/code', ['.ipynb_checkpoints', '__pycache__'], ['sourcedir.tar.gz', 'xgboost_starter_script.py', 'xgboost_starter_script_pipeline.py', 'evaluation.py', 'inference.py', 'p_utils.py', 'eda_utils.py', 'deploy_model.py'])\u001b[0m\n",
      "\u001b[34m('/opt/ml/processing/input/code/.ipynb_checkpoints', [], ['deploy_model-checkpoint.py', 'p_utils-checkpoint.py', 'inference-checkpoint.py', 'xgboost_starter_script_pipeline-checkpoint.py', 'evaluation-checkpoint.py', 'xgboost_starter_script-checkpoint.py', 'eda_utils-checkpoint.py'])\u001b[0m\n",
      "\u001b[34m('/opt/ml/processing/input/code/__pycache__', [], ['p_utils.cpython-310.pyc', 'eda_utils.cpython-310.pyc'])\u001b[0m\n",
      "\u001b[34m************************************************* \u001b[0m\n",
      "\u001b[34m/miniconda3/lib/python3.7/site-packages/xgboost/sklearn.py:472: UserWarning: Loading a native XGBoost model with Scikit-Learn interface.\n",
      "  'Loading a native XGBoost model with Scikit-Learn interface.')\u001b[0m\n",
      "\u001b[34mmodel is loaded\u001b[0m\n",
      "\u001b[34mtest df sample \u001b[0m\n",
      "\u001b[34m:    PassengerId  Pclass  Sex   Age  SibSp  Parch  Embarked\u001b[0m\n",
      "\u001b[34m0          904       1    1  23.0      1      0         0\u001b[0m\n",
      "\u001b[34m1          906       1    1  47.0      1      0         0\u001b[0m\n",
      "\u001b[34m/miniconda3/lib/python3.7/site-packages/sklearn/metrics/_classification.py:1245: UndefinedMetricWarning: Precision and F-score are ill-defined and being set to 0.0 in labels with no predicted samples. Use `zero_division` parameter to control this behavior.\n",
      "  _warn_prf(average, modifier, msg_start, len(result))\u001b[0m\n",
      "\u001b[34m/miniconda3/lib/python3.7/site-packages/sklearn/metrics/_classification.py:1245: UndefinedMetricWarning: Recall and F-score are ill-defined and being set to 0.0 in labels with no true samples. Use `zero_division` parameter to control this behavior.\n",
      "  _warn_prf(average, modifier, msg_start, len(result))\u001b[0m\n",
      "\u001b[34m/miniconda3/lib/python3.7/site-packages/sklearn/metrics/_classification.py:1245: UndefinedMetricWarning: Precision and F-score are ill-defined and being set to 0.0 in labels with no predicted samples. Use `zero_division` parameter to control this behavior.\n",
      "  _warn_prf(average, modifier, msg_start, len(result))\u001b[0m\n",
      "\u001b[34m/miniconda3/lib/python3.7/site-packages/sklearn/metrics/_classification.py:1245: UndefinedMetricWarning: Recall and F-score are ill-defined and being set to 0.0 in labels with no true samples. Use `zero_division` parameter to control this behavior.\n",
      "  _warn_prf(average, modifier, msg_start, len(result))\u001b[0m\n",
      "\u001b[34m/miniconda3/lib/python3.7/site-packages/sklearn/metrics/_classification.py:1245: UndefinedMetricWarning: Precision and F-score are ill-defined and being set to 0.0 in labels with no predicted samples. Use `zero_division` parameter to control this behavior.\n",
      "  _warn_prf(average, modifier, msg_start, len(result))\u001b[0m\n",
      "\u001b[34m/miniconda3/lib/python3.7/site-packages/sklearn/metrics/_classification.py:1245: UndefinedMetricWarning: Recall and F-score are ill-defined and being set to 0.0 in labels with no true samples. Use `zero_division` parameter to control this behavior.\n",
      "  _warn_prf(average, modifier, msg_start, len(result))\n",
      "              precision    recall  f1-score   support\n",
      "           1       0.00      0.00      0.00       0.0\n",
      "         904       0.00      0.00      0.00       1.0\n",
      "         906       0.00      0.00      0.00       1.0\n",
      "         916       0.00      0.00      0.00       1.0\n",
      "         918       0.00      0.00      0.00       1.0\n",
      "         920       0.00      0.00      0.00       1.0\n",
      "         926       0.00      0.00      0.00       1.0\n",
      "         936       0.00      0.00      0.00       1.0\n",
      "         938       0.00      0.00      0.00       1.0\n",
      "         940       0.00      0.00      0.00       1.0\n",
      "         942       0.00      0.00      0.00       1.0\n",
      "         945       0.00      0.00      0.00       1.0\n",
      "         949       0.00      0.00      0.00       1.0\n",
      "         951       0.00      0.00      0.00       1.0\n",
      "         956       0.00      0.00      0.00       1.0\n",
      "         960       0.00      0.00      0.00       1.0\n",
      "         961       0.00      0.00      0.00       1.0\n",
      "         965       0.00      0.00      0.00       1.0\n",
      "         966       0.00      0.00      0.00       1.0\n",
      "         967       0.00      0.00      0.00       1.0\n",
      "         969       0.00      0.00      0.00       1.0\n",
      "         973       0.00      0.00      0.00       1.0\n",
      "         984       0.00      0.00      0.00       1.0\n",
      "         988       0.00      0.00      0.00       1.0\n",
      "         992       0.00      0.00      0.00       1.0\n",
      "        1001       0.00      0.00      0.00       1.0\n",
      "        1004       0.00      0.00      0.00       1.0\n",
      "        1006       0.00      0.00      0.00       1.0\n",
      "        1009       0.00      0.00      0.00       1.0\n",
      "        1010       0.00      0.00      0.00       1.0\n",
      "        1014       0.00      0.00      0.00       1.0\n",
      "        1023       0.00      0.00      0.00       1.0\n",
      "        1034       0.00      0.00      0.00       1.0\n",
      "        1042       0.00      0.00      0.00       1.0\n",
      "        1048       0.00      0.00      0.00       1.0\n",
      "        1050       0.00      0.00      0.00       1.0\n",
      "        1058       0.00      0.00      0.00       1.0\n",
      "        1069       0.00      0.00      0.00       1.0\n",
      "        1070       0.00      0.00      0.00       1.0\n",
      "        1071       0.00      0.00      0.00       1.0\n",
      "        1073       0.00      0.00      0.00       1.0\n",
      "        1074       0.00      0.00      0.00       1.0\n",
      "        1076       0.00      0.00      0.00       1.0\n",
      "        1088       0.00      0.00      0.00       1.0\n",
      "        1094       0.00      0.00      0.00       1.0\n",
      "        1100       0.00      0.00      0.00       1.0\n",
      "        1107       0.00      0.00      0.00       1.0\n",
      "        1110       0.00      0.00      0.00       1.0\n",
      "        1114       0.00      0.00      0.00       1.0\n",
      "        1126       0.00      0.00      0.00       1.0\n",
      "        1128       0.00      0.00      0.00       1.0\n",
      "        1131       0.00      0.00      0.00       1.0\n",
      "        1134       0.00      0.00      0.00       1.0\n",
      "        1137       0.00      0.00      0.00       1.0\n",
      "        1144       0.00      0.00      0.00       1.0\n",
      "        1162       0.00      0.00      0.00       1.0\n",
      "        1164       0.00      0.00      0.00       1.0\n",
      "        1179       0.00      0.00      0.00       1.0\n",
      "        1185       0.00      0.00      0.00       1.0\n",
      "        1197       0.00      0.00      0.00       1.0\n",
      "        1198       0.00      0.00      0.00       1.0\n",
      "        1200       0.00      0.00      0.00       1.0\n",
      "        1206       0.00      0.00      0.00       1.0\n",
      "        1208       0.00      0.00      0.00       1.0\n",
      "        1213       0.00      0.00      0.00       1.0\n",
      "        1214       0.00      0.00      0.00       1.0\n",
      "        1218       0.00      0.00      0.00       1.0\n",
      "        1223       0.00      0.00      0.00       1.0\n",
      "        1227       0.00      0.00      0.00       1.0\n",
      "        1235       0.00      0.00      0.00       1.0\n",
      "        1242       0.00      0.00      0.00       1.0\n",
      "        1247       0.00      0.00      0.00       1.0\n",
      "        1248       0.00      0.00      0.00       1.0\n",
      "        1256       0.00      0.00      0.00       1.0\n",
      "        1263       0.00      0.00      0.00       1.0\n",
      "        1264       0.00      0.00      0.00       1.0\n",
      "        1266       0.00      0.00      0.00       1.0\n",
      "        1270       0.00      0.00      0.00       1.0\n",
      "        1282       0.00      0.00      0.00       1.0\n",
      "        1283       0.00      0.00      0.00       1.0\n",
      "        1287       0.00      0.00      0.00       1.0\n",
      "        1289       0.00      0.00      0.00       1.0\n",
      "        1292       0.00      0.00      0.00       1.0\n",
      "        1296       0.00      0.00      0.00       1.0\n",
      "        1297       0.00      0.00      0.00       1.0\n",
      "        1299       0.00      0.00      0.00       1.0\n",
      "        1303       0.00      0.00      0.00       1.0\n",
      "        1306       0.00      0.00      0.00       1.0\n",
      "    accuracy                           0.00      87.0\n",
      "   macro avg       0.00      0.00      0.00      87.0\u001b[0m\n",
      "\u001b[34mweighted avg       0.00      0.00      0.00      87.0\u001b[0m\n",
      "\u001b[34m[[0 0 0 ... 0 0 0]\n",
      " [1 0 0 ... 0 0 0]\n",
      " [1 0 0 ... 0 0 0]\n",
      " ...\n",
      " [1 0 0 ... 0 0 0]\n",
      " [1 0 0 ... 0 0 0]\n",
      " [1 0 0 ... 0 0 0]]\u001b[0m\n",
      "\u001b[34mevaluation_path \u001b[0m\n",
      "\u001b[34m: /opt/ml/processing/output/evaluation.json\u001b[0m\n",
      "\u001b[34mreport_dict \u001b[0m\n",
      "\u001b[34m: {'regression_metrics': {'mse': {'value': 1229652.1264367816, 'standard_deviation': 126.02133627469296}}}\u001b[0m\n",
      "\n"
     ]
    }
   ],
   "source": [
    "script_eval.latest_job.wait()"
   ]
  },
  {
   "cell_type": "markdown",
   "id": "4237710a-068c-4791-baa2-cd6326a56d84",
   "metadata": {},
   "source": [
    "## 3-9. 실험 결과 확인"
   ]
  },
  {
   "cell_type": "code",
   "execution_count": 33,
   "id": "7f0b4dac-88b4-4321-9722-406ffb0e8b53",
   "metadata": {},
   "outputs": [
    {
     "name": "stdout",
     "output_type": "stream",
     "text": [
      "s3://sagemaker-us-east-1-376278017302/titanic-ml/xgboost/output/titanic-xgboost-test-1-0209-05041675919068/output/\n",
      "2023-02-09 05:07:24    2.6 KiB model.tar.gz\n",
      "2023-02-09 05:07:24  186 Bytes output.tar.gz\n"
     ]
    }
   ],
   "source": [
    "artifacts_dir = estimator.model_data.replace('model.tar.gz', '')\n",
    "print(artifacts_dir)\n",
    "!aws s3 ls --human-readable {artifacts_dir}"
   ]
  },
  {
   "cell_type": "code",
   "execution_count": 34,
   "id": "2889d558-e9fc-454d-8156-eb8ac768de67",
   "metadata": {},
   "outputs": [
    {
     "name": "stdout",
     "output_type": "stream",
     "text": [
      "download: s3://sagemaker-us-east-1-376278017302/titanic-ml/xgboost/output/titanic-xgboost-test-1-0209-05041675919068/output/model.tar.gz to model/model.tar.gz\n",
      "xgboost-model\n"
     ]
    }
   ],
   "source": [
    "model_dir = './model'\n",
    "\n",
    "!rm -rf $model_dir\n",
    "\n",
    "import json , os\n",
    "\n",
    "if not os.path.exists(model_dir):\n",
    "    os.makedirs(model_dir)\n",
    "\n",
    "!aws s3 cp {artifacts_dir}model.tar.gz {model_dir}/model.tar.gz\n",
    "!tar -xvzf {model_dir}/model.tar.gz -C {model_dir}"
   ]
  },
  {
   "cell_type": "code",
   "execution_count": 41,
   "id": "22e63229-a31f-4f06-84c0-fcf7f4cd3cc0",
   "metadata": {},
   "outputs": [
    {
     "name": "stdout",
     "output_type": "stream",
     "text": [
      "Looking in indexes: https://pypi.org/simple, https://pip.repos.neuron.amazonaws.com\n",
      "Requirement already satisfied: xgboost in /home/ec2-user/anaconda3/envs/python3/lib/python3.10/site-packages (1.7.3)\n",
      "Requirement already satisfied: graphviz in /home/ec2-user/anaconda3/envs/python3/lib/python3.10/site-packages (0.20.1)\n",
      "Requirement already satisfied: numpy in /home/ec2-user/anaconda3/envs/python3/lib/python3.10/site-packages (from xgboost) (1.22.4)\n",
      "Requirement already satisfied: scipy in /home/ec2-user/anaconda3/envs/python3/lib/python3.10/site-packages (from xgboost) (1.9.3)\n"
     ]
    }
   ],
   "source": [
    "!pip install xgboost graphviz"
   ]
  },
  {
   "cell_type": "code",
   "execution_count": 36,
   "id": "b0a73197-47fb-4a9d-87f6-0114b240ce91",
   "metadata": {},
   "outputs": [],
   "source": [
    "import xgboost as xgb\n",
    "import matplotlib.pyplot as plt"
   ]
  },
  {
   "cell_type": "code",
   "execution_count": 37,
   "id": "1d7d6450-0a50-42bb-9286-34e2f65b6556",
   "metadata": {},
   "outputs": [
    {
     "name": "stderr",
     "output_type": "stream",
     "text": [
      "/home/ec2-user/anaconda3/envs/python3/lib/python3.10/site-packages/xgboost/sklearn.py:782: UserWarning: Loading a native XGBoost model with Scikit-Learn interface.\n",
      "  warnings.warn(\"Loading a native XGBoost model with Scikit-Learn interface.\")\n"
     ]
    }
   ],
   "source": [
    "model = xgb.XGBClassifier()\n",
    "model.load_model(\"./model/xgboost-model\")"
   ]
  },
  {
   "cell_type": "code",
   "execution_count": 47,
   "id": "f2cbfc53-04d5-4207-9d81-c4f6d06b175c",
   "metadata": {},
   "outputs": [
    {
     "data": {
      "text/plain": [
       "<AxesSubplot: title={'center': 'Feature importance'}, xlabel='F score', ylabel='Features'>"
      ]
     },
     "execution_count": 47,
     "metadata": {},
     "output_type": "execute_result"
    },
    {
     "data": {
      "image/png": "[encoded data removed]",
      "text/plain": [
       "<Figure size 1500x800 with 1 Axes>"
      ]
     },
     "metadata": {},
     "output_type": "display_data"
    }
   ],
   "source": [
    "test_prep_df = pd.read_csv('./dataset/test.csv') \n",
    "feature_data = xgb.DMatrix(test_prep_df)\n",
    "model.get_booster().feature_names = feature_data.feature_names\n",
    "model.get_booster().feature_types = feature_data.feature_types\n",
    "fig, ax = plt.subplots(figsize=(15, 8))\n",
    "xgb.plot_importance(model, ax=ax, importance_type='gain')"
   ]
  },
  {
   "cell_type": "code",
   "execution_count": null,
   "id": "ef71c886-efdd-497c-a8ad-7efe9f680f90",
   "metadata": {},
   "outputs": [],
   "source": []
  }
 ],
 "metadata": {
  "kernelspec": {
   "display_name": "conda_python3",
   "language": "python",
   "name": "conda_python3"
  },
  "language_info": {
   "codemirror_mode": {
    "name": "ipython",
    "version": 3
   },
   "file_extension": ".py",
   "mimetype": "text/x-python",
   "name": "python",
   "nbconvert_exporter": "python",
   "pygments_lexer": "ipython3",
   "version": "3.10.6"
  }
 },
 "nbformat": 4,
 "nbformat_minor": 5
}
