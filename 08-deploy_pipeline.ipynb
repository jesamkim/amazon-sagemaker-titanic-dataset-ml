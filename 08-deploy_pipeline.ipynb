{
 "cells": [
  {
   "cell_type": "markdown",
   "id": "61bb591b-0ad0-4836-a912-98a3f47a9ddd",
   "metadata": {},
   "source": [
    "# 2023 AI/ML UnicornGym - Track 1"
   ]
  },
  {
   "cell_type": "markdown",
   "id": "26d76179-91a4-498d-a5d8-3769a67613e2",
   "metadata": {},
   "source": [
    "@jesamkim | 2023-Feb-08"
   ]
  },
  {
   "cell_type": "markdown",
   "id": "80cb5afb-87a5-454c-9816-5725a317fc29",
   "metadata": {},
   "source": [
    "# 8. 엔드포인트 배포 스텝 파이프라인"
   ]
  },
  {
   "cell_type": "markdown",
   "id": "ff02ebba-3210-4011-9519-c333ab533738",
   "metadata": {},
   "source": [
    "### 프로세싱 스텝 \n",
    "- 엔드포인트 배포는 \"deploy_model.py\" 의 스크립트를 실행하여 배포를 합니다. 그래서 여기서는 \"프로세싱 스텝\" 을 사용합니다.\n",
    "- 프로세싱 단계의 개발자 가이드 \n",
    "    - [프로세싱 스텝](https://docs.aws.amazon.com/ko_kr/sagemaker/latest/dg/build-and-manage-steps.html#step-type-processing)\n",
    "\n"
   ]
  },
  {
   "cell_type": "markdown",
   "id": "cbb805e0-64e4-46de-a5bc-c3ac700718f6",
   "metadata": {},
   "source": [
    "### setup environment"
   ]
  },
  {
   "cell_type": "code",
   "execution_count": 1,
   "id": "c43750e0-5f2d-4ec0-9f3f-338be6b4a4e8",
   "metadata": {},
   "outputs": [],
   "source": [
    "%load_ext autoreload\n",
    "%autoreload 2\n",
    "\n",
    "# src 폴더 경로 설정\n",
    "import sys\n",
    "sys.path.append('./src')"
   ]
  },
  {
   "cell_type": "code",
   "execution_count": 2,
   "id": "2cea853a-0f1d-462f-8894-f3b7aab0dedf",
   "metadata": {},
   "outputs": [
    {
     "name": "stdout",
     "output_type": "stream",
     "text": [
      "Stored variables and their in-db values:\n",
      "bucket                           -> 'sagemaker-us-east-1-376278017302'\n",
      "endpoint_name                    -> 'sagemaker-xgboost-2023-02-09-05-24-37-494'\n",
      "hyperparameters                  -> {'scale_pos_weight': '19', 'max_depth': '2', 'eta'\n",
      "image_uri                        -> '683313688378.dkr.ecr.us-east-1.amazonaws.com/sage\n",
      "input_data_uri                   -> 's3://sagemaker-us-east-1-376278017302/titanic-ml/\n",
      "project_prefix                   -> 'titanic-ml'\n",
      "s3_path                          -> 's3://sagemaker-us-east-1-376278017302/titanic-ml/\n",
      "sagemaker_model                  -> 'pipelines-4jksbfxkgkny-survived-basic-creat-km39j\n",
      "test_data_uri                    -> 's3://sagemaker-us-east-1-376278017302/titanic-ml/\n",
      "test_df                          ->     PassengerId  Pclass  Sex   Age  SibSp  Parch  \n",
      "train_data_uri                   -> 's3://sagemaker-us-east-1-376278017302/titanic-ml/\n",
      "train_model_artifact             -> 's3://sagemaker-us-east-1-376278017302/titanic-ml/\n"
     ]
    }
   ],
   "source": [
    "import boto3\n",
    "import sagemaker\n",
    "import pandas as pd\n",
    "\n",
    "region = boto3.Session().region_name\n",
    "role = sagemaker.get_execution_role()\n",
    "sagemaker_session = sagemaker.session.Session()\n",
    "%store -r \n",
    "\n",
    "%store"
   ]
  },
  {
   "cell_type": "markdown",
   "id": "b3c5fbea-9f29-4107-ac5b-41e924d30113",
   "metadata": {},
   "source": [
    "---\n",
    "## 8-1. 모델 빌딩 파이프라인의 스텝(Step) 생성"
   ]
  },
  {
   "cell_type": "markdown",
   "id": "83860e4a-8cb3-402f-85b2-c738c8a41c20",
   "metadata": {},
   "source": [
    "### 모델 빌딩 파이프라인 변수 생성"
   ]
  },
  {
   "cell_type": "code",
   "execution_count": 3,
   "id": "210874a6-6344-4b64-8ce2-109ce3c942fb",
   "metadata": {},
   "outputs": [],
   "source": [
    "from sagemaker.workflow.parameters import (\n",
    "    ParameterInteger,\n",
    "    ParameterString,\n",
    ")\n",
    "\n",
    "processing_instance_count = ParameterInteger(\n",
    "    name=\"ProcessingInstanceCount\",\n",
    "    default_value=1\n",
    ")\n",
    "processing_instance_type = ParameterString(\n",
    "    name=\"ProcessingInstanceType\",\n",
    "    default_value=\"ml.m5.xlarge\"\n",
    ")\n",
    "endpoint_instance_type = ParameterString(\n",
    "    name=\"EndpointInstanceType\",\n",
    "    default_value=\"ml.m5.xlarge\"\n",
    ")"
   ]
  },
  {
   "cell_type": "markdown",
   "id": "0c72e586-2c9c-4b62-b594-8e4bc93126a9",
   "metadata": {},
   "source": [
    "### 배포에 사용할 스크립트 코드 S3 업로딩"
   ]
  },
  {
   "cell_type": "code",
   "execution_count": 4,
   "id": "98fc35c2-d459-4349-8c2a-ca9d4b80d529",
   "metadata": {},
   "outputs": [
    {
     "name": "stdout",
     "output_type": "stream",
     "text": [
      "suffix:  974922\n",
      "s3_deploy_code_uri: \n",
      " s3://sagemaker-us-east-1-376278017302/titanic-ml/code/deploy_model.py\n"
     ]
    }
   ],
   "source": [
    "from datetime import datetime\n",
    "suffix = datetime.now().microsecond\n",
    "print(\"suffix: \", suffix)\n",
    "\n",
    "\n",
    "local_deploy_code_path = 'src/deploy_model.py'\n",
    "s3_deploy_code_path = f\"s3://{bucket}/{project_prefix}/code\"\n",
    "s3_deploy_code_uri = sagemaker.s3.S3Uploader.upload(\n",
    "    local_path=local_deploy_code_path, \n",
    "    desired_s3_uri=s3_deploy_code_path,\n",
    ")\n",
    "print(\"s3_deploy_code_uri: \\n\", s3_deploy_code_uri)\n",
    "\n",
    "pipeline_endpoint_name = 'pipeline-endpoint-'  + str(suffix)"
   ]
  },
  {
   "cell_type": "markdown",
   "id": "a58db51d-3e64-4c43-91f7-5cff4828c440",
   "metadata": {},
   "source": [
    "### 배포에 사용할 프로세서 정의"
   ]
  },
  {
   "cell_type": "code",
   "execution_count": 5,
   "id": "5df17000-364b-499f-b19c-121f264591b2",
   "metadata": {},
   "outputs": [],
   "source": [
    "from sagemaker.sklearn.processing import SKLearnProcessor\n",
    "from sagemaker.workflow.steps import ProcessingStep\n",
    "\n",
    "deploy_model_processor = SKLearnProcessor(\n",
    "    framework_version='0.23-1',\n",
    "    role= role,\n",
    "    instance_type= processing_instance_type, \n",
    "    instance_count= processing_instance_count,\n",
    "    base_job_name='survived-scratch-deploy-model',\n",
    "    sagemaker_session=sagemaker_session)\n",
    "\n"
   ]
  },
  {
   "cell_type": "markdown",
   "id": "b7eb9810-b19a-4129-a024-82fe454de28a",
   "metadata": {},
   "source": [
    "### 모델 엔드포인트 생성 스텝 생성"
   ]
  },
  {
   "cell_type": "code",
   "execution_count": 6,
   "id": "d5319f16-c349-4274-9ed5-41735d17a366",
   "metadata": {},
   "outputs": [],
   "source": [
    "deploy_step = ProcessingStep(\n",
    "    name='Survived-Basic-Endpoint',\n",
    "    processor=deploy_model_processor,\n",
    "    job_arguments=[\n",
    "        \"--model_name\", sagemaker_model, \n",
    "        \"--region\", region,\n",
    "        \"--endpoint_instance_type\", endpoint_instance_type,\n",
    "        \"--endpoint_name\", pipeline_endpoint_name\n",
    "    ],\n",
    "    code=s3_deploy_code_uri)"
   ]
  },
  {
   "cell_type": "markdown",
   "id": "c92116dc-e722-4d4d-94fa-babdcbed47b9",
   "metadata": {},
   "source": [
    "---\n",
    "## 8-2. 파라미터, 단계, 조건을 조합하여 최종 파이프라인 정의 및 실행"
   ]
  },
  {
   "cell_type": "markdown",
   "id": "fb8fc584-6460-4a53-b64c-9258cb8335dc",
   "metadata": {},
   "source": [
    "### 파이프라인 정의\n",
    "[중요] `pipeline_endpoint_name` 에 '_' 언더바를 넣으면 에러가 납니다. '-' 대시는 가능합니다."
   ]
  },
  {
   "cell_type": "code",
   "execution_count": 7,
   "id": "ea09125f-6127-46d7-ab95-62c29f82301d",
   "metadata": {},
   "outputs": [],
   "source": [
    "from sagemaker.workflow.pipeline import Pipeline\n",
    "\n",
    "pipeline_name = project_prefix\n",
    "pipeline = Pipeline(\n",
    "    name=pipeline_name,\n",
    "    parameters=[\n",
    "        processing_instance_type, \n",
    "        processing_instance_count,\n",
    "        endpoint_instance_type\n",
    "    ],\n",
    "    steps=[deploy_step],\n",
    ")"
   ]
  },
  {
   "cell_type": "markdown",
   "id": "ee20f318-ec6d-4ff2-a8be-8bddb9d4a55e",
   "metadata": {},
   "source": [
    "### 파이프라인 정의 확인\n",
    "위에서 정의한 파이프라인 정의는 Json 형식으로 정의 되어 있습니다."
   ]
  },
  {
   "cell_type": "code",
   "execution_count": 8,
   "id": "4c5ad4c3-48bd-49df-8728-f593f2914566",
   "metadata": {},
   "outputs": [
    {
     "data": {
      "text/plain": [
       "{'Version': '2020-12-01',\n",
       " 'Metadata': {},\n",
       " 'Parameters': [{'Name': 'ProcessingInstanceType',\n",
       "   'Type': 'String',\n",
       "   'DefaultValue': 'ml.m5.xlarge'},\n",
       "  {'Name': 'ProcessingInstanceCount', 'Type': 'Integer', 'DefaultValue': 1},\n",
       "  {'Name': 'EndpointInstanceType',\n",
       "   'Type': 'String',\n",
       "   'DefaultValue': 'ml.m5.xlarge'}],\n",
       " 'PipelineExperimentConfig': {'ExperimentName': {'Get': 'Execution.PipelineName'},\n",
       "  'TrialName': {'Get': 'Execution.PipelineExecutionId'}},\n",
       " 'Steps': [{'Name': 'Survived-Basic-Endpoint',\n",
       "   'Type': 'Processing',\n",
       "   'Arguments': {'ProcessingResources': {'ClusterConfig': {'InstanceType': {'Get': 'Parameters.ProcessingInstanceType'},\n",
       "      'InstanceCount': {'Get': 'Parameters.ProcessingInstanceCount'},\n",
       "      'VolumeSizeInGB': 30}},\n",
       "    'AppSpecification': {'ImageUri': '683313688378.dkr.ecr.us-east-1.amazonaws.com/sagemaker-scikit-learn:0.23-1-cpu-py3',\n",
       "     'ContainerArguments': ['--model_name',\n",
       "      'pipelines-4jksbfxkgkny-survived-basic-creat-km39jzydyp',\n",
       "      '--region',\n",
       "      'us-east-1',\n",
       "      '--endpoint_instance_type',\n",
       "      {'Get': 'Parameters.EndpointInstanceType'},\n",
       "      '--endpoint_name',\n",
       "      'pipeline-endpoint-974922'],\n",
       "     'ContainerEntrypoint': ['python3',\n",
       "      '/opt/ml/processing/input/code/deploy_model.py']},\n",
       "    'RoleArn': 'arn:aws:iam::376278017302:role/service-role/AmazonSageMaker-ExecutionRole-20230112T204234',\n",
       "    'ProcessingInputs': [{'InputName': 'code',\n",
       "      'AppManaged': False,\n",
       "      'S3Input': {'S3Uri': 's3://sagemaker-us-east-1-376278017302/titanic-ml/code/deploy_model.py',\n",
       "       'LocalPath': '/opt/ml/processing/input/code',\n",
       "       'S3DataType': 'S3Prefix',\n",
       "       'S3InputMode': 'File',\n",
       "       'S3DataDistributionType': 'FullyReplicated',\n",
       "       'S3CompressionType': 'None'}}]}}]}"
      ]
     },
     "execution_count": 8,
     "metadata": {},
     "output_type": "execute_result"
    }
   ],
   "source": [
    "import json\n",
    "\n",
    "definition = json.loads(pipeline.definition())\n",
    "definition"
   ]
  },
  {
   "cell_type": "markdown",
   "id": "957ded8c-6a9d-4ee6-90e2-e9b3bfa93f91",
   "metadata": {},
   "source": [
    "### 파이프라인 정의를 제출하고 실행하기 \n",
    "\n",
    "파이프라인 정의를 파이프라인 서비스에 제출합니다. 함께 전달되는 역할(role)을 이용하여 AWS에서 파이프라인을 생성하고 작업의 각 단계를 실행할 것입니다.   "
   ]
  },
  {
   "cell_type": "code",
   "execution_count": 9,
   "id": "7e14892a-6d6f-45d5-8877-2d807f80b281",
   "metadata": {},
   "outputs": [],
   "source": [
    "pipeline.upsert(role_arn=role)\n",
    "execution = pipeline.start()"
   ]
  },
  {
   "cell_type": "code",
   "execution_count": 10,
   "id": "41064020-020f-44d7-aa55-5249a158b071",
   "metadata": {},
   "outputs": [
    {
     "data": {
      "text/plain": [
       "{'PipelineArn': 'arn:aws:sagemaker:us-east-1:376278017302:pipeline/titanic-ml',\n",
       " 'PipelineExecutionArn': 'arn:aws:sagemaker:us-east-1:376278017302:pipeline/titanic-ml/execution/9dbribma4nq1',\n",
       " 'PipelineExecutionDisplayName': 'execution-1675921169526',\n",
       " 'PipelineExecutionStatus': 'Executing',\n",
       " 'CreationTime': datetime.datetime(2023, 2, 9, 5, 39, 29, 348000, tzinfo=tzlocal()),\n",
       " 'LastModifiedTime': datetime.datetime(2023, 2, 9, 5, 39, 29, 348000, tzinfo=tzlocal()),\n",
       " 'CreatedBy': {},\n",
       " 'LastModifiedBy': {},\n",
       " 'ResponseMetadata': {'RequestId': 'd496d5fe-50f3-44e7-a7eb-663f10450cb5',\n",
       "  'HTTPStatusCode': 200,\n",
       "  'HTTPHeaders': {'x-amzn-requestid': 'd496d5fe-50f3-44e7-a7eb-663f10450cb5',\n",
       "   'content-type': 'application/x-amz-json-1.1',\n",
       "   'content-length': '385',\n",
       "   'date': 'Thu, 09 Feb 2023 05:39:29 GMT'},\n",
       "  'RetryAttempts': 0}}"
      ]
     },
     "execution_count": 10,
     "metadata": {},
     "output_type": "execute_result"
    }
   ],
   "source": [
    "execution.describe()"
   ]
  },
  {
   "cell_type": "markdown",
   "id": "acfad838-b44d-4957-9023-527c4d28b201",
   "metadata": {},
   "source": [
    "### 파이프라인 실행 기다리기"
   ]
  },
  {
   "cell_type": "code",
   "execution_count": 11,
   "id": "a75aa844-3ffb-4b40-bc29-0047117f8ee5",
   "metadata": {
    "scrolled": true,
    "tags": []
   },
   "outputs": [],
   "source": [
    "execution.wait()"
   ]
  },
  {
   "cell_type": "markdown",
   "id": "20f3958c-2222-41f5-897e-b0c8946a1b9a",
   "metadata": {},
   "source": [
    "### 파이프라인 실행 단계 기록 보기"
   ]
  },
  {
   "cell_type": "code",
   "execution_count": 12,
   "id": "2a8c0068-35cd-4979-b18d-6bca39b8091c",
   "metadata": {},
   "outputs": [
    {
     "data": {
      "text/plain": [
       "[{'StepName': 'Survived-Basic-Endpoint',\n",
       "  'StartTime': datetime.datetime(2023, 2, 9, 5, 39, 30, 600000, tzinfo=tzlocal()),\n",
       "  'EndTime': datetime.datetime(2023, 2, 9, 5, 45, 33, 387000, tzinfo=tzlocal()),\n",
       "  'StepStatus': 'Succeeded',\n",
       "  'AttemptCount': 0,\n",
       "  'Metadata': {'ProcessingJob': {'Arn': 'arn:aws:sagemaker:us-east-1:376278017302:processing-job/pipelines-9dbribma4nq1-survived-basic-endpo-orygu75e8v'}}}]"
      ]
     },
     "execution_count": 12,
     "metadata": {},
     "output_type": "execute_result"
    }
   ],
   "source": [
    "execution.list_steps()"
   ]
  },
  {
   "cell_type": "markdown",
   "id": "3316dc2e-e6e7-48ed-a058-033e59d2ab29",
   "metadata": {},
   "source": [
    "---\n",
    "## 8-3. 세이지 메이커 스튜디오에서 확인하기\n",
    "- 아래의 그림 처럼 SageMaker Studio에 로긴후에 따라하시면, SageMaker Studio 에서도 실행 내역을 확인할 수 있습니다.\n",
    "    - SageMaker Studio 개발자 가이드 --> [SageMaker Studio](https://docs.aws.amazon.com/ko_kr/sagemaker/latest/dg/studio.html)\n",
    "\n"
   ]
  },
  {
   "cell_type": "markdown",
   "id": "27c59220-e3ab-49a5-ba57-b2543b900812",
   "metadata": {},
   "source": [
    "![endpoint-sm.png](img/endpoint-sm.png)"
   ]
  },
  {
   "cell_type": "markdown",
   "id": "ec32e83e-b324-4d08-9e7e-39f4d93d83c1",
   "metadata": {},
   "source": [
    "---\n",
    "## 8-4. 엔드포인트 추론 테스트"
   ]
  },
  {
   "cell_type": "markdown",
   "id": "ad2f9d1a-76c3-42e0-bd09-61334935c949",
   "metadata": {},
   "source": [
    "### 추론에 사용할 Payload 생성 및 추론\n",
    "- 테스트 데이터를 통해서 엔드포인트에 전달할 CSV 형태의 String을 생성합니다. (payload).\n",
    "- payload 를 엔드포인트에 제공하면, 확률값을 0.072 을 리턴합니다. \n",
    "- 보통 확률값이 0.5 보다 작으면 0 (Non-Fruad), 0.5 보다 크면 1 (Fruad) 로 변환해서 예측값으로 사용합니다.\n",
    "\n",
    "```\n",
    "payload: \n",
    " 1,1,38.0,1,0,71.2833,1\n",
    "\n",
    "Reponse: \n",
    "[['0.2789361774921417']]\n",
    "\n",
    "\n",
    "\n",
    "```"
   ]
  },
  {
   "cell_type": "markdown",
   "id": "7f0767cf-0db7-436c-8ebf-dab937333d99",
   "metadata": {},
   "source": [
    "### 테스트 데이터 준비"
   ]
  },
  {
   "cell_type": "code",
   "execution_count": 13,
   "id": "6d18538a-4b83-4f06-9c4e-82f91c4cd8cd",
   "metadata": {},
   "outputs": [],
   "source": [
    "import boto3\n",
    "sagemaker_boto_client = boto3.client('sagemaker')\n",
    "from src.p_utils import get_predictor, get_payload, predict\n",
    "\n",
    "from sagemaker.deserializers import CSVDeserializer\n",
    "csv_deserializer = CSVDeserializer(accept='text/csv') # 디폴트가 accept가 'text/csv' 이지만 직관적 이유로 기술함."
   ]
  },
  {
   "cell_type": "code",
   "execution_count": 14,
   "id": "899a3250-ffc0-4f15-80e5-6221e2aea027",
   "metadata": {},
   "outputs": [
    {
     "data": {
      "text/html": [
       "<div>\n",
       "<style scoped>\n",
       "    .dataframe tbody tr th:only-of-type {\n",
       "        vertical-align: middle;\n",
       "    }\n",
       "\n",
       "    .dataframe tbody tr th {\n",
       "        vertical-align: top;\n",
       "    }\n",
       "\n",
       "    .dataframe thead th {\n",
       "        text-align: right;\n",
       "    }\n",
       "</style>\n",
       "<table border=\"1\" class=\"dataframe\">\n",
       "  <thead>\n",
       "    <tr style=\"text-align: right;\">\n",
       "      <th></th>\n",
       "      <th>PassengerId</th>\n",
       "      <th>Survived</th>\n",
       "      <th>Pclass</th>\n",
       "      <th>Sex</th>\n",
       "      <th>Age</th>\n",
       "      <th>SibSp</th>\n",
       "      <th>Parch</th>\n",
       "      <th>Embarked</th>\n",
       "    </tr>\n",
       "  </thead>\n",
       "  <tbody>\n",
       "    <tr>\n",
       "      <th>0</th>\n",
       "      <td>2</td>\n",
       "      <td>1</td>\n",
       "      <td>1</td>\n",
       "      <td>1</td>\n",
       "      <td>38.0</td>\n",
       "      <td>1</td>\n",
       "      <td>0</td>\n",
       "      <td>1</td>\n",
       "    </tr>\n",
       "  </tbody>\n",
       "</table>\n",
       "</div>"
      ],
      "text/plain": [
       "   PassengerId  Survived  Pclass  Sex   Age  SibSp  Parch  Embarked\n",
       "0            2         1       1    1  38.0      1      0         1"
      ]
     },
     "execution_count": 14,
     "metadata": {},
     "output_type": "execute_result"
    }
   ],
   "source": [
    "test_preproc_path = f\"{train_data_uri}\"\n",
    "test_df = pd.read_csv(test_preproc_path)\n",
    "#test_df = test_df.drop('Unnamed: 0', axis=1)\n",
    "test_df.head(1)"
   ]
  },
  {
   "cell_type": "markdown",
   "id": "c9488530-2c14-4fc7-9fdb-f1aa92e4339d",
   "metadata": {},
   "source": [
    "### 엔드포인트에 입력이 될 데이터 (payload) 생성"
   ]
  },
  {
   "cell_type": "code",
   "execution_count": 15,
   "id": "0d14e419-a0c0-43ae-8e35-8aff4e0fa92b",
   "metadata": {},
   "outputs": [
    {
     "name": "stdout",
     "output_type": "stream",
     "text": [
      "payload: \n",
      " 2,1,1,38.0,1,0,1\n"
     ]
    }
   ],
   "source": [
    "# test_df 의 상위 1개 레코드를 사용\n",
    "payload = get_payload(test_df, label_col = 'Survived', verbose=False)\n",
    "print(\"payload: \\n\", payload)"
   ]
  },
  {
   "cell_type": "markdown",
   "id": "7893f365-cb35-4a5d-a95b-8f75d0f11104",
   "metadata": {},
   "source": [
    "### 추론 하여 예측 확률 얻기"
   ]
  },
  {
   "cell_type": "code",
   "execution_count": 16,
   "id": "eb50b9f6-cc2f-4010-971e-bc7858040249",
   "metadata": {},
   "outputs": [
    {
     "name": "stdout",
     "output_type": "stream",
     "text": [
      "prediction_prob: \n",
      " ['0.9955571293830872']\n"
     ]
    }
   ],
   "source": [
    "\n",
    "predictor = get_predictor(pipeline_endpoint_name, sagemaker_session, csv_deserializer)\n",
    "\n",
    "pred_prob = predict(predictor, payload)\n",
    "print(\"prediction_prob: \\n\", pred_prob)\n"
   ]
  },
  {
   "cell_type": "markdown",
   "id": "f92d2406-5208-4cac-97f0-cc5bfc6baa40",
   "metadata": {},
   "source": [
    "---\n",
    "## 8-5. 엔드포인트 삭제\n",
    "파이프라인 실행을 통하여 생성된 앤드포인트 및 관련 오브젝트 (세이지 메이커 모델, 엔드포인트 컨피그) 를 삭제 합니다."
   ]
  },
  {
   "cell_type": "code",
   "execution_count": 17,
   "id": "f88568cc-37d2-463e-82e8-eeb0479510e6",
   "metadata": {},
   "outputs": [
    {
     "name": "stdout",
     "output_type": "stream",
     "text": [
      "--- Deleted model: pipelines-4jksbfxkgkny-survived-basic-creat-km39jzydyp\n",
      "--- Deleted endpoint: pipeline-endpoint-974922\n",
      "--- Deleted endpoint_config: pipelines-4jksbfxkgkny-survived-basic-creat-km39jzydyp-config\n"
     ]
    }
   ],
   "source": [
    "from src.p_utils import delete_endpoint\n",
    "\n",
    "delete_endpoint(sagemaker_boto_client, pipeline_endpoint_name, is_del_model = True )"
   ]
  },
  {
   "cell_type": "code",
   "execution_count": null,
   "id": "45a16f0a-4431-4441-84de-08f46d7440e9",
   "metadata": {},
   "outputs": [],
   "source": []
  }
 ],
 "metadata": {
  "kernelspec": {
   "display_name": "conda_python3",
   "language": "python",
   "name": "conda_python3"
  },
  "language_info": {
   "codemirror_mode": {
    "name": "ipython",
    "version": 3
   },
   "file_extension": ".py",
   "mimetype": "text/x-python",
   "name": "python",
   "nbconvert_exporter": "python",
   "pygments_lexer": "ipython3",
   "version": "3.10.6"
  }
 },
 "nbformat": 4,
 "nbformat_minor": 5
}
