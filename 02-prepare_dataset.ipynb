{
 "cells": [
  {
   "cell_type": "markdown",
   "id": "61bb591b-0ad0-4836-a912-98a3f47a9ddd",
   "metadata": {},
   "source": [
    "# 2023 AI/ML UnicornGym - Track 1"
   ]
  },
  {
   "cell_type": "markdown",
   "id": "26d76179-91a4-498d-a5d8-3769a67613e2",
   "metadata": {},
   "source": [
    "@jesamkim | 2023-Feb-07"
   ]
  },
  {
   "cell_type": "markdown",
   "id": "80cb5afb-87a5-454c-9816-5725a317fc29",
   "metadata": {},
   "source": [
    "# 2. 데이터 준비"
   ]
  },
  {
   "cell_type": "markdown",
   "id": "cbb805e0-64e4-46de-a5bc-c3ac700718f6",
   "metadata": {},
   "source": [
    "## 작업 실행 시 필요 라이브러리 설치"
   ]
  },
  {
   "cell_type": "code",
   "execution_count": 2,
   "id": "8f68517b-6e70-422d-98de-f6f6f122e079",
   "metadata": {
    "collapsed": true,
    "jupyter": {
     "outputs_hidden": true
    },
    "tags": []
   },
   "outputs": [
    {
     "name": "stdout",
     "output_type": "stream",
     "text": [
      "Looking in indexes: https://pypi.org/simple, https://pip.repos.neuron.amazonaws.com\n",
      "Requirement already satisfied: sagemaker in /home/ec2-user/anaconda3/envs/python3/lib/python3.10/site-packages (2.127.0)\n",
      "Collecting sagemaker\n",
      "  Downloading sagemaker-2.131.1.tar.gz (665 kB)\n",
      "\u001b[2K     \u001b[90m━━━━━━━━━━━━━━━━━━━━━━━━━━━━━━━━━━━━━━\u001b[0m \u001b[32m665.2/665.2 kB\u001b[0m \u001b[31m52.0 MB/s\u001b[0m eta \u001b[36m0:00:00\u001b[0m\n",
      "\u001b[?25h  Preparing metadata (setup.py) ... \u001b[?25ldone\n",
      "\u001b[?25hRequirement already satisfied: boto3 in /home/ec2-user/anaconda3/envs/python3/lib/python3.10/site-packages (1.26.59)\n",
      "Collecting boto3\n",
      "  Downloading boto3-1.26.65-py3-none-any.whl (132 kB)\n",
      "\u001b[2K     \u001b[90m━━━━━━━━━━━━━━━━━━━━━━━━━━━━━━━━━━━━━━\u001b[0m \u001b[32m132.7/132.7 kB\u001b[0m \u001b[31m35.0 MB/s\u001b[0m eta \u001b[36m0:00:00\u001b[0m\n",
      "\u001b[?25hCollecting sagemaker-experiments\n",
      "  Using cached sagemaker_experiments-0.1.42-py3-none-any.whl (42 kB)\n",
      "Requirement already satisfied: attrs<23,>=20.3.0 in /home/ec2-user/anaconda3/envs/python3/lib/python3.10/site-packages (from sagemaker) (22.1.0)\n",
      "Requirement already satisfied: google-pasta in /home/ec2-user/anaconda3/envs/python3/lib/python3.10/site-packages (from sagemaker) (0.2.0)\n",
      "Requirement already satisfied: numpy<2.0,>=1.9.0 in /home/ec2-user/anaconda3/envs/python3/lib/python3.10/site-packages (from sagemaker) (1.22.4)\n",
      "Requirement already satisfied: protobuf<4.0,>=3.1 in /home/ec2-user/anaconda3/envs/python3/lib/python3.10/site-packages (from sagemaker) (3.20.3)\n",
      "Requirement already satisfied: protobuf3-to-dict<1.0,>=0.1.5 in /home/ec2-user/anaconda3/envs/python3/lib/python3.10/site-packages (from sagemaker) (0.1.5)\n",
      "Requirement already satisfied: smdebug_rulesconfig==1.0.1 in /home/ec2-user/anaconda3/envs/python3/lib/python3.10/site-packages (from sagemaker) (1.0.1)\n",
      "Requirement already satisfied: importlib-metadata<5.0,>=1.4.0 in /home/ec2-user/anaconda3/envs/python3/lib/python3.10/site-packages (from sagemaker) (4.13.0)\n",
      "Requirement already satisfied: packaging>=20.0 in /home/ec2-user/anaconda3/envs/python3/lib/python3.10/site-packages (from sagemaker) (21.3)\n",
      "Requirement already satisfied: pandas in /home/ec2-user/anaconda3/envs/python3/lib/python3.10/site-packages (from sagemaker) (1.5.1)\n",
      "Requirement already satisfied: pathos in /home/ec2-user/anaconda3/envs/python3/lib/python3.10/site-packages (from sagemaker) (0.3.0)\n",
      "Requirement already satisfied: schema in /home/ec2-user/anaconda3/envs/python3/lib/python3.10/site-packages (from sagemaker) (0.7.5)\n",
      "Requirement already satisfied: s3transfer<0.7.0,>=0.6.0 in /home/ec2-user/anaconda3/envs/python3/lib/python3.10/site-packages (from boto3) (0.6.0)\n",
      "Requirement already satisfied: jmespath<2.0.0,>=0.7.1 in /home/ec2-user/anaconda3/envs/python3/lib/python3.10/site-packages (from boto3) (0.10.0)\n",
      "Collecting botocore<1.30.0,>=1.29.65\n",
      "  Downloading botocore-1.29.65-py3-none-any.whl (10.4 MB)\n",
      "\u001b[2K     \u001b[90m━━━━━━━━━━━━━━━━━━━━━━━━━━━━━━━━━━━━━━━\u001b[0m \u001b[32m10.4/10.4 MB\u001b[0m \u001b[31m143.4 MB/s\u001b[0m eta \u001b[36m0:00:00\u001b[0m00:01\u001b[0m00:01\u001b[0m\n",
      "\u001b[?25hRequirement already satisfied: python-dateutil<3.0.0,>=2.1 in /home/ec2-user/anaconda3/envs/python3/lib/python3.10/site-packages (from botocore<1.30.0,>=1.29.65->boto3) (2.8.2)\n",
      "Requirement already satisfied: urllib3<1.27,>=1.25.4 in /home/ec2-user/anaconda3/envs/python3/lib/python3.10/site-packages (from botocore<1.30.0,>=1.29.65->boto3) (1.26.8)\n",
      "Requirement already satisfied: zipp>=0.5 in /home/ec2-user/anaconda3/envs/python3/lib/python3.10/site-packages (from importlib-metadata<5.0,>=1.4.0->sagemaker) (3.10.0)\n",
      "Requirement already satisfied: pyparsing!=3.0.5,>=2.0.2 in /home/ec2-user/anaconda3/envs/python3/lib/python3.10/site-packages (from packaging>=20.0->sagemaker) (3.0.9)\n",
      "Requirement already satisfied: six in /home/ec2-user/anaconda3/envs/python3/lib/python3.10/site-packages (from protobuf3-to-dict<1.0,>=0.1.5->sagemaker) (1.16.0)\n",
      "Requirement already satisfied: pytz>=2020.1 in /home/ec2-user/anaconda3/envs/python3/lib/python3.10/site-packages (from pandas->sagemaker) (2022.5)\n",
      "Requirement already satisfied: dill>=0.3.6 in /home/ec2-user/anaconda3/envs/python3/lib/python3.10/site-packages (from pathos->sagemaker) (0.3.6)\n",
      "Requirement already satisfied: ppft>=1.7.6.6 in /home/ec2-user/anaconda3/envs/python3/lib/python3.10/site-packages (from pathos->sagemaker) (1.7.6.6)\n",
      "Requirement already satisfied: multiprocess>=0.70.14 in /home/ec2-user/anaconda3/envs/python3/lib/python3.10/site-packages (from pathos->sagemaker) (0.70.14)\n",
      "Requirement already satisfied: pox>=0.3.2 in /home/ec2-user/anaconda3/envs/python3/lib/python3.10/site-packages (from pathos->sagemaker) (0.3.2)\n",
      "Requirement already satisfied: contextlib2>=0.5.5 in /home/ec2-user/anaconda3/envs/python3/lib/python3.10/site-packages (from schema->sagemaker) (21.6.0)\n",
      "Building wheels for collected packages: sagemaker\n",
      "  Building wheel for sagemaker (setup.py) ... \u001b[?25ldone\n",
      "\u001b[?25h  Created wheel for sagemaker: filename=sagemaker-2.131.1-py2.py3-none-any.whl size=902451 sha256=971241c9e6de301a6b1cd9b955d8cb8815628aaf4affced96d600993759b7453\n",
      "  Stored in directory: /home/ec2-user/.cache/pip/wheels/94/de/5c/8fa9f9af1b43acd7ef0e8cf6d302b5f32a341af3aa2fe5013f\n",
      "Successfully built sagemaker\n",
      "Installing collected packages: botocore, boto3, sagemaker-experiments, sagemaker\n",
      "  Attempting uninstall: botocore\n",
      "    Found existing installation: botocore 1.29.59\n",
      "    Uninstalling botocore-1.29.59:\n",
      "      Successfully uninstalled botocore-1.29.59\n",
      "  Attempting uninstall: boto3\n",
      "    Found existing installation: boto3 1.26.59\n",
      "    Uninstalling boto3-1.26.59:\n",
      "      Successfully uninstalled boto3-1.26.59\n",
      "  Attempting uninstall: sagemaker\n",
      "    Found existing installation: sagemaker 2.127.0\n",
      "    Uninstalling sagemaker-2.127.0:\n",
      "      Successfully uninstalled sagemaker-2.127.0\n",
      "\u001b[31mERROR: pip's dependency resolver does not currently take into account all the packages that are installed. This behaviour is the source of the following dependency conflicts.\n",
      "awscli 1.27.44 requires botocore==1.29.44, but you have botocore 1.29.65 which is incompatible.\n",
      "aiobotocore 2.0.1 requires botocore<1.22.9,>=1.22.8, but you have botocore 1.29.65 which is incompatible.\u001b[0m\u001b[31m\n",
      "\u001b[0mSuccessfully installed boto3-1.26.65 botocore-1.29.65 sagemaker-2.131.1 sagemaker-experiments-0.1.42\n"
     ]
    }
   ],
   "source": [
    "#!pip install -U sagemaker boto3 sagemaker-experiments"
   ]
  },
  {
   "cell_type": "markdown",
   "id": "72c7d1d3-a218-4259-a665-1fe9dc0c9e4c",
   "metadata": {},
   "source": [
    "## SageMaker에 연결된 기본 S3 버킷 이름 가져오기"
   ]
  },
  {
   "cell_type": "code",
   "execution_count": 5,
   "id": "03e42f78-7cf4-440e-97c4-47c9729efde6",
   "metadata": {},
   "outputs": [
    {
     "name": "stdout",
     "output_type": "stream",
     "text": [
      "s3 bucket :  sagemaker-us-east-1-376278017302\n"
     ]
    }
   ],
   "source": [
    "import sagemaker\n",
    "import os\n",
    "import pandas as pd\n",
    "\n",
    "DEFAULT_BUCKET = True\n",
    "if DEFAULT_BUCKET:\n",
    "    sagemaker_session = sagemaker.session.Session()\n",
    "    bucket = sagemaker_session.default_bucket()\n",
    "else:\n",
    "    bucket = \"<사용자 버켓 이름>\"\n",
    "\n",
    "print(\"s3 bucket : \", bucket)"
   ]
  },
  {
   "cell_type": "markdown",
   "id": "83d4a5b4-5451-4083-ad8a-22ecc4553adc",
   "metadata": {},
   "source": [
    "## 변수 정의"
   ]
  },
  {
   "cell_type": "code",
   "execution_count": 6,
   "id": "20d2d135-2732-4ce8-8a9c-216d441c6af7",
   "metadata": {},
   "outputs": [],
   "source": [
    "# 프로젝트 프리픽스\n",
    "project_prefix = 'titanic-ml'\n",
    "\n",
    "# 원본 데이터 위치\n",
    "dataset_prefix = f'{project_prefix}/input'\n",
    "\n",
    "# 노트북 안에서 원본 데이터 위치\n",
    "data_dir = './dataset'\n",
    "\n",
    "train_data_path = f\"{data_dir}/train.csv\"\n",
    "test_data_path = f\"{data_dir}/test.csv\"\n",
    "\n",
    "# S3에 저장되는 데이터의 기본 폴더 위치\n",
    "input_data_uri = f\"s3://{bucket}/{dataset_prefix}\""
   ]
  },
  {
   "cell_type": "code",
   "execution_count": 8,
   "id": "438c8596-f3e3-41fb-86df-b36a1fd79b3a",
   "metadata": {},
   "outputs": [
    {
     "name": "stdout",
     "output_type": "stream",
     "text": [
      "train_data_path:  ./dataset/train.csv\n",
      "test_data_path:  ./dataset/test.csv\n",
      "input_data_uri:  s3://sagemaker-us-east-1-376278017302/titanic-ml/input\n"
     ]
    }
   ],
   "source": [
    "print(\"train_data_path: \", train_data_path)\n",
    "print(\"test_data_path: \", test_data_path)\n",
    "print(\"input_data_uri: \", input_data_uri)"
   ]
  },
  {
   "cell_type": "markdown",
   "id": "6144c98b-78f6-4979-a6a7-05e3f2a508d0",
   "metadata": {},
   "source": [
    "## S3에 원본 데이터 세트 업로딩"
   ]
  },
  {
   "cell_type": "code",
   "execution_count": 9,
   "id": "804e11b8-b9c2-4d64-82cc-a330d1409293",
   "metadata": {},
   "outputs": [
    {
     "name": "stdout",
     "output_type": "stream",
     "text": [
      "train_data_uri in S3: \n",
      " s3://sagemaker-us-east-1-376278017302/titanic-ml/input/train.csv\n",
      "test_data_uri in S3: \n",
      " s3://sagemaker-us-east-1-376278017302/titanic-ml/input/test.csv\n"
     ]
    }
   ],
   "source": [
    "train_data_uri = sagemaker.s3.S3Uploader.upload(\n",
    "    local_path=train_data_path, \n",
    "    desired_s3_uri=input_data_uri,    \n",
    ")\n",
    "print(\"train_data_uri in S3: \\n\", train_data_uri)\n",
    "\n",
    "test_data_uri = sagemaker.s3.S3Uploader.upload(\n",
    "    local_path=test_data_path, \n",
    "    desired_s3_uri=input_data_uri,    \n",
    ")\n",
    "print(\"test_data_uri in S3: \\n\", test_data_uri)"
   ]
  },
  {
   "cell_type": "markdown",
   "id": "6111507a-c7a7-4668-b7d7-0843c504eb5f",
   "metadata": {},
   "source": [
    "## 변수 저장"
   ]
  },
  {
   "cell_type": "markdown",
   "id": "2c2283fe-e989-4daa-9cd6-a12631c2dd2c",
   "metadata": {},
   "source": [
    "#### 현재 저장되어 있는 변수를 삭제 합니다."
   ]
  },
  {
   "cell_type": "code",
   "execution_count": 10,
   "id": "50946dd4-f6c9-434a-bdb0-cd03ea105488",
   "metadata": {},
   "outputs": [],
   "source": [
    "%store -z"
   ]
  },
  {
   "cell_type": "markdown",
   "id": "34938891-b5ad-40d7-8db5-229f78c12040",
   "metadata": {},
   "source": [
    "#### 변수가 저장되어 있는지 확인 합니다."
   ]
  },
  {
   "cell_type": "code",
   "execution_count": 11,
   "id": "6371ac78-f034-4cba-a738-baf1dbdf8513",
   "metadata": {},
   "outputs": [
    {
     "name": "stdout",
     "output_type": "stream",
     "text": [
      "Stored variables and their in-db values:\n"
     ]
    }
   ],
   "source": [
    "%store"
   ]
  },
  {
   "cell_type": "markdown",
   "id": "8e7a69c7-4b8c-41f4-9e83-9ad698904ebb",
   "metadata": {},
   "source": [
    "#### 다음 노트북에서 사용할 변수를 저장 합니다."
   ]
  },
  {
   "cell_type": "code",
   "execution_count": 12,
   "id": "1201b60b-9c05-4d23-915f-af03749a3225",
   "metadata": {},
   "outputs": [
    {
     "name": "stdout",
     "output_type": "stream",
     "text": [
      "Stored 'project_prefix' (str)\n",
      "Stored 'input_data_uri' (str)\n",
      "Stored 'train_data_uri' (str)\n",
      "Stored 'test_data_uri' (str)\n",
      "Stored 'bucket' (str)\n"
     ]
    }
   ],
   "source": [
    "%store project_prefix\n",
    "%store input_data_uri\n",
    "\n",
    "%store train_data_uri\n",
    "%store test_data_uri\n",
    "\n",
    "%store bucket"
   ]
  },
  {
   "cell_type": "code",
   "execution_count": null,
   "id": "047490e8-5227-40ce-81d2-79de8b34c07e",
   "metadata": {},
   "outputs": [],
   "source": []
  }
 ],
 "metadata": {
  "kernelspec": {
   "display_name": "conda_python3",
   "language": "python",
   "name": "conda_python3"
  },
  "language_info": {
   "codemirror_mode": {
    "name": "ipython",
    "version": 3
   },
   "file_extension": ".py",
   "mimetype": "text/x-python",
   "name": "python",
   "nbconvert_exporter": "python",
   "pygments_lexer": "ipython3",
   "version": "3.10.6"
  }
 },
 "nbformat": 4,
 "nbformat_minor": 5
}
