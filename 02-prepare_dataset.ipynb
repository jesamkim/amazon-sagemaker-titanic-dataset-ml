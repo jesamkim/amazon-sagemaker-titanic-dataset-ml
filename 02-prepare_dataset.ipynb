{
 "cells": [
  {
   "cell_type": "markdown",
   "id": "61bb591b-0ad0-4836-a912-98a3f47a9ddd",
   "metadata": {},
   "source": [
    "# 2023 AI/ML UnicornGym - Track 1"
   ]
  },
  {
   "cell_type": "markdown",
   "id": "26d76179-91a4-498d-a5d8-3769a67613e2",
   "metadata": {},
   "source": [
    "@jesamkim | 2023-Feb-07"
   ]
  },
  {
   "cell_type": "markdown",
   "id": "80cb5afb-87a5-454c-9816-5725a317fc29",
   "metadata": {},
   "source": [
    "# 2. 데이터 준비"
   ]
  },
  {
   "cell_type": "markdown",
   "id": "cbb805e0-64e4-46de-a5bc-c3ac700718f6",
   "metadata": {},
   "source": [
    "## 2-1. 작업 실행 시 필요 라이브러리 설치"
   ]
  },
  {
   "cell_type": "code",
   "execution_count": 1,
   "id": "8f68517b-6e70-422d-98de-f6f6f122e079",
   "metadata": {
    "tags": []
   },
   "outputs": [],
   "source": [
    "#!pip install -U sagemaker boto3 sagemaker-experiments"
   ]
  },
  {
   "cell_type": "markdown",
   "id": "72c7d1d3-a218-4259-a665-1fe9dc0c9e4c",
   "metadata": {},
   "source": [
    "## 2-2. SageMaker에 연결된 기본 S3 버킷 이름 가져오기"
   ]
  },
  {
   "cell_type": "code",
   "execution_count": 2,
   "id": "03e42f78-7cf4-440e-97c4-47c9729efde6",
   "metadata": {},
   "outputs": [
    {
     "name": "stdout",
     "output_type": "stream",
     "text": [
      "s3 bucket :  sagemaker-us-east-1-376278017302\n"
     ]
    }
   ],
   "source": [
    "import sagemaker\n",
    "import os\n",
    "import pandas as pd\n",
    "\n",
    "DEFAULT_BUCKET = True\n",
    "if DEFAULT_BUCKET:\n",
    "    sagemaker_session = sagemaker.session.Session()\n",
    "    bucket = sagemaker_session.default_bucket()\n",
    "else:\n",
    "    bucket = \"<사용자 버켓 이름>\"\n",
    "\n",
    "print(\"s3 bucket : \", bucket)"
   ]
  },
  {
   "cell_type": "markdown",
   "id": "83d4a5b4-5451-4083-ad8a-22ecc4553adc",
   "metadata": {},
   "source": [
    "## 2-3. 변수 정의"
   ]
  },
  {
   "cell_type": "code",
   "execution_count": 3,
   "id": "20d2d135-2732-4ce8-8a9c-216d441c6af7",
   "metadata": {},
   "outputs": [],
   "source": [
    "# 프로젝트 프리픽스\n",
    "project_prefix = 'titanic-ml'\n",
    "\n",
    "# 원본 데이터 위치\n",
    "dataset_prefix = f'{project_prefix}/input'\n",
    "\n",
    "# 노트북 안에서 원본 데이터 위치\n",
    "data_dir = './dataset'\n",
    "\n",
    "train_data_path = f\"{data_dir}/train.csv\"\n",
    "test_data_path = f\"{data_dir}/test.csv\"\n",
    "\n",
    "# S3에 저장되는 데이터의 기본 폴더 위치\n",
    "input_data_uri = f\"s3://{bucket}/{dataset_prefix}\""
   ]
  },
  {
   "cell_type": "code",
   "execution_count": 4,
   "id": "438c8596-f3e3-41fb-86df-b36a1fd79b3a",
   "metadata": {},
   "outputs": [
    {
     "name": "stdout",
     "output_type": "stream",
     "text": [
      "train_data_path:  ./dataset/train.csv\n",
      "test_data_path:  ./dataset/test.csv\n",
      "input_data_uri:  s3://sagemaker-us-east-1-376278017302/titanic-ml/input\n"
     ]
    }
   ],
   "source": [
    "print(\"train_data_path: \", train_data_path)\n",
    "print(\"test_data_path: \", test_data_path)\n",
    "print(\"input_data_uri: \", input_data_uri)"
   ]
  },
  {
   "cell_type": "markdown",
   "id": "6144c98b-78f6-4979-a6a7-05e3f2a508d0",
   "metadata": {},
   "source": [
    "## 2-4. S3에 원본 데이터 세트 업로딩"
   ]
  },
  {
   "cell_type": "code",
   "execution_count": 5,
   "id": "804e11b8-b9c2-4d64-82cc-a330d1409293",
   "metadata": {},
   "outputs": [
    {
     "name": "stdout",
     "output_type": "stream",
     "text": [
      "train_data_uri in S3: \n",
      " s3://sagemaker-us-east-1-376278017302/titanic-ml/input/train.csv\n",
      "test_data_uri in S3: \n",
      " s3://sagemaker-us-east-1-376278017302/titanic-ml/input/test.csv\n"
     ]
    }
   ],
   "source": [
    "train_data_uri = sagemaker.s3.S3Uploader.upload(\n",
    "    local_path=train_data_path, \n",
    "    desired_s3_uri=input_data_uri,    \n",
    ")\n",
    "print(\"train_data_uri in S3: \\n\", train_data_uri)\n",
    "\n",
    "test_data_uri = sagemaker.s3.S3Uploader.upload(\n",
    "    local_path=test_data_path, \n",
    "    desired_s3_uri=input_data_uri,    \n",
    ")\n",
    "print(\"test_data_uri in S3: \\n\", test_data_uri)"
   ]
  },
  {
   "cell_type": "markdown",
   "id": "6111507a-c7a7-4668-b7d7-0843c504eb5f",
   "metadata": {},
   "source": [
    "## 2-5. 변수 저장"
   ]
  },
  {
   "cell_type": "markdown",
   "id": "2c2283fe-e989-4daa-9cd6-a12631c2dd2c",
   "metadata": {},
   "source": [
    "#### 현재 저장되어 있는 변수를 삭제 합니다."
   ]
  },
  {
   "cell_type": "code",
   "execution_count": 6,
   "id": "50946dd4-f6c9-434a-bdb0-cd03ea105488",
   "metadata": {},
   "outputs": [],
   "source": [
    "%store -z"
   ]
  },
  {
   "cell_type": "markdown",
   "id": "34938891-b5ad-40d7-8db5-229f78c12040",
   "metadata": {},
   "source": [
    "#### 변수가 저장되어 있는지 확인 합니다."
   ]
  },
  {
   "cell_type": "code",
   "execution_count": 7,
   "id": "6371ac78-f034-4cba-a738-baf1dbdf8513",
   "metadata": {},
   "outputs": [
    {
     "name": "stdout",
     "output_type": "stream",
     "text": [
      "Stored variables and their in-db values:\n"
     ]
    }
   ],
   "source": [
    "%store"
   ]
  },
  {
   "cell_type": "markdown",
   "id": "8e7a69c7-4b8c-41f4-9e83-9ad698904ebb",
   "metadata": {},
   "source": [
    "#### 다음 노트북에서 사용할 변수를 저장 합니다."
   ]
  },
  {
   "cell_type": "code",
   "execution_count": 8,
   "id": "1201b60b-9c05-4d23-915f-af03749a3225",
   "metadata": {},
   "outputs": [
    {
     "name": "stdout",
     "output_type": "stream",
     "text": [
      "Stored 'project_prefix' (str)\n",
      "Stored 'input_data_uri' (str)\n",
      "Stored 'train_data_uri' (str)\n",
      "Stored 'test_data_uri' (str)\n",
      "Stored 'bucket' (str)\n"
     ]
    }
   ],
   "source": [
    "%store project_prefix\n",
    "%store input_data_uri\n",
    "\n",
    "%store train_data_uri\n",
    "%store test_data_uri\n",
    "\n",
    "%store bucket"
   ]
  },
  {
   "cell_type": "code",
   "execution_count": null,
   "id": "047490e8-5227-40ce-81d2-79de8b34c07e",
   "metadata": {},
   "outputs": [],
   "source": []
  }
 ],
 "metadata": {
  "kernelspec": {
   "display_name": "conda_python3",
   "language": "python",
   "name": "conda_python3"
  },
  "language_info": {
   "codemirror_mode": {
    "name": "ipython",
    "version": 3
   },
   "file_extension": ".py",
   "mimetype": "text/x-python",
   "name": "python",
   "nbconvert_exporter": "python",
   "pygments_lexer": "ipython3",
   "version": "3.10.6"
  }
 },
 "nbformat": 4,
 "nbformat_minor": 5
}
