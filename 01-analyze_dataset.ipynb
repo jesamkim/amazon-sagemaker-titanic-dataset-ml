{
 "cells": [
  {
   "cell_type": "markdown",
   "id": "61bb591b-0ad0-4836-a912-98a3f47a9ddd",
   "metadata": {},
   "source": [
    "# 2023 AI/ML UnicornGym - Track 1"
   ]
  },
  {
   "cell_type": "markdown",
   "id": "26d76179-91a4-498d-a5d8-3769a67613e2",
   "metadata": {},
   "source": [
    "@jesamkim | 2023-Feb-07"
   ]
  },
  {
   "cell_type": "markdown",
   "id": "80cb5afb-87a5-454c-9816-5725a317fc29",
   "metadata": {},
   "source": [
    "# 1. 데이터 분석"
   ]
  },
  {
   "cell_type": "markdown",
   "id": "cbb805e0-64e4-46de-a5bc-c3ac700718f6",
   "metadata": {},
   "source": [
    "#### Titanic 데이터셋 소개 (from kaggle)"
   ]
  },
  {
   "cell_type": "markdown",
   "id": "2bada9fb-4df7-482c-ac4c-96963a1f39e6",
   "metadata": {},
   "source": [
    "> Titanic은 영국의 화이트 스타 라인이 운영한 북대서양 횡단 여객선 입니다.\n",
    "> 1912년 4월 10일 영국의 사우스샘프턴을 떠나 미국의 뉴욕으로 향하던 첫 항해 중에 4월 15일 빙산과 충돌하여 침몰하였습니다.\n",
    "> 배에는 승객들을 태울 충분한 구명보트가 없었고, 타이타닉의 침몰로 2,224명의 승객 중 1,502명이 사망하였습니다."
   ]
  },
  {
   "cell_type": "markdown",
   "id": "cf6b7308-642a-4a57-9cbe-da253696ec95",
   "metadata": {},
   "source": [
    "#### 예측 (문제의 목표)"
   ]
  },
  {
   "cell_type": "markdown",
   "id": "57c0da35-b15b-4221-bbd9-8a4911983f25",
   "metadata": {},
   "source": [
    "> Titanic에서 살아남을 수 있는 승객 예측  --> \"Suvived\"가 0인지 1인지 예측"
   ]
  },
  {
   "cell_type": "markdown",
   "id": "175e7002-ff94-4933-9cce-fefa4de61201",
   "metadata": {},
   "source": [
    "### Setup Environment"
   ]
  },
  {
   "cell_type": "code",
   "execution_count": 20,
   "id": "9aae8d7e-c594-47b8-bad0-4ab96d450166",
   "metadata": {},
   "outputs": [],
   "source": [
    "%load_ext autoreload\n",
    "%autoreload 2\n",
    "\n",
    "# src 폴더 경로 설정\n",
    "import sys\n",
    "sys.path.append('./src')"
   ]
  },
  {
   "cell_type": "markdown",
   "id": "845c78cc-c80c-4c27-9bf0-137fffd38621",
   "metadata": {},
   "source": [
    "## 노트북에 있는 로컬 데이터(titanic dataset) 불러오기"
   ]
  },
  {
   "cell_type": "code",
   "execution_count": 7,
   "id": "c2f90836-eaf7-4f91-a879-0db464e1f47e",
   "metadata": {},
   "outputs": [],
   "source": [
    "import pandas as pd\n",
    "import os\n",
    "\n",
    "train = pd.read_csv('./dataset/train.csv')\n",
    "test = pd.read_csv('./dataset/test.csv')"
   ]
  },
  {
   "cell_type": "code",
   "execution_count": 8,
   "id": "9581c932-a199-49b3-a46b-1bb2f01d0b6c",
   "metadata": {},
   "outputs": [
    {
     "data": {
      "text/html": [
       "<div>\n",
       "<style scoped>\n",
       "    .dataframe tbody tr th:only-of-type {\n",
       "        vertical-align: middle;\n",
       "    }\n",
       "\n",
       "    .dataframe tbody tr th {\n",
       "        vertical-align: top;\n",
       "    }\n",
       "\n",
       "    .dataframe thead th {\n",
       "        text-align: right;\n",
       "    }\n",
       "</style>\n",
       "<table border=\"1\" class=\"dataframe\">\n",
       "  <thead>\n",
       "    <tr style=\"text-align: right;\">\n",
       "      <th></th>\n",
       "      <th>PassengerId</th>\n",
       "      <th>Survived</th>\n",
       "      <th>Pclass</th>\n",
       "      <th>Name</th>\n",
       "      <th>Sex</th>\n",
       "      <th>Age</th>\n",
       "      <th>SibSp</th>\n",
       "      <th>Parch</th>\n",
       "      <th>Ticket</th>\n",
       "      <th>Fare</th>\n",
       "      <th>Cabin</th>\n",
       "      <th>Embarked</th>\n",
       "    </tr>\n",
       "  </thead>\n",
       "  <tbody>\n",
       "    <tr>\n",
       "      <th>0</th>\n",
       "      <td>1</td>\n",
       "      <td>0</td>\n",
       "      <td>3</td>\n",
       "      <td>Braund, Mr. Owen Harris</td>\n",
       "      <td>male</td>\n",
       "      <td>22.0</td>\n",
       "      <td>1</td>\n",
       "      <td>0</td>\n",
       "      <td>A/5 21171</td>\n",
       "      <td>7.2500</td>\n",
       "      <td>NaN</td>\n",
       "      <td>S</td>\n",
       "    </tr>\n",
       "    <tr>\n",
       "      <th>1</th>\n",
       "      <td>2</td>\n",
       "      <td>1</td>\n",
       "      <td>1</td>\n",
       "      <td>Cumings, Mrs. John Bradley (Florence Briggs Th...</td>\n",
       "      <td>female</td>\n",
       "      <td>38.0</td>\n",
       "      <td>1</td>\n",
       "      <td>0</td>\n",
       "      <td>PC 17599</td>\n",
       "      <td>71.2833</td>\n",
       "      <td>C85</td>\n",
       "      <td>C</td>\n",
       "    </tr>\n",
       "    <tr>\n",
       "      <th>2</th>\n",
       "      <td>3</td>\n",
       "      <td>1</td>\n",
       "      <td>3</td>\n",
       "      <td>Heikkinen, Miss. Laina</td>\n",
       "      <td>female</td>\n",
       "      <td>26.0</td>\n",
       "      <td>0</td>\n",
       "      <td>0</td>\n",
       "      <td>STON/O2. 3101282</td>\n",
       "      <td>7.9250</td>\n",
       "      <td>NaN</td>\n",
       "      <td>S</td>\n",
       "    </tr>\n",
       "    <tr>\n",
       "      <th>3</th>\n",
       "      <td>4</td>\n",
       "      <td>1</td>\n",
       "      <td>1</td>\n",
       "      <td>Futrelle, Mrs. Jacques Heath (Lily May Peel)</td>\n",
       "      <td>female</td>\n",
       "      <td>35.0</td>\n",
       "      <td>1</td>\n",
       "      <td>0</td>\n",
       "      <td>113803</td>\n",
       "      <td>53.1000</td>\n",
       "      <td>C123</td>\n",
       "      <td>S</td>\n",
       "    </tr>\n",
       "    <tr>\n",
       "      <th>4</th>\n",
       "      <td>5</td>\n",
       "      <td>0</td>\n",
       "      <td>3</td>\n",
       "      <td>Allen, Mr. William Henry</td>\n",
       "      <td>male</td>\n",
       "      <td>35.0</td>\n",
       "      <td>0</td>\n",
       "      <td>0</td>\n",
       "      <td>373450</td>\n",
       "      <td>8.0500</td>\n",
       "      <td>NaN</td>\n",
       "      <td>S</td>\n",
       "    </tr>\n",
       "  </tbody>\n",
       "</table>\n",
       "</div>"
      ],
      "text/plain": [
       "   PassengerId  Survived  Pclass  \\\n",
       "0            1         0       3   \n",
       "1            2         1       1   \n",
       "2            3         1       3   \n",
       "3            4         1       1   \n",
       "4            5         0       3   \n",
       "\n",
       "                                                Name     Sex   Age  SibSp  \\\n",
       "0                            Braund, Mr. Owen Harris    male  22.0      1   \n",
       "1  Cumings, Mrs. John Bradley (Florence Briggs Th...  female  38.0      1   \n",
       "2                             Heikkinen, Miss. Laina  female  26.0      0   \n",
       "3       Futrelle, Mrs. Jacques Heath (Lily May Peel)  female  35.0      1   \n",
       "4                           Allen, Mr. William Henry    male  35.0      0   \n",
       "\n",
       "   Parch            Ticket     Fare Cabin Embarked  \n",
       "0      0         A/5 21171   7.2500   NaN        S  \n",
       "1      0          PC 17599  71.2833   C85        C  \n",
       "2      0  STON/O2. 3101282   7.9250   NaN        S  \n",
       "3      0            113803  53.1000  C123        S  \n",
       "4      0            373450   8.0500   NaN        S  "
      ]
     },
     "execution_count": 8,
     "metadata": {},
     "output_type": "execute_result"
    }
   ],
   "source": [
    "train.head()"
   ]
  },
  {
   "cell_type": "markdown",
   "id": "0c7329ab-8929-497b-8933-f06df3ae81c5",
   "metadata": {},
   "source": [
    "#### 데이터 설명\n",
    "* Survived : 0 -> 사망 , 1 -> 생존\n",
    "* Pclass : 등급 -> 1등석, 2등석..\n",
    "* Name : 승객 이름\n",
    "* Age : 승객 나이\n",
    "* Sex : 승객 성별\n",
    "* SibSp : 동승한 자매, 배우자 수\n",
    "* Parch : 동승한 부모, 자식 수\n",
    "* Ticket : 티켓 번호\n",
    "* Fare : 탑승 요금\n",
    "* Cabin : 방 호수\n",
    "* Embarked : 탑승지 (C -> 셰르부르, Q -> 퀸즈타운, S -> 사우샘프턴)"
   ]
  },
  {
   "cell_type": "code",
   "execution_count": 9,
   "id": "fd2d68d6-6744-44ad-9dde-778af222a02e",
   "metadata": {},
   "outputs": [
    {
     "data": {
      "text/html": [
       "<div>\n",
       "<style scoped>\n",
       "    .dataframe tbody tr th:only-of-type {\n",
       "        vertical-align: middle;\n",
       "    }\n",
       "\n",
       "    .dataframe tbody tr th {\n",
       "        vertical-align: top;\n",
       "    }\n",
       "\n",
       "    .dataframe thead th {\n",
       "        text-align: right;\n",
       "    }\n",
       "</style>\n",
       "<table border=\"1\" class=\"dataframe\">\n",
       "  <thead>\n",
       "    <tr style=\"text-align: right;\">\n",
       "      <th></th>\n",
       "      <th>PassengerId</th>\n",
       "      <th>Pclass</th>\n",
       "      <th>Name</th>\n",
       "      <th>Sex</th>\n",
       "      <th>Age</th>\n",
       "      <th>SibSp</th>\n",
       "      <th>Parch</th>\n",
       "      <th>Ticket</th>\n",
       "      <th>Fare</th>\n",
       "      <th>Cabin</th>\n",
       "      <th>Embarked</th>\n",
       "    </tr>\n",
       "  </thead>\n",
       "  <tbody>\n",
       "    <tr>\n",
       "      <th>0</th>\n",
       "      <td>892</td>\n",
       "      <td>3</td>\n",
       "      <td>Kelly, Mr. James</td>\n",
       "      <td>male</td>\n",
       "      <td>34.5</td>\n",
       "      <td>0</td>\n",
       "      <td>0</td>\n",
       "      <td>330911</td>\n",
       "      <td>7.8292</td>\n",
       "      <td>NaN</td>\n",
       "      <td>Q</td>\n",
       "    </tr>\n",
       "    <tr>\n",
       "      <th>1</th>\n",
       "      <td>893</td>\n",
       "      <td>3</td>\n",
       "      <td>Wilkes, Mrs. James (Ellen Needs)</td>\n",
       "      <td>female</td>\n",
       "      <td>47.0</td>\n",
       "      <td>1</td>\n",
       "      <td>0</td>\n",
       "      <td>363272</td>\n",
       "      <td>7.0000</td>\n",
       "      <td>NaN</td>\n",
       "      <td>S</td>\n",
       "    </tr>\n",
       "    <tr>\n",
       "      <th>2</th>\n",
       "      <td>894</td>\n",
       "      <td>2</td>\n",
       "      <td>Myles, Mr. Thomas Francis</td>\n",
       "      <td>male</td>\n",
       "      <td>62.0</td>\n",
       "      <td>0</td>\n",
       "      <td>0</td>\n",
       "      <td>240276</td>\n",
       "      <td>9.6875</td>\n",
       "      <td>NaN</td>\n",
       "      <td>Q</td>\n",
       "    </tr>\n",
       "    <tr>\n",
       "      <th>3</th>\n",
       "      <td>895</td>\n",
       "      <td>3</td>\n",
       "      <td>Wirz, Mr. Albert</td>\n",
       "      <td>male</td>\n",
       "      <td>27.0</td>\n",
       "      <td>0</td>\n",
       "      <td>0</td>\n",
       "      <td>315154</td>\n",
       "      <td>8.6625</td>\n",
       "      <td>NaN</td>\n",
       "      <td>S</td>\n",
       "    </tr>\n",
       "    <tr>\n",
       "      <th>4</th>\n",
       "      <td>896</td>\n",
       "      <td>3</td>\n",
       "      <td>Hirvonen, Mrs. Alexander (Helga E Lindqvist)</td>\n",
       "      <td>female</td>\n",
       "      <td>22.0</td>\n",
       "      <td>1</td>\n",
       "      <td>1</td>\n",
       "      <td>3101298</td>\n",
       "      <td>12.2875</td>\n",
       "      <td>NaN</td>\n",
       "      <td>S</td>\n",
       "    </tr>\n",
       "  </tbody>\n",
       "</table>\n",
       "</div>"
      ],
      "text/plain": [
       "   PassengerId  Pclass                                          Name     Sex  \\\n",
       "0          892       3                              Kelly, Mr. James    male   \n",
       "1          893       3              Wilkes, Mrs. James (Ellen Needs)  female   \n",
       "2          894       2                     Myles, Mr. Thomas Francis    male   \n",
       "3          895       3                              Wirz, Mr. Albert    male   \n",
       "4          896       3  Hirvonen, Mrs. Alexander (Helga E Lindqvist)  female   \n",
       "\n",
       "    Age  SibSp  Parch   Ticket     Fare Cabin Embarked  \n",
       "0  34.5      0      0   330911   7.8292   NaN        Q  \n",
       "1  47.0      1      0   363272   7.0000   NaN        S  \n",
       "2  62.0      0      0   240276   9.6875   NaN        Q  \n",
       "3  27.0      0      0   315154   8.6625   NaN        S  \n",
       "4  22.0      1      1  3101298  12.2875   NaN        S  "
      ]
     },
     "execution_count": 9,
     "metadata": {},
     "output_type": "execute_result"
    }
   ],
   "source": [
    "test.head()"
   ]
  },
  {
   "cell_type": "markdown",
   "id": "c21d630a-2de9-4bab-a946-f16b154b4d31",
   "metadata": {},
   "source": [
    "위의 test 데이터셋은 train과 동일하지만 예측하려는 정보인 \"Survived\" 가 빠져 있음"
   ]
  },
  {
   "cell_type": "markdown",
   "id": "91f50f5e-7177-4db4-a17c-8074f2a973d0",
   "metadata": {},
   "source": [
    "## 데이터 구조 확인 : 데이터 타입"
   ]
  },
  {
   "cell_type": "code",
   "execution_count": 10,
   "id": "a0e855cf-51f5-4298-9753-b3247e46b194",
   "metadata": {},
   "outputs": [
    {
     "name": "stdout",
     "output_type": "stream",
     "text": [
      "<class 'pandas.core.frame.DataFrame'>\n",
      "RangeIndex: 891 entries, 0 to 890\n",
      "Data columns (total 12 columns):\n",
      " #   Column       Non-Null Count  Dtype  \n",
      "---  ------       --------------  -----  \n",
      " 0   PassengerId  891 non-null    int64  \n",
      " 1   Survived     891 non-null    int64  \n",
      " 2   Pclass       891 non-null    int64  \n",
      " 3   Name         891 non-null    object \n",
      " 4   Sex          891 non-null    object \n",
      " 5   Age          714 non-null    float64\n",
      " 6   SibSp        891 non-null    int64  \n",
      " 7   Parch        891 non-null    int64  \n",
      " 8   Ticket       891 non-null    object \n",
      " 9   Fare         891 non-null    float64\n",
      " 10  Cabin        204 non-null    object \n",
      " 11  Embarked     889 non-null    object \n",
      "dtypes: float64(2), int64(5), object(5)\n",
      "memory usage: 83.7+ KB\n"
     ]
    }
   ],
   "source": [
    "train.info()"
   ]
  },
  {
   "cell_type": "code",
   "execution_count": 11,
   "id": "7fabf445-be22-41e4-b2b6-0ceafa1149f1",
   "metadata": {},
   "outputs": [
    {
     "name": "stdout",
     "output_type": "stream",
     "text": [
      "<class 'pandas.core.frame.DataFrame'>\n",
      "RangeIndex: 418 entries, 0 to 417\n",
      "Data columns (total 11 columns):\n",
      " #   Column       Non-Null Count  Dtype  \n",
      "---  ------       --------------  -----  \n",
      " 0   PassengerId  418 non-null    int64  \n",
      " 1   Pclass       418 non-null    int64  \n",
      " 2   Name         418 non-null    object \n",
      " 3   Sex          418 non-null    object \n",
      " 4   Age          332 non-null    float64\n",
      " 5   SibSp        418 non-null    int64  \n",
      " 6   Parch        418 non-null    int64  \n",
      " 7   Ticket       418 non-null    object \n",
      " 8   Fare         417 non-null    float64\n",
      " 9   Cabin        91 non-null     object \n",
      " 10  Embarked     418 non-null    object \n",
      "dtypes: float64(2), int64(4), object(5)\n",
      "memory usage: 36.0+ KB\n"
     ]
    }
   ],
   "source": [
    "test.info()"
   ]
  },
  {
   "cell_type": "markdown",
   "id": "aca44d3a-0885-4020-83aa-93f54fe3de24",
   "metadata": {},
   "source": [
    "## 데이터 구조 확인 : rows, columns 및 각 column당 유니크 값 수"
   ]
  },
  {
   "cell_type": "code",
   "execution_count": 18,
   "id": "435b40f7-ce9a-4316-a18b-94491ae13e17",
   "metadata": {},
   "outputs": [
    {
     "name": "stdout",
     "output_type": "stream",
     "text": [
      "train dataset - (rows, columns) :  (891, 12)\n",
      "train dataset Shape:\n"
     ]
    },
    {
     "data": {
      "text/plain": [
       "PassengerId    891\n",
       "Survived         2\n",
       "Pclass           3\n",
       "Name           891\n",
       "Sex              2\n",
       "              ... \n",
       "Parch            7\n",
       "Ticket         681\n",
       "Fare           248\n",
       "Cabin          147\n",
       "Embarked         3\n",
       "Length: 12, dtype: int64"
      ]
     },
     "execution_count": 18,
     "metadata": {},
     "output_type": "execute_result"
    }
   ],
   "source": [
    "print(\"train dataset - (rows, columns) : \", train.shape)\n",
    "print(\"train dataset Shape:\")\n",
    "train.nunique()"
   ]
  },
  {
   "cell_type": "code",
   "execution_count": 19,
   "id": "f6133bbe-7997-4d80-8807-26990de7ad9e",
   "metadata": {},
   "outputs": [
    {
     "name": "stdout",
     "output_type": "stream",
     "text": [
      "test dataset - (rows, columns) :  (418, 11)\n",
      "test dataset Shape:\n"
     ]
    },
    {
     "data": {
      "text/plain": [
       "PassengerId    418\n",
       "Pclass           3\n",
       "Name           418\n",
       "Sex              2\n",
       "Age             79\n",
       "              ... \n",
       "Parch            8\n",
       "Ticket         363\n",
       "Fare           169\n",
       "Cabin           76\n",
       "Embarked         3\n",
       "Length: 11, dtype: int64"
      ]
     },
     "execution_count": 19,
     "metadata": {},
     "output_type": "execute_result"
    }
   ],
   "source": [
    "print(\"test dataset - (rows, columns) : \", test.shape)\n",
    "print(\"test dataset Shape:\")\n",
    "test.nunique()"
   ]
  },
  {
   "cell_type": "markdown",
   "id": "08c6b5af-5936-4b09-ab4a-f29a4689d02d",
   "metadata": {},
   "source": [
    "## 챠트 그래프로 컬럼별 영향도 확인"
   ]
  },
  {
   "cell_type": "code",
   "execution_count": 22,
   "id": "84476a83-97d9-4396-a499-80097c1d7a81",
   "metadata": {},
   "outputs": [],
   "source": [
    "from eda_utils import show_chart"
   ]
  },
  {
   "cell_type": "markdown",
   "id": "3f136738-71a3-427a-9055-c770251162ad",
   "metadata": {},
   "source": [
    "### \"탑승 등급\"에 따른 생존 / 사망 비율"
   ]
  },
  {
   "cell_type": "code",
   "execution_count": 23,
   "id": "d57e5c66-306f-48b7-a93a-bcc5ae6033d4",
   "metadata": {},
   "outputs": [
    {
     "data": {
      "image/png": "[encoded data removed]",
      "text/plain": [
       "<Figure size 640x480 with 1 Axes>"
      ]
     },
     "metadata": {},
     "output_type": "display_data"
    }
   ],
   "source": [
    "show_chart(train, 'Pclass')"
   ]
  },
  {
   "cell_type": "markdown",
   "id": "b57f4940-0a84-48f9-8075-1d0142862716",
   "metadata": {},
   "source": [
    "### \"성별\"에 따른 생존 / 사망 비율"
   ]
  },
  {
   "cell_type": "code",
   "execution_count": 25,
   "id": "13ff3f67-27e6-47bf-9cd8-df7b1b03f05a",
   "metadata": {},
   "outputs": [
    {
     "data": {
      "image/png": "[encoded data removed]",
      "text/plain": [
       "<Figure size 640x480 with 1 Axes>"
      ]
     },
     "metadata": {},
     "output_type": "display_data"
    }
   ],
   "source": [
    "show_chart(train, 'Sex')"
   ]
  },
  {
   "cell_type": "markdown",
   "id": "89119848-9f71-4b0f-9396-baecd6279bf0",
   "metadata": {},
   "source": [
    "### \"자매와 배우자 수\"에 따른 생존 / 사망 비율"
   ]
  },
  {
   "cell_type": "code",
   "execution_count": 26,
   "id": "28552b26-2006-4abe-aa59-8b8982f8960e",
   "metadata": {},
   "outputs": [
    {
     "data": {
      "image/png": "[encoded data removed]",
      "text/plain": [
       "<Figure size 640x480 with 1 Axes>"
      ]
     },
     "metadata": {},
     "output_type": "display_data"
    }
   ],
   "source": [
    "show_chart(train, 'SibSp')"
   ]
  },
  {
   "cell_type": "markdown",
   "id": "b44e5365-4cad-4814-a45f-dddf89b3d972",
   "metadata": {},
   "source": [
    "### \"탑승지\"에 따른 생존 / 사망 비율"
   ]
  },
  {
   "cell_type": "code",
   "execution_count": 27,
   "id": "8417c07a-dae7-4e26-9d81-5d2e6ad612b1",
   "metadata": {},
   "outputs": [
    {
     "data": {
      "image/png": "[encoded data removed]",
      "text/plain": [
       "<Figure size 640x480 with 1 Axes>"
      ]
     },
     "metadata": {},
     "output_type": "display_data"
    }
   ],
   "source": [
    "show_chart(train, 'Embarked')"
   ]
  },
  {
   "cell_type": "code",
   "execution_count": null,
   "id": "9d833072-e9b3-4e0c-8e0e-b6c2a304c77d",
   "metadata": {},
   "outputs": [],
   "source": []
  }
 ],
 "metadata": {
  "kernelspec": {
   "display_name": "conda_python3",
   "language": "python",
   "name": "conda_python3"
  },
  "language_info": {
   "codemirror_mode": {
    "name": "ipython",
    "version": 3
   },
   "file_extension": ".py",
   "mimetype": "text/x-python",
   "name": "python",
   "nbconvert_exporter": "python",
   "pygments_lexer": "ipython3",
   "version": "3.10.6"
  }
 },
 "nbformat": 4,
 "nbformat_minor": 5
}
