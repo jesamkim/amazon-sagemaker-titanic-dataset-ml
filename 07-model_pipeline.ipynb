{
 "cells": [
  {
   "cell_type": "markdown",
   "id": "61bb591b-0ad0-4836-a912-98a3f47a9ddd",
   "metadata": {},
   "source": [
    "# 2023 AI/ML UnicornGym - Track 1"
   ]
  },
  {
   "cell_type": "markdown",
   "id": "26d76179-91a4-498d-a5d8-3769a67613e2",
   "metadata": {},
   "source": [
    "@jesamkim | 2023-Feb-08"
   ]
  },
  {
   "cell_type": "markdown",
   "id": "80cb5afb-87a5-454c-9816-5725a317fc29",
   "metadata": {},
   "source": [
    "# 7. 모델 빌딩 파이프라인"
   ]
  },
  {
   "cell_type": "markdown",
   "id": "cbb805e0-64e4-46de-a5bc-c3ac700718f6",
   "metadata": {},
   "source": [
    "### setup environment"
   ]
  },
  {
   "cell_type": "code",
   "execution_count": 1,
   "id": "c43750e0-5f2d-4ec0-9f3f-338be6b4a4e8",
   "metadata": {},
   "outputs": [],
   "source": [
    "%load_ext autoreload\n",
    "%autoreload 2\n",
    "\n",
    "# src 폴더 경로 설정\n",
    "import sys\n",
    "sys.path.append('./src')"
   ]
  },
  {
   "cell_type": "code",
   "execution_count": 2,
   "id": "91b4ac6f-a146-4843-bde2-cf316141653b",
   "metadata": {},
   "outputs": [],
   "source": [
    "import boto3\n",
    "import sagemaker\n",
    "import pandas as pd\n",
    "\n",
    "sagemaker_session = sagemaker.session.Session()\n",
    "role = sagemaker.get_execution_role()\n",
    "\n",
    "%store -r "
   ]
  },
  {
   "cell_type": "code",
   "execution_count": 3,
   "id": "d65cd7cb-d3e7-4bfe-ad9b-30c9e09e5164",
   "metadata": {},
   "outputs": [
    {
     "name": "stdout",
     "output_type": "stream",
     "text": [
      "Stored variables and their in-db values:\n",
      "bucket                           -> 'sagemaker-us-east-1-376278017302'\n",
      "endpoint_name                    -> 'sagemaker-xgboost-2023-02-08-05-34-18-143'\n",
      "hyperparameters                  -> {'scale_pos_weight': '19', 'max_depth': '2', 'eta'\n",
      "image_uri                        -> '683313688378.dkr.ecr.us-east-1.amazonaws.com/sage\n",
      "input_data_uri                   -> 's3://sagemaker-us-east-1-376278017302/titanic-ml/\n",
      "project_prefix                   -> 'titanic-ml'\n",
      "s3_path                          -> 's3://sagemaker-us-east-1-376278017302/titanic-ml/\n",
      "test_data_uri                    -> 's3://sagemaker-us-east-1-376278017302/titanic-ml/\n",
      "test_df                          ->     PassengerId  Pclass  Sex   Age  SibSp  Parch  \n",
      "train_data_uri                   -> 's3://sagemaker-us-east-1-376278017302/titanic-ml/\n",
      "train_model_artifact             -> 's3://sagemaker-us-east-1-376278017302/titanic-ml/\n"
     ]
    }
   ],
   "source": [
    "%store"
   ]
  },
  {
   "cell_type": "markdown",
   "id": "9a7fd617-224e-402b-b708-c75d41d92c26",
   "metadata": {},
   "source": [
    "---\n",
    "## 7-1. 모델 빌딩 파이프라인 의 스텝(Step) 생성\n",
    "\n"
   ]
  },
  {
   "cell_type": "markdown",
   "id": "72fa5606-f1dc-4dce-aa0c-6e887f764037",
   "metadata": {},
   "source": [
    "### 모델 빌딩 파이프라인 변수 생성\n",
    "\n",
    "이 단계에서는 파이프라인 변수를 사용하지 않습니다."
   ]
  },
  {
   "cell_type": "markdown",
   "id": "00ce12c0-41d0-4398-8be1-7ccd0dcc0709",
   "metadata": {},
   "source": [
    "### 배포에 사용할 세이지 메이커 모델 정의 \n",
    "\n",
    "실시간 엔드포인트를 생성 하기 위해 SageMaker Model을 생성합니다.\n",
    "\n",
    "```python\n",
    "model = Model(\n",
    "    image_uri= step_train.properties.AlgorithmSpecification.TrainingImage,\n",
    "    model_data= step_train.properties.ModelArtifacts.S3ModelArtifacts,\n",
    "    sagemaker_session=sagemaker_session,\n",
    "    role=role,\n",
    ")\n",
    "```\n",
    "\n",
    "구체적으로, `TrainingStep` 인스턴스인 `step_train`의 속성 중 `TrainingImagea, S3ModelArtifacts` 의 결과물을 입력으로 다시 사용합니다.\n",
    "- 아래의 예시는 '세이지 메이커 모델 생성' 스텝을 독립적으로 실행하기 위해서, 이전 노트북의 결과인 image_uri (모델 훈련시 다커 컨테이너 경로), model_data 또한 이전 노트북에서 모델 훈련의 아티펙트의 경로인 train_model_artifact를 사용합니다.\n",
    "- [알림] image_uri 를 여기서는 모델 훈련시의 다커 컨테이너와 동일하게 추론에서 사용했습니다. 추론 다커 컨테이너를 따로 구성해서 사용할 수도 있습니다.\n",
    "- [알림] `TrainingStep`의 `properties` 속성은 [DescribeTrainingJob](https://docs.aws.amazon.com/sagemaker/latest/APIReference/API_DescribeTrainingJob.html) API의 응답결과와 동일합니다.\n"
   ]
  },
  {
   "cell_type": "code",
   "execution_count": 4,
   "id": "bffda8d5-3d6a-4776-93aa-f564fff24041",
   "metadata": {},
   "outputs": [],
   "source": [
    "from sagemaker.model import Model\n",
    "\n",
    "model = Model(\n",
    "    image_uri=image_uri,\n",
    "    model_data= train_model_artifact,\n",
    "    sagemaker_session=sagemaker_session,\n",
    "    role=role,\n",
    ")"
   ]
  },
  {
   "cell_type": "markdown",
   "id": "aec8a4fe-21c3-494c-a8f5-c7084f48081a",
   "metadata": {},
   "source": [
    "### 세이지 메이커 모델 생성 스탭 생성"
   ]
  },
  {
   "cell_type": "code",
   "execution_count": 5,
   "id": "073c7022-4510-4b68-beb5-d0f54729cdb6",
   "metadata": {},
   "outputs": [],
   "source": [
    "from sagemaker.inputs import CreateModelInput\n",
    "from sagemaker.workflow.steps import CreateModelStep\n",
    "\n",
    "\n",
    "inputs = CreateModelInput(\n",
    "    instance_type=\"ml.m5.large\",\n",
    ")\n",
    "step_create_model = CreateModelStep(\n",
    "    name=\"Survived-Basic-CreateModel\",\n",
    "    model=model,\n",
    "    inputs=inputs,\n",
    ")"
   ]
  },
  {
   "cell_type": "markdown",
   "id": "d2ad5479-34fc-45cc-9cb8-a9a21a4127f6",
   "metadata": {},
   "source": [
    "---\n",
    "## 7-2. 파리마터, 단계, 조건을 조합하여 최종 파이프라인 정의 및 실행\n",
    "\n"
   ]
  },
  {
   "cell_type": "markdown",
   "id": "bf8b3ab2-c9b3-4120-9400-041164bc2bec",
   "metadata": {},
   "source": [
    "### 파이프라인 정의"
   ]
  },
  {
   "cell_type": "code",
   "execution_count": 6,
   "id": "d7834ca1-4306-41aa-b8e0-d21229f898be",
   "metadata": {},
   "outputs": [],
   "source": [
    "from sagemaker.workflow.pipeline import Pipeline\n",
    "\n",
    "pipeline_name = project_prefix\n",
    "pipeline = Pipeline(\n",
    "    name=pipeline_name,\n",
    "    steps=[step_create_model],\n",
    ")"
   ]
  },
  {
   "cell_type": "markdown",
   "id": "22594fbe-e164-445a-a60c-3b03b3681fe6",
   "metadata": {},
   "source": [
    "### 파이프라인 정의 확인\n",
    "위에서 정의한 파이프라인 정의는 JSON 형식으로 정의 되어 있습니다."
   ]
  },
  {
   "cell_type": "code",
   "execution_count": 7,
   "id": "773a8582-7720-45cd-85a1-c59abb60eba6",
   "metadata": {},
   "outputs": [
    {
     "data": {
      "text/plain": [
       "{'Version': '2020-12-01',\n",
       " 'Metadata': {},\n",
       " 'Parameters': [],\n",
       " 'PipelineExperimentConfig': {'ExperimentName': {'Get': 'Execution.PipelineName'},\n",
       "  'TrialName': {'Get': 'Execution.PipelineExecutionId'}},\n",
       " 'Steps': [{'Name': 'Survived-Basic-CreateModel',\n",
       "   'Type': 'Model',\n",
       "   'Arguments': {'ExecutionRoleArn': 'arn:aws:iam::376278017302:role/service-role/AmazonSageMaker-ExecutionRole-20230112T204234',\n",
       "    'PrimaryContainer': {'Image': '683313688378.dkr.ecr.us-east-1.amazonaws.com/sagemaker-xgboost:1.3-1',\n",
       "     'Environment': {},\n",
       "     'ModelDataUrl': 's3://sagemaker-us-east-1-376278017302/titanic-ml/training_jobs/pipelines-354rt2nvtof4-Survived-Basic-Train-QHhe2K0bjJ/output/model.tar.gz'}}}]}"
      ]
     },
     "execution_count": 7,
     "metadata": {},
     "output_type": "execute_result"
    }
   ],
   "source": [
    "import json\n",
    "\n",
    "\n",
    "definition = json.loads(pipeline.definition())\n",
    "definition"
   ]
  },
  {
   "cell_type": "markdown",
   "id": "f88daeba-7970-43d0-9c53-dbd9d21fa975",
   "metadata": {},
   "source": [
    "### 파이프라인 정의를 제출하고 실행하기\n",
    "파이프라인 정의를 파이프라인 서비스에 제출합니다. 함께 전달되는 역할(role)을 이용하여 AWS에서 파이프라인을 생성하고 작업의 각 단계를 실행할 것 입니다."
   ]
  },
  {
   "cell_type": "code",
   "execution_count": 8,
   "id": "b93dc545-56bc-452a-b643-e85513bdbf58",
   "metadata": {},
   "outputs": [],
   "source": [
    "pipeline.upsert(role_arn=role)\n",
    "execution = pipeline.start()"
   ]
  },
  {
   "cell_type": "code",
   "execution_count": 9,
   "id": "aa13d427-8c87-493f-ba46-5b1e65b71dbe",
   "metadata": {},
   "outputs": [
    {
     "data": {
      "text/plain": [
       "{'PipelineArn': 'arn:aws:sagemaker:us-east-1:376278017302:pipeline/titanic-ml',\n",
       " 'PipelineExecutionArn': 'arn:aws:sagemaker:us-east-1:376278017302:pipeline/titanic-ml/execution/9k6he39ze4w4',\n",
       " 'PipelineExecutionDisplayName': 'execution-1675851887353',\n",
       " 'PipelineExecutionStatus': 'Succeeded',\n",
       " 'PipelineExperimentConfig': {'ExperimentName': 'titanic-ml',\n",
       "  'TrialName': '9k6he39ze4w4'},\n",
       " 'CreationTime': datetime.datetime(2023, 2, 8, 10, 24, 47, 195000, tzinfo=tzlocal()),\n",
       " 'LastModifiedTime': datetime.datetime(2023, 2, 8, 10, 24, 50, 565000, tzinfo=tzlocal()),\n",
       " 'CreatedBy': {},\n",
       " 'LastModifiedBy': {},\n",
       " 'ResponseMetadata': {'RequestId': 'c78999be-801b-4f92-90d7-7a53bae9f25f',\n",
       "  'HTTPStatusCode': 200,\n",
       "  'HTTPHeaders': {'x-amzn-requestid': 'c78999be-801b-4f92-90d7-7a53bae9f25f',\n",
       "   'content-type': 'application/x-amz-json-1.1',\n",
       "   'content-length': '471',\n",
       "   'date': 'Wed, 08 Feb 2023 10:24:51 GMT'},\n",
       "  'RetryAttempts': 0}}"
      ]
     },
     "execution_count": 9,
     "metadata": {},
     "output_type": "execute_result"
    }
   ],
   "source": [
    "execution.describe()"
   ]
  },
  {
   "cell_type": "markdown",
   "id": "998835e2-868c-4d6d-b9bb-d57b2b12b18b",
   "metadata": {},
   "source": [
    "### 파이프라인 실행 기다리기"
   ]
  },
  {
   "cell_type": "code",
   "execution_count": 10,
   "id": "6e694fe4-e30a-4621-8dad-c84e2e9af154",
   "metadata": {},
   "outputs": [],
   "source": [
    "execution.wait()"
   ]
  },
  {
   "cell_type": "markdown",
   "id": "da3d09df-95e2-44e1-9e6a-a4f79297ca71",
   "metadata": {},
   "source": [
    "---\n",
    "## 7-3. 세이지 메이커 스튜디오에서 확인하기\n",
    "- 아래의 그림 처럼 SageMaker Studio에 로긴후에 따라하시면, SageMaker Studio 에서도 실행 내역을 확인할 수 있습니다.\n",
    "    - SageMaker Studio 개발자 가이드 --> [SageMaker Studio](https://docs.aws.amazon.com/ko_kr/sagemaker/latest/dg/studio.html)\n",
    "\n"
   ]
  },
  {
   "cell_type": "markdown",
   "id": "ef1af717-d751-43bf-94ee-a604167ac77e",
   "metadata": {},
   "source": [
    "![create_model_sm.png](img/create_model_sm.png)"
   ]
  },
  {
   "cell_type": "markdown",
   "id": "434c7e0d-6c96-4889-bfee-e6f7b7bdc9fa",
   "metadata": {},
   "source": [
    "---\n",
    "## 7-4. 모델 아티펙트 경로 추출"
   ]
  },
  {
   "cell_type": "markdown",
   "id": "c4e03e1f-7d78-4319-a2b7-bb6b985219e5",
   "metadata": {},
   "source": [
    "### 세이지 메이커 모델의 경로를 저장함. \n",
    "- 다음 노트북에서 사용합니다."
   ]
  },
  {
   "cell_type": "code",
   "execution_count": 11,
   "id": "854cc53a-e852-4ae2-b44e-2e68e7c51c81",
   "metadata": {},
   "outputs": [
    {
     "name": "stdout",
     "output_type": "stream",
     "text": [
      "sagemaker_model: \n",
      " pipelines-9k6he39ze4w4-survived-basic-creat-txfhcvksge\n",
      "Stored 'sagemaker_model' (str)\n"
     ]
    }
   ],
   "source": [
    "response = execution.list_steps()\n",
    "sagemaker_model = response[0]['Metadata']['Model']['Arn'].split(\"/\")[-1]\n",
    "print(\"sagemaker_model: \\n\", sagemaker_model)\n",
    "\n",
    "%store sagemaker_model"
   ]
  },
  {
   "cell_type": "code",
   "execution_count": null,
   "id": "c0fe3738-7370-4ba8-a469-2f5bf01c65f8",
   "metadata": {},
   "outputs": [],
   "source": []
  }
 ],
 "metadata": {
  "kernelspec": {
   "display_name": "conda_python3",
   "language": "python",
   "name": "conda_python3"
  },
  "language_info": {
   "codemirror_mode": {
    "name": "ipython",
    "version": 3
   },
   "file_extension": ".py",
   "mimetype": "text/x-python",
   "name": "python",
   "nbconvert_exporter": "python",
   "pygments_lexer": "ipython3",
   "version": "3.10.6"
  }
 },
 "nbformat": 4,
 "nbformat_minor": 5
}
