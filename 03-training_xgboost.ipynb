{
 "cells": [
  {
   "cell_type": "markdown",
   "id": "61bb591b-0ad0-4836-a912-98a3f47a9ddd",
   "metadata": {},
   "source": [
    "# 2023 AI/ML UnicornGym - Track 1"
   ]
  },
  {
   "cell_type": "markdown",
   "id": "26d76179-91a4-498d-a5d8-3769a67613e2",
   "metadata": {},
   "source": [
    "@jesamkim | 2023-Feb-08"
   ]
  },
  {
   "cell_type": "markdown",
   "id": "80cb5afb-87a5-454c-9816-5725a317fc29",
   "metadata": {},
   "source": [
    "# 3. 훈련 (xgboost)"
   ]
  },
  {
   "cell_type": "markdown",
   "id": "cbb805e0-64e4-46de-a5bc-c3ac700718f6",
   "metadata": {},
   "source": [
    "### setup environment"
   ]
  },
  {
   "cell_type": "code",
   "execution_count": 1,
   "id": "c43750e0-5f2d-4ec0-9f3f-338be6b4a4e8",
   "metadata": {},
   "outputs": [],
   "source": [
    "%load_ext autoreload\n",
    "%autoreload 2\n",
    "\n",
    "# src 폴더 경로 설정\n",
    "import sys\n",
    "sys.path.append('./src')"
   ]
  },
  {
   "cell_type": "code",
   "execution_count": 2,
   "id": "e5df3b13-1c56-44b8-99c8-f9b7ef162800",
   "metadata": {},
   "outputs": [],
   "source": [
    "import boto3\n",
    "import sagemaker"
   ]
  },
  {
   "cell_type": "code",
   "execution_count": 3,
   "id": "bfcb028a-5936-4b57-b6b9-7d7442259b33",
   "metadata": {},
   "outputs": [],
   "source": [
    "%store -r project_prefix\n",
    "%store -r bucket\n",
    "%store -r input_data_uri"
   ]
  },
  {
   "cell_type": "markdown",
   "id": "4ef2f19a-d9bc-4ae3-9f77-e962fd04f966",
   "metadata": {},
   "source": [
    "### SageMaker 세션과 Role, 사용 버킷 정의"
   ]
  },
  {
   "cell_type": "code",
   "execution_count": 4,
   "id": "9b2c83ed-2e20-47ce-acad-0127e71b2dc0",
   "metadata": {},
   "outputs": [
    {
     "data": {
      "text/plain": [
       "'arn:aws:iam::376278017302:role/service-role/AmazonSageMaker-ExecutionRole-20230112T204234'"
      ]
     },
     "execution_count": 4,
     "metadata": {},
     "output_type": "execute_result"
    }
   ],
   "source": [
    "sagemaker_session = sagemaker.session.Session()\n",
    "role = sagemaker.get_execution_role()\n",
    "\n",
    "role"
   ]
  },
  {
   "cell_type": "code",
   "execution_count": 5,
   "id": "6181ff65-801f-4d32-a03e-5600f63169e3",
   "metadata": {},
   "outputs": [],
   "source": [
    "#bucket = sagemaker_session.default_bucket()\n",
    "\n",
    "bucket\n",
    "\n",
    "code_location = f's3://{bucket}/{project_prefix}/xgboost/code'\n",
    "output_path = f's3://{bucket}/{project_prefix}/xgboost/output'"
   ]
  },
  {
   "cell_type": "code",
   "execution_count": 6,
   "id": "05719fd9-74b5-4c93-b5a3-c5f09f4591cc",
   "metadata": {},
   "outputs": [
    {
     "data": {
      "text/plain": [
       "'s3://sagemaker-us-east-1-376278017302/titanic-ml/xgboost/code'"
      ]
     },
     "execution_count": 6,
     "metadata": {},
     "output_type": "execute_result"
    }
   ],
   "source": [
    "code_location"
   ]
  },
  {
   "cell_type": "code",
   "execution_count": 7,
   "id": "5ca20740-5338-4716-9224-6df519f351d4",
   "metadata": {},
   "outputs": [
    {
     "data": {
      "text/plain": [
       "'s3://sagemaker-us-east-1-376278017302/titanic-ml/xgboost/output'"
      ]
     },
     "execution_count": 7,
     "metadata": {},
     "output_type": "execute_result"
    }
   ],
   "source": [
    "output_path"
   ]
  },
  {
   "cell_type": "markdown",
   "id": "1e7fffa0-2533-4254-9d22-2197febd2fc9",
   "metadata": {},
   "source": [
    "### 하이퍼파라미터 정의"
   ]
  },
  {
   "cell_type": "code",
   "execution_count": 8,
   "id": "7b1ef6f8-933e-42a1-96c9-10d97f9c7469",
   "metadata": {},
   "outputs": [],
   "source": [
    "hyperparameters = {\n",
    "       \"scale_pos_weight\" : \"19\",    \n",
    "        \"max_depth\": \"2\",\n",
    "        \"eta\": \"0.3\",\n",
    "        \"objective\": \"binary:logistic\",\n",
    "        \"num_round\": \"100\",\n",
    "#    \"max_depth\": \"5\",\n",
    "#    \"subsample\": \"0.7\",\n",
    "#    \"gamma\": \"0\",\n",
    "#    \"alpha\": \"0\",\n",
    "#    \"lambda\": \"1\"\n",
    "}"
   ]
  },
  {
   "cell_type": "markdown",
   "id": "35e66d12-a94e-400a-abea-f09258861f43",
   "metadata": {},
   "source": [
    "### 훈련 실행 작업 정의"
   ]
  },
  {
   "cell_type": "code",
   "execution_count": 9,
   "id": "cb7761e4-ea36-41c9-9bc7-7ddacc4a1bb7",
   "metadata": {},
   "outputs": [],
   "source": [
    "instance_count = 1\n",
    "instance_type = \"ml.m5.large\"\n",
    "# instance_type = \"local\"\n",
    "max_run = 1*60*60\n",
    "\n",
    "use_spot_instances = False\n",
    "if use_spot_instances:\n",
    "    max_wait = 1*60*60\n",
    "else:\n",
    "    max_wait = None"
   ]
  },
  {
   "cell_type": "code",
   "execution_count": 10,
   "id": "3e138500-5327-4928-ad61-bcf646315f90",
   "metadata": {},
   "outputs": [],
   "source": [
    "if instance_type in ['local', 'local_gpu']:\n",
    "    from sagemaker.local import LocalSession\n",
    "    sagemaker_session = LocalSession()\n",
    "    sagemaker_session.config = {'local': {'local_code': True}}\n",
    "else:\n",
    "    sagemaker_session = sagemaker.session.Session()"
   ]
  },
  {
   "cell_type": "code",
   "execution_count": 11,
   "id": "bc284954-a2e8-48f4-b801-674400d724eb",
   "metadata": {},
   "outputs": [],
   "source": [
    "from sagemaker.xgboost.estimator import XGBoost\n",
    "\n",
    "estimator = XGBoost(\n",
    "    entry_point=\"xgboost_starter_script.py\",\n",
    "    source_dir=\"src\",\n",
    "    output_path=output_path,\n",
    "    code_location=code_location,\n",
    "    hyperparameters=hyperparameters,\n",
    "    role=role,\n",
    "    sagemaker_session=sagemaker_session,\n",
    "    instance_count=instance_count,\n",
    "    instance_type=instance_type,\n",
    "    framework_version=\"1.3-1\",\n",
    "    max_run=max_run,\n",
    "    use_spot_instances=use_spot_instances,  # spot instance 활용\n",
    "    max_wait=max_wait,\n",
    ")"
   ]
  },
  {
   "cell_type": "markdown",
   "id": "6284b456-da06-455d-80e5-b0ac440459f4",
   "metadata": {},
   "source": [
    "### input_data_uri훈련 데이터셋 지정"
   ]
  },
  {
   "cell_type": "code",
   "execution_count": 12,
   "id": "d9dbfcbc-098b-44da-b2eb-fc857c8a22fc",
   "metadata": {},
   "outputs": [
    {
     "data": {
      "text/plain": [
       "'s3://sagemaker-us-east-1-376278017302/titanic-ml/input'"
      ]
     },
     "execution_count": 12,
     "metadata": {},
     "output_type": "execute_result"
    }
   ],
   "source": [
    "input_data_uri"
   ]
  },
  {
   "cell_type": "code",
   "execution_count": 13,
   "id": "9fd2b220-2c14-4a49-8d2b-5be09931719a",
   "metadata": {},
   "outputs": [
    {
     "name": "stdout",
     "output_type": "stream",
     "text": [
      "upload: dataset/.ipynb_checkpoints/test-checkpoint.csv to s3://sagemaker-us-east-1-376278017302/titanic-ml/input/.ipynb_checkpoints/test-checkpoint.csv\n"
     ]
    }
   ],
   "source": [
    "data_path=input_data_uri\n",
    "!aws s3 sync ./dataset/ $data_path"
   ]
  },
  {
   "cell_type": "code",
   "execution_count": 14,
   "id": "9418c792-f788-4aa9-b2aa-9f2416bbfe0e",
   "metadata": {},
   "outputs": [
    {
     "data": {
      "text/plain": [
       "'s3://sagemaker-us-east-1-376278017302/titanic-ml/input'"
      ]
     },
     "execution_count": 14,
     "metadata": {},
     "output_type": "execute_result"
    }
   ],
   "source": [
    "if instance_type in ['local', 'local_gpu']:\n",
    "    from pathlib import Path\n",
    "    file_path = f'file://{Path.cwd()}'\n",
    "    inputs = file_path.split('lab_1_training')[0] + 'dataset/'\n",
    "    \n",
    "else:\n",
    "    inputs = data_path\n",
    "inputs"
   ]
  },
  {
   "cell_type": "markdown",
   "id": "d3d4376a-fbcb-49b5-8c01-9c255c306710",
   "metadata": {},
   "source": [
    "### SageMaker Experiments 설정"
   ]
  },
  {
   "cell_type": "code",
   "execution_count": 15,
   "id": "aff02a05-9680-46c6-b5c5-e05a52a73162",
   "metadata": {},
   "outputs": [],
   "source": [
    "# !pip install -U sagemaker-experiments"
   ]
  },
  {
   "cell_type": "code",
   "execution_count": 16,
   "id": "10ce7c0b-65ab-47d1-88e1-226157aae3e5",
   "metadata": {},
   "outputs": [],
   "source": [
    "experiment_name='titanic-xgboost-test-1'"
   ]
  },
  {
   "cell_type": "code",
   "execution_count": 17,
   "id": "be52f050-1f59-42c9-bc3c-37921ab9eefe",
   "metadata": {},
   "outputs": [],
   "source": [
    "from smexperiments.experiment import Experiment\n",
    "from smexperiments.trial import Trial\n",
    "from time import strftime"
   ]
  },
  {
   "cell_type": "code",
   "execution_count": 18,
   "id": "b9760a1b-78e3-43e8-ade9-a4c10e101505",
   "metadata": {},
   "outputs": [],
   "source": [
    "def create_experiment(experiment_name):\n",
    "    try:\n",
    "        sm_experiment = Experiment.load(experiment_name)\n",
    "    except:\n",
    "        sm_experiment = Experiment.create(experiment_name=experiment_name)"
   ]
  },
  {
   "cell_type": "code",
   "execution_count": 19,
   "id": "fd8337b7-7269-4eaa-8762-5e36ef9ca7a4",
   "metadata": {},
   "outputs": [],
   "source": [
    "def create_trial(experiment_name):\n",
    "    create_date = strftime(\"%m%d-%H%M%s\")       \n",
    "    sm_trial = Trial.create(trial_name=f'{experiment_name}-{create_date}',\n",
    "                            experiment_name=experiment_name)\n",
    "\n",
    "    job_name = f'{sm_trial.trial_name}'\n",
    "    return job_name"
   ]
  },
  {
   "cell_type": "markdown",
   "id": "84801124-36ef-41fe-9568-1dd27eb33e1b",
   "metadata": {},
   "source": [
    "### 훈련 실행\n",
    "\n",
    "> 훈련하는 데이터(train.csv)에 String이 포함되어 있으면 Fail이 납니다. 앞에서 컬럼을 삭제하거나 숫자형으로 변환하는 등의 데이터 전처리 과정이 필요합니다."
   ]
  },
  {
   "cell_type": "code",
   "execution_count": 20,
   "id": "6108337a-4244-4f91-9419-dc3378a7296e",
   "metadata": {},
   "outputs": [
    {
     "name": "stderr",
     "output_type": "stream",
     "text": [
      "INFO:botocore.credentials:Found credentials from IAM Role: BaseNotebookInstanceEc2InstanceRole\n",
      "INFO:botocore.credentials:Found credentials from IAM Role: BaseNotebookInstanceEc2InstanceRole\n",
      "INFO:sagemaker:Creating training-job with name: titanic-xgboost-test-1-0207-13531675777997\n"
     ]
    }
   ],
   "source": [
    "create_experiment(experiment_name)\n",
    "job_name = create_trial(experiment_name)\n",
    "\n",
    "estimator.fit(inputs = {'inputdata': inputs},\n",
    "                  job_name = job_name,\n",
    "                  experiment_config={\n",
    "                      'TrialName': job_name,\n",
    "                      'TrialComponentDisplayName': job_name,\n",
    "                  },\n",
    "                  wait=False)"
   ]
  },
  {
   "cell_type": "code",
   "execution_count": 21,
   "id": "c5380c92-f06c-4a6f-9f96-3f47dc530b9b",
   "metadata": {},
   "outputs": [
    {
     "name": "stdout",
     "output_type": "stream",
     "text": [
      "2023-02-07 13:53:17 Starting - Starting the training job...\n",
      "2023-02-07 13:53:33 Starting - Preparing the instances for training......\n",
      "2023-02-07 13:54:30 Downloading - Downloading input data...\n",
      "2023-02-07 13:55:09 Training - Downloading the training image...\n",
      "2023-02-07 13:55:45 Training - Training image download completed. Training in progress...\u001b[34m[2023-02-07 13:55:50.391 ip-10-2-95-132.ec2.internal:7 INFO utils.py:27] RULE_JOB_STOP_SIGNAL_FILENAME: None\u001b[0m\n",
      "\u001b[34m[2023-02-07:13:55:50:INFO] Imported framework sagemaker_xgboost_container.training\u001b[0m\n",
      "\u001b[34m[2023-02-07:13:55:50:INFO] No GPUs detected (normal if no gpus installed)\u001b[0m\n",
      "\u001b[34m[2023-02-07:13:55:50:INFO] Invoking user training script.\u001b[0m\n",
      "\u001b[34m[2023-02-07:13:55:50:INFO] Module xgboost_starter_script does not provide a setup.py. \u001b[0m\n",
      "\u001b[34mGenerating setup.py\u001b[0m\n",
      "\u001b[34m[2023-02-07:13:55:50:INFO] Generating setup.cfg\u001b[0m\n",
      "\u001b[34m[2023-02-07:13:55:50:INFO] Generating MANIFEST.in\u001b[0m\n",
      "\u001b[34m[2023-02-07:13:55:50:INFO] Installing module with the following command:\u001b[0m\n",
      "\u001b[34m/miniconda3/bin/python3 -m pip install . \u001b[0m\n",
      "\u001b[34mProcessing /opt/ml/code\n",
      "  Preparing metadata (setup.py): started\n",
      "  Preparing metadata (setup.py): finished with status 'done'\u001b[0m\n",
      "\u001b[34mBuilding wheels for collected packages: xgboost-starter-script\n",
      "  Building wheel for xgboost-starter-script (setup.py): started\n",
      "  Building wheel for xgboost-starter-script (setup.py): finished with status 'done'\n",
      "  Created wheel for xgboost-starter-script: filename=xgboost_starter_script-1.0.0-py2.py3-none-any.whl size=14659 sha256=624941444490df2d2c943b137f1ed3d393d7734ec25b066d728a060ab30db0a5\n",
      "  Stored in directory: /home/model-server/tmp/pip-ephem-wheel-cache-xpj2mwb7/wheels/3e/0f/51/2f1df833dd0412c1bc2f5ee56baac195b5be563353d111dca6\u001b[0m\n",
      "\u001b[34mSuccessfully built xgboost-starter-script\u001b[0m\n",
      "\u001b[34mInstalling collected packages: xgboost-starter-script\u001b[0m\n",
      "\u001b[34mSuccessfully installed xgboost-starter-script-1.0.0\u001b[0m\n",
      "\u001b[34mWARNING: Running pip as the 'root' user can result in broken permissions and conflicting behaviour with the system package manager. It is recommended to use a virtual environment instead: https://pip.pypa.io/warnings/venv\u001b[0m\n",
      "\u001b[34m[notice] A new release of pip available: 22.2.2 -> 23.0\u001b[0m\n",
      "\u001b[34m[notice] To update, run: pip install --upgrade pip\u001b[0m\n",
      "\u001b[34m[2023-02-07:13:55:52:INFO] No GPUs detected (normal if no gpus installed)\u001b[0m\n",
      "\u001b[34m[2023-02-07:13:55:52:INFO] Invoking user script\u001b[0m\n",
      "\u001b[34mTraining Env:\u001b[0m\n",
      "\u001b[34m{\n",
      "    \"additional_framework_parameters\": {},\n",
      "    \"channel_input_dirs\": {\n",
      "        \"inputdata\": \"/opt/ml/input/data/inputdata\"\n",
      "    },\n",
      "    \"current_host\": \"algo-1\",\n",
      "    \"framework_module\": \"sagemaker_xgboost_container.training:main\",\n",
      "    \"hosts\": [\n",
      "        \"algo-1\"\n",
      "    ],\n",
      "    \"hyperparameters\": {\n",
      "        \"eta\": \"0.3\",\n",
      "        \"max_depth\": \"2\",\n",
      "        \"num_round\": \"100\",\n",
      "        \"objective\": \"binary:logistic\",\n",
      "        \"scale_pos_weight\": \"19\"\n",
      "    },\n",
      "    \"input_config_dir\": \"/opt/ml/input/config\",\n",
      "    \"input_data_config\": {\n",
      "        \"inputdata\": {\n",
      "            \"TrainingInputMode\": \"File\",\n",
      "            \"S3DistributionType\": \"FullyReplicated\",\n",
      "            \"RecordWrapperType\": \"None\"\n",
      "        }\n",
      "    },\n",
      "    \"input_dir\": \"/opt/ml/input\",\n",
      "    \"is_master\": true,\n",
      "    \"job_name\": \"titanic-xgboost-test-1-0207-13531675777997\",\n",
      "    \"log_level\": 20,\n",
      "    \"master_hostname\": \"algo-1\",\n",
      "    \"model_dir\": \"/opt/ml/model\",\n",
      "    \"module_dir\": \"s3://sagemaker-us-east-1-376278017302/titanic-ml/xgboost/code/titanic-xgboost-test-1-0207-13531675777997/source/sourcedir.tar.gz\",\n",
      "    \"module_name\": \"xgboost_starter_script\",\n",
      "    \"network_interface_name\": \"eth0\",\n",
      "    \"num_cpus\": 2,\n",
      "    \"num_gpus\": 0,\n",
      "    \"output_data_dir\": \"/opt/ml/output/data\",\n",
      "    \"output_dir\": \"/opt/ml/output\",\n",
      "    \"output_intermediate_dir\": \"/opt/ml/output/intermediate\",\n",
      "    \"resource_config\": {\n",
      "        \"current_host\": \"algo-1\",\n",
      "        \"current_instance_type\": \"ml.m5.large\",\n",
      "        \"current_group_name\": \"homogeneousCluster\",\n",
      "        \"hosts\": [\n",
      "            \"algo-1\"\n",
      "        ],\n",
      "        \"instance_groups\": [\n",
      "            {\n",
      "                \"instance_group_name\": \"homogeneousCluster\",\n",
      "                \"instance_type\": \"ml.m5.large\",\n",
      "                \"hosts\": [\n",
      "                    \"algo-1\"\n",
      "                ]\n",
      "            }\n",
      "        ],\n",
      "        \"network_interface_name\": \"eth0\"\n",
      "    },\n",
      "    \"user_entry_point\": \"xgboost_starter_script.py\"\u001b[0m\n",
      "\u001b[34m}\u001b[0m\n",
      "\u001b[34mEnvironment variables:\u001b[0m\n",
      "\u001b[34mSM_HOSTS=[\"algo-1\"]\u001b[0m\n",
      "\u001b[34mSM_NETWORK_INTERFACE_NAME=eth0\u001b[0m\n",
      "\u001b[34mSM_HPS={\"eta\":\"0.3\",\"max_depth\":\"2\",\"num_round\":\"100\",\"objective\":\"binary:logistic\",\"scale_pos_weight\":\"19\"}\u001b[0m\n",
      "\u001b[34mSM_USER_ENTRY_POINT=xgboost_starter_script.py\u001b[0m\n",
      "\u001b[34mSM_FRAMEWORK_PARAMS={}\u001b[0m\n",
      "\u001b[34mSM_RESOURCE_CONFIG={\"current_group_name\":\"homogeneousCluster\",\"current_host\":\"algo-1\",\"current_instance_type\":\"ml.m5.large\",\"hosts\":[\"algo-1\"],\"instance_groups\":[{\"hosts\":[\"algo-1\"],\"instance_group_name\":\"homogeneousCluster\",\"instance_type\":\"ml.m5.large\"}],\"network_interface_name\":\"eth0\"}\u001b[0m\n",
      "\u001b[34mSM_INPUT_DATA_CONFIG={\"inputdata\":{\"RecordWrapperType\":\"None\",\"S3DistributionType\":\"FullyReplicated\",\"TrainingInputMode\":\"File\"}}\u001b[0m\n",
      "\u001b[34mSM_OUTPUT_DATA_DIR=/opt/ml/output/data\u001b[0m\n",
      "\u001b[34mSM_CHANNELS=[\"inputdata\"]\u001b[0m\n",
      "\u001b[34mSM_CURRENT_HOST=algo-1\u001b[0m\n",
      "\u001b[34mSM_MODULE_NAME=xgboost_starter_script\u001b[0m\n",
      "\u001b[34mSM_LOG_LEVEL=20\u001b[0m\n",
      "\u001b[34mSM_FRAMEWORK_MODULE=sagemaker_xgboost_container.training:main\u001b[0m\n",
      "\u001b[34mSM_INPUT_DIR=/opt/ml/input\u001b[0m\n",
      "\u001b[34mSM_INPUT_CONFIG_DIR=/opt/ml/input/config\u001b[0m\n",
      "\u001b[34mSM_OUTPUT_DIR=/opt/ml/output\u001b[0m\n",
      "\u001b[34mSM_NUM_CPUS=2\u001b[0m\n",
      "\u001b[34mSM_NUM_GPUS=0\u001b[0m\n",
      "\u001b[34mSM_MODEL_DIR=/opt/ml/model\u001b[0m\n",
      "\u001b[34mSM_MODULE_DIR=s3://sagemaker-us-east-1-376278017302/titanic-ml/xgboost/code/titanic-xgboost-test-1-0207-13531675777997/source/sourcedir.tar.gz\u001b[0m\n",
      "\u001b[34mSM_TRAINING_ENV={\"additional_framework_parameters\":{},\"channel_input_dirs\":{\"inputdata\":\"/opt/ml/input/data/inputdata\"},\"current_host\":\"algo-1\",\"framework_module\":\"sagemaker_xgboost_container.training:main\",\"hosts\":[\"algo-1\"],\"hyperparameters\":{\"eta\":\"0.3\",\"max_depth\":\"2\",\"num_round\":\"100\",\"objective\":\"binary:logistic\",\"scale_pos_weight\":\"19\"},\"input_config_dir\":\"/opt/ml/input/config\",\"input_data_config\":{\"inputdata\":{\"RecordWrapperType\":\"None\",\"S3DistributionType\":\"FullyReplicated\",\"TrainingInputMode\":\"File\"}},\"input_dir\":\"/opt/ml/input\",\"is_master\":true,\"job_name\":\"titanic-xgboost-test-1-0207-13531675777997\",\"log_level\":20,\"master_hostname\":\"algo-1\",\"model_dir\":\"/opt/ml/model\",\"module_dir\":\"s3://sagemaker-us-east-1-376278017302/titanic-ml/xgboost/code/titanic-xgboost-test-1-0207-13531675777997/source/sourcedir.tar.gz\",\"module_name\":\"xgboost_starter_script\",\"network_interface_name\":\"eth0\",\"num_cpus\":2,\"num_gpus\":0,\"output_data_dir\":\"/opt/ml/output/data\",\"output_dir\":\"/opt/ml/output\",\"output_intermediate_dir\":\"/opt/ml/output/intermediate\",\"resource_config\":{\"current_group_name\":\"homogeneousCluster\",\"current_host\":\"algo-1\",\"current_instance_type\":\"ml.m5.large\",\"hosts\":[\"algo-1\"],\"instance_groups\":[{\"hosts\":[\"algo-1\"],\"instance_group_name\":\"homogeneousCluster\",\"instance_type\":\"ml.m5.large\"}],\"network_interface_name\":\"eth0\"},\"user_entry_point\":\"xgboost_starter_script.py\"}\u001b[0m\n",
      "\u001b[34mSM_USER_ARGS=[\"--eta\",\"0.3\",\"--max_depth\",\"2\",\"--num_round\",\"100\",\"--objective\",\"binary:logistic\",\"--scale_pos_weight\",\"19\"]\u001b[0m\n",
      "\u001b[34mSM_OUTPUT_INTERMEDIATE_DIR=/opt/ml/output/intermediate\u001b[0m\n",
      "\u001b[34mSM_CHANNEL_INPUTDATA=/opt/ml/input/data/inputdata\u001b[0m\n",
      "\u001b[34mSM_HP_ETA=0.3\u001b[0m\n",
      "\u001b[34mSM_HP_MAX_DEPTH=2\u001b[0m\n",
      "\u001b[34mSM_HP_NUM_ROUND=100\u001b[0m\n",
      "\u001b[34mSM_HP_OBJECTIVE=binary:logistic\u001b[0m\n",
      "\u001b[34mSM_HP_SCALE_POS_WEIGHT=19\u001b[0m\n",
      "\u001b[34mPYTHONPATH=/miniconda3/bin:/:/miniconda3/lib/python/site-packages/xgboost/dmlc-core/tracker:/miniconda3/lib/python37.zip:/miniconda3/lib/python3.7:/miniconda3/lib/python3.7/lib-dynload:/miniconda3/lib/python3.7/site-packages\u001b[0m\n",
      "\u001b[34mInvoking script with the following command:\u001b[0m\n",
      "\u001b[34m/miniconda3/bin/python3 -m xgboost_starter_script --eta 0.3 --max_depth 2 --num_round 100 --objective binary:logistic --scale_pos_weight 19\u001b[0m\n",
      "\u001b[34mcv_results:      train-auc-mean  train-auc-std  test-auc-mean  test-auc-std\u001b[0m\n",
      "\u001b[34m0         0.694825       0.100190       0.649972      0.096136\u001b[0m\n",
      "\u001b[34m1         0.779939       0.089764       0.763083      0.078352\u001b[0m\n",
      "\u001b[34m2         0.785305       0.094724       0.768292      0.076774\u001b[0m\n",
      "\u001b[34m3         0.846313       0.028450       0.810180      0.041002\u001b[0m\n",
      "\u001b[34m4         0.869600       0.019519       0.809486      0.037593\u001b[0m\n",
      "\u001b[34m5         0.881959       0.019235       0.812181      0.034208\u001b[0m\n",
      "\u001b[34m6         0.895292       0.008926       0.828083      0.044650\u001b[0m\n",
      "\u001b[34m7         0.898716       0.007375       0.827055      0.045030\u001b[0m\n",
      "\u001b[34m8         0.900425       0.009259       0.826736      0.044300\u001b[0m\n",
      "\u001b[34m9         0.901954       0.010149       0.830222      0.037926\u001b[0m\n",
      "\u001b[34m10        0.903885       0.009421       0.831764      0.047060\u001b[0m\n",
      "\u001b[34m11        0.909881       0.008338       0.836722      0.030308\u001b[0m\n",
      "\u001b[34m12        0.912418       0.006765       0.837931      0.025510\u001b[0m\n",
      "\u001b[34m13        0.916741       0.005572       0.838097      0.028467\u001b[0m\n",
      "\u001b[34m14        0.920674       0.007594       0.842125      0.026159\u001b[0m\n",
      "\u001b[34m15        0.926833       0.007524       0.839430      0.022580\u001b[0m\n",
      "\u001b[34m16        0.928988       0.008181       0.836514      0.036279\u001b[0m\n",
      "\u001b[34m17        0.933588       0.008233       0.851750      0.016264\u001b[0m\n",
      "\u001b[34m[0]#011train-auc:0.9335882\u001b[0m\n",
      "\u001b[34m[1]#011validation-auc:0.85175\u001b[0m\n",
      "\u001b[34m[13:55:54] WARNING: ../src/learner.cc:1061: Starting in XGBoost 1.3.0, the default evaluation metric used with the objective 'binary:logistic' was changed from 'error' to 'logloss'. Explicitly set eval_metric if you'd like to restore the old behavior.\u001b[0m\n",
      "\n",
      "2023-02-07 13:56:17 Uploading - Uploading generated training model\n",
      "2023-02-07 13:56:17 Completed - Training job completed\n",
      "Training seconds: 108\n",
      "Billable seconds: 108\n"
     ]
    }
   ],
   "source": [
    "estimator.logs()"
   ]
  },
  {
   "cell_type": "markdown",
   "id": "6ebe14a4-d0f2-43ef-9c23-f55ef40f9d05",
   "metadata": {},
   "source": [
    "### 실험 결과 보기"
   ]
  },
  {
   "cell_type": "markdown",
   "id": "35bdbb32-8410-4861-b235-f803f68e1658",
   "metadata": {},
   "source": [
    "> 훈련 Job 시도에 대한 훈련 데이터, 모델 입력 하이퍼파라미터, 모델 평가 지표, 모델 아티펙트 결과 위치 등의 확인이 가능 합니다.\n",
    "\n",
    "> 아래의 내용은 SageMaker Studio 에서 직관적으로 확인이 가능 합니다."
   ]
  },
  {
   "cell_type": "code",
   "execution_count": 22,
   "id": "4f759161-facd-49e3-980b-5c7b0726e07e",
   "metadata": {},
   "outputs": [],
   "source": [
    "from sagemaker.analytics import ExperimentAnalytics\n",
    "import pandas as pd\n",
    "pd.options.display.max_columns = 50\n",
    "pd.options.display.max_rows = 10\n",
    "pd.options.display.max_colwidth = 100"
   ]
  },
  {
   "cell_type": "code",
   "execution_count": 23,
   "id": "e9f56e53-bb35-4105-a4ee-4b42037e27dd",
   "metadata": {},
   "outputs": [
    {
     "data": {
      "text/html": [
       "<div>\n",
       "<style scoped>\n",
       "    .dataframe tbody tr th:only-of-type {\n",
       "        vertical-align: middle;\n",
       "    }\n",
       "\n",
       "    .dataframe tbody tr th {\n",
       "        vertical-align: top;\n",
       "    }\n",
       "\n",
       "    .dataframe thead th {\n",
       "        text-align: right;\n",
       "    }\n",
       "</style>\n",
       "<table border=\"1\" class=\"dataframe\">\n",
       "  <thead>\n",
       "    <tr style=\"text-align: right;\">\n",
       "      <th></th>\n",
       "      <th>Experiments</th>\n",
       "      <th>Trials</th>\n",
       "      <th>validation:auc - Min</th>\n",
       "      <th>validation:auc - Max</th>\n",
       "      <th>validation:auc - Avg</th>\n",
       "      <th>validation:auc - StdDev</th>\n",
       "      <th>validation:auc - Last</th>\n",
       "      <th>eta</th>\n",
       "      <th>max_depth</th>\n",
       "      <th>num_round</th>\n",
       "      <th>scale_pos_weight</th>\n",
       "    </tr>\n",
       "  </thead>\n",
       "  <tbody>\n",
       "    <tr>\n",
       "      <th>0</th>\n",
       "      <td>[titanic-xgboost-test-1]</td>\n",
       "      <td>[titanic-xgboost-test-1-0207-13081675775298]</td>\n",
       "      <td>0.85175</td>\n",
       "      <td>0.85175</td>\n",
       "      <td>0.85175</td>\n",
       "      <td>0.0</td>\n",
       "      <td>0.85175</td>\n",
       "      <td>\"0.3\"</td>\n",
       "      <td>\"2\"</td>\n",
       "      <td>\"100\"</td>\n",
       "      <td>\"19\"</td>\n",
       "    </tr>\n",
       "    <tr>\n",
       "      <th>1</th>\n",
       "      <td>[titanic-xgboost-test-1]</td>\n",
       "      <td>[titanic-xgboost-test-1-0207-13531675777997]</td>\n",
       "      <td>0.85175</td>\n",
       "      <td>0.85175</td>\n",
       "      <td>0.85175</td>\n",
       "      <td>0.0</td>\n",
       "      <td>0.85175</td>\n",
       "      <td>\"0.3\"</td>\n",
       "      <td>\"2\"</td>\n",
       "      <td>\"100\"</td>\n",
       "      <td>\"19\"</td>\n",
       "    </tr>\n",
       "    <tr>\n",
       "      <th>2</th>\n",
       "      <td>[titanic-xgboost-test-1]</td>\n",
       "      <td>[titanic-xgboost-test-1-0207-13331675776789]</td>\n",
       "      <td>NaN</td>\n",
       "      <td>NaN</td>\n",
       "      <td>NaN</td>\n",
       "      <td>NaN</td>\n",
       "      <td>NaN</td>\n",
       "      <td>NaN</td>\n",
       "      <td>NaN</td>\n",
       "      <td>NaN</td>\n",
       "      <td>NaN</td>\n",
       "    </tr>\n",
       "    <tr>\n",
       "      <th>3</th>\n",
       "      <td>[titanic-xgboost-test-1]</td>\n",
       "      <td>[titanic-xgboost-test-1-0207-12031675771401]</td>\n",
       "      <td>NaN</td>\n",
       "      <td>NaN</td>\n",
       "      <td>NaN</td>\n",
       "      <td>NaN</td>\n",
       "      <td>NaN</td>\n",
       "      <td>\"0.3\"</td>\n",
       "      <td>\"2\"</td>\n",
       "      <td>\"100\"</td>\n",
       "      <td>\"19\"</td>\n",
       "    </tr>\n",
       "    <tr>\n",
       "      <th>4</th>\n",
       "      <td>[titanic-xgboost-test-1]</td>\n",
       "      <td>[titanic-xgboost-test-1-0207-13401675777253]</td>\n",
       "      <td>NaN</td>\n",
       "      <td>NaN</td>\n",
       "      <td>NaN</td>\n",
       "      <td>NaN</td>\n",
       "      <td>NaN</td>\n",
       "      <td>NaN</td>\n",
       "      <td>NaN</td>\n",
       "      <td>NaN</td>\n",
       "      <td>NaN</td>\n",
       "    </tr>\n",
       "    <tr>\n",
       "      <th>5</th>\n",
       "      <td>[titanic-xgboost-test-1]</td>\n",
       "      <td>[titanic-xgboost-test-1-0207-11431675770235]</td>\n",
       "      <td>NaN</td>\n",
       "      <td>NaN</td>\n",
       "      <td>NaN</td>\n",
       "      <td>NaN</td>\n",
       "      <td>NaN</td>\n",
       "      <td>NaN</td>\n",
       "      <td>\"5\"</td>\n",
       "      <td>NaN</td>\n",
       "      <td>NaN</td>\n",
       "    </tr>\n",
       "    <tr>\n",
       "      <th>6</th>\n",
       "      <td>[titanic-xgboost-test-1]</td>\n",
       "      <td>[titanic-xgboost-test-1-0207-11251675769119]</td>\n",
       "      <td>NaN</td>\n",
       "      <td>NaN</td>\n",
       "      <td>NaN</td>\n",
       "      <td>NaN</td>\n",
       "      <td>NaN</td>\n",
       "      <td>\"0.3\"</td>\n",
       "      <td>\"2\"</td>\n",
       "      <td>\"100\"</td>\n",
       "      <td>\"19\"</td>\n",
       "    </tr>\n",
       "    <tr>\n",
       "      <th>7</th>\n",
       "      <td>[titanic-xgboost-test-1]</td>\n",
       "      <td>[titanic-xgboost-test-1-0207-13221675776126]</td>\n",
       "      <td>NaN</td>\n",
       "      <td>NaN</td>\n",
       "      <td>NaN</td>\n",
       "      <td>NaN</td>\n",
       "      <td>NaN</td>\n",
       "      <td>NaN</td>\n",
       "      <td>NaN</td>\n",
       "      <td>NaN</td>\n",
       "      <td>NaN</td>\n",
       "    </tr>\n",
       "    <tr>\n",
       "      <th>8</th>\n",
       "      <td>[titanic-xgboost-test-1]</td>\n",
       "      <td>[titanic-xgboost-test-1-0207-12151675772149]</td>\n",
       "      <td>NaN</td>\n",
       "      <td>NaN</td>\n",
       "      <td>NaN</td>\n",
       "      <td>NaN</td>\n",
       "      <td>NaN</td>\n",
       "      <td>\"0.3\"</td>\n",
       "      <td>\"2\"</td>\n",
       "      <td>\"100\"</td>\n",
       "      <td>\"19\"</td>\n",
       "    </tr>\n",
       "  </tbody>\n",
       "</table>\n",
       "</div>"
      ],
      "text/plain": [
       "                Experiments                                        Trials  \\\n",
       "0  [titanic-xgboost-test-1]  [titanic-xgboost-test-1-0207-13081675775298]   \n",
       "1  [titanic-xgboost-test-1]  [titanic-xgboost-test-1-0207-13531675777997]   \n",
       "2  [titanic-xgboost-test-1]  [titanic-xgboost-test-1-0207-13331675776789]   \n",
       "3  [titanic-xgboost-test-1]  [titanic-xgboost-test-1-0207-12031675771401]   \n",
       "4  [titanic-xgboost-test-1]  [titanic-xgboost-test-1-0207-13401675777253]   \n",
       "5  [titanic-xgboost-test-1]  [titanic-xgboost-test-1-0207-11431675770235]   \n",
       "6  [titanic-xgboost-test-1]  [titanic-xgboost-test-1-0207-11251675769119]   \n",
       "7  [titanic-xgboost-test-1]  [titanic-xgboost-test-1-0207-13221675776126]   \n",
       "8  [titanic-xgboost-test-1]  [titanic-xgboost-test-1-0207-12151675772149]   \n",
       "\n",
       "   validation:auc - Min  validation:auc - Max  validation:auc - Avg  \\\n",
       "0               0.85175               0.85175               0.85175   \n",
       "1               0.85175               0.85175               0.85175   \n",
       "2                   NaN                   NaN                   NaN   \n",
       "3                   NaN                   NaN                   NaN   \n",
       "4                   NaN                   NaN                   NaN   \n",
       "5                   NaN                   NaN                   NaN   \n",
       "6                   NaN                   NaN                   NaN   \n",
       "7                   NaN                   NaN                   NaN   \n",
       "8                   NaN                   NaN                   NaN   \n",
       "\n",
       "   validation:auc - StdDev  validation:auc - Last    eta max_depth num_round  \\\n",
       "0                      0.0                0.85175  \"0.3\"       \"2\"     \"100\"   \n",
       "1                      0.0                0.85175  \"0.3\"       \"2\"     \"100\"   \n",
       "2                      NaN                    NaN    NaN       NaN       NaN   \n",
       "3                      NaN                    NaN  \"0.3\"       \"2\"     \"100\"   \n",
       "4                      NaN                    NaN    NaN       NaN       NaN   \n",
       "5                      NaN                    NaN    NaN       \"5\"       NaN   \n",
       "6                      NaN                    NaN  \"0.3\"       \"2\"     \"100\"   \n",
       "7                      NaN                    NaN    NaN       NaN       NaN   \n",
       "8                      NaN                    NaN  \"0.3\"       \"2\"     \"100\"   \n",
       "\n",
       "  scale_pos_weight  \n",
       "0             \"19\"  \n",
       "1             \"19\"  \n",
       "2              NaN  \n",
       "3             \"19\"  \n",
       "4              NaN  \n",
       "5              NaN  \n",
       "6             \"19\"  \n",
       "7              NaN  \n",
       "8             \"19\"  "
      ]
     },
     "execution_count": 23,
     "metadata": {},
     "output_type": "execute_result"
    }
   ],
   "source": [
    "trial_component_training_analytics = ExperimentAnalytics(\n",
    "    sagemaker_session= sagemaker_session,\n",
    "    experiment_name= experiment_name,\n",
    "    sort_by=\"metrics.validation:auc.max\",        \n",
    "    sort_order=\"Descending\",\n",
    "    metric_names=[\"validation:auc\"]\n",
    ")\n",
    "\n",
    "trial_component_training_analytics.dataframe()[['Experiments', 'Trials', 'validation:auc - Min', 'validation:auc - Max',\n",
    "                                                'validation:auc - Avg', 'validation:auc - StdDev', 'validation:auc - Last', \n",
    "                                                'eta', 'max_depth', 'num_round', 'scale_pos_weight']]"
   ]
  },
  {
   "cell_type": "markdown",
   "id": "88a5a739-750c-4997-a124-0a089c8de0b9",
   "metadata": {},
   "source": [
    "### Evaluation 하기 "
   ]
  },
  {
   "cell_type": "markdown",
   "id": "e1c38fa4-83c5-4a63-a3de-a57f7a7f515c",
   "metadata": {},
   "source": [
    "> SageMaker Processing을 이용하여 Evaluation을 수행하는 코드를 동작할 수 있습니다.\n",
    "\n",
    "> MLOPs에서 Processing을 적용하면 전처리, Evaluation 등을 serverless로 동작할 수 있습니다."
   ]
  },
  {
   "cell_type": "code",
   "execution_count": 24,
   "id": "9edf2364-e6da-46cf-97c4-6e958bfd0cd0",
   "metadata": {},
   "outputs": [],
   "source": [
    "from sagemaker.processing import FrameworkProcessor\n",
    "from sagemaker.processing import ProcessingInput, ProcessingOutput"
   ]
  },
  {
   "cell_type": "code",
   "execution_count": 25,
   "id": "a7892146-8d54-49bd-931f-a359e154f2ff",
   "metadata": {},
   "outputs": [],
   "source": [
    "instance_count = 1\n",
    "instance_type = \"ml.m5.large\"\n",
    "# instance_type = 'local'"
   ]
  },
  {
   "cell_type": "code",
   "execution_count": 26,
   "id": "e11b6415-d021-4804-b5ca-8e307f006fab",
   "metadata": {},
   "outputs": [
    {
     "name": "stderr",
     "output_type": "stream",
     "text": [
      "INFO:botocore.credentials:Found credentials from IAM Role: BaseNotebookInstanceEc2InstanceRole\n",
      "INFO:sagemaker.image_uris:Ignoring unnecessary Python version: py3.\n",
      "INFO:sagemaker.image_uris:Ignoring unnecessary instance type: ml.m5.large.\n"
     ]
    }
   ],
   "source": [
    "script_eval = FrameworkProcessor(\n",
    "    XGBoost,\n",
    "    framework_version=\"1.3-1\",\n",
    "    role=role,\n",
    "    instance_type=instance_type,\n",
    "    instance_count=instance_count\n",
    ")"
   ]
  },
  {
   "cell_type": "code",
   "execution_count": 27,
   "id": "42684bd3-071f-455e-83f2-4daadd529551",
   "metadata": {},
   "outputs": [],
   "source": [
    "artifacts_dir = estimator.model_data"
   ]
  },
  {
   "cell_type": "code",
   "execution_count": 28,
   "id": "7ec1469a-7ed0-4141-9b28-f4d28688bda7",
   "metadata": {},
   "outputs": [],
   "source": [
    "s3_test_path = data_path + '/test.csv'\n",
    "detect_outputpath = f's3://{bucket}/xgboost/processing'"
   ]
  },
  {
   "cell_type": "code",
   "execution_count": 29,
   "id": "894f84ea-cbfc-49ac-bc79-f5e78b84e680",
   "metadata": {},
   "outputs": [],
   "source": [
    "source_dir='src'\n",
    "\n",
    "if instance_type == 'local':\n",
    "    from sagemaker.local import LocalSession\n",
    "    from pathlib import Path\n",
    "\n",
    "    sagemaker_session = LocalSession()\n",
    "    sagemaker_session.config = {'local': {'local_code': True}}\n",
    "    source_dir = f'{Path.cwd()}/src'\n",
    "    s3_test_path=f'./dataset/test.csv'"
   ]
  },
  {
   "cell_type": "code",
   "execution_count": 30,
   "id": "74299cb4-f613-4017-bb90-3b566fee9b3a",
   "metadata": {},
   "outputs": [
    {
     "name": "stderr",
     "output_type": "stream",
     "text": [
      "INFO:botocore.credentials:Found credentials from IAM Role: BaseNotebookInstanceEc2InstanceRole\n",
      "INFO:botocore.credentials:Found credentials from IAM Role: BaseNotebookInstanceEc2InstanceRole\n",
      "INFO:sagemaker.processing:Uploaded src to s3://sagemaker-us-east-1-376278017302/titanic-xgboost-test-1-0207-13571675778239/source/sourcedir.tar.gz\n",
      "INFO:sagemaker.processing:runproc.sh uploaded to s3://sagemaker-us-east-1-376278017302/titanic-xgboost-test-1-0207-13571675778239/source/runproc.sh\n",
      "INFO:sagemaker:Creating processing-job with name titanic-xgboost-test-1-0207-13571675778239\n"
     ]
    }
   ],
   "source": [
    "create_experiment(experiment_name)\n",
    "job_name = create_trial(experiment_name)\n",
    "\n",
    "script_eval.run(\n",
    "    code=\"evaluation.py\",\n",
    "    source_dir=source_dir,\n",
    "    inputs=[ProcessingInput(source=s3_test_path, input_name=\"test_data\", destination=\"/opt/ml/processing/test\"),\n",
    "            ProcessingInput(source=artifacts_dir, input_name=\"model_weight\", destination=\"/opt/ml/processing/model\")\n",
    "    ],\n",
    "    outputs=[\n",
    "        ProcessingOutput(source=\"/opt/ml/processing/output\", output_name='evaluation', destination=detect_outputpath + \"/\" + job_name),\n",
    "    ],\n",
    "    job_name=job_name,\n",
    "    experiment_config={\n",
    "        'TrialName': job_name,\n",
    "        'TrialComponentDisplayName': job_name,\n",
    "    },\n",
    "    wait=False\n",
    ")"
   ]
  },
  {
   "cell_type": "code",
   "execution_count": 31,
   "id": "2280d6eb-b6c8-4b58-bd96-a88719250480",
   "metadata": {},
   "outputs": [
    {
     "name": "stdout",
     "output_type": "stream",
     "text": [
      "............................\u001b[34mRequirement already satisfied: xgboost in /miniconda3/lib/python3.7/site-packages (1.3.3)\u001b[0m\n",
      "\u001b[34mRequirement already satisfied: numpy in /miniconda3/lib/python3.7/site-packages (from xgboost) (1.21.6)\u001b[0m\n",
      "\u001b[34mRequirement already satisfied: scipy in /miniconda3/lib/python3.7/site-packages (from xgboost) (1.6.2)\u001b[0m\n",
      "\u001b[34mWARNING: Running pip as the 'root' user can result in broken permissions and conflicting behaviour with the system package manager. It is recommended to use a virtual environment instead: https://pip.pypa.io/warnings/venv\u001b[0m\n",
      "\u001b[34m[notice] A new release of pip available: 22.2.2 -> 23.0\u001b[0m\n",
      "\u001b[34m[notice] To update, run: pip install --upgrade pip\u001b[0m\n",
      "\u001b[34m#############################################\u001b[0m\n",
      "\u001b[34margs.model_path: /opt/ml/processing/model/model.tar.gz\u001b[0m\n",
      "\u001b[34margs.test_path: /opt/ml/processing/test/test.csv\u001b[0m\n",
      "\u001b[34margs.output_evaluation_dir: /opt/ml/processing/output\u001b[0m\n",
      "\u001b[34m****** All folder and files under /opt/ml/processing ****** \u001b[0m\n",
      "\u001b[34m('/opt/ml/processing', ['input', 'output', 'test', 'model'], [])\u001b[0m\n",
      "\u001b[34m('/opt/ml/processing/input', ['code', 'entrypoint'], [])\u001b[0m\n",
      "\u001b[34m('/opt/ml/processing/input/code', ['__pycache__', '.ipynb_checkpoints'], ['xgboost_starter_script.py', 'sourcedir.tar.gz', 'evaluation.py', 'eda_utils.py'])\u001b[0m\n",
      "\u001b[34m('/opt/ml/processing/input/code/__pycache__', [], ['eda_utils.cpython-310.pyc'])\u001b[0m\n",
      "\u001b[34m('/opt/ml/processing/input/code/.ipynb_checkpoints', [], ['xgboost_starter_script-checkpoint.py', 'evaluation-checkpoint.py', 'eda_utils-checkpoint.py'])\u001b[0m\n",
      "\u001b[34m('/opt/ml/processing/input/entrypoint', [], ['runproc.sh'])\u001b[0m\n",
      "\u001b[34m('/opt/ml/processing/output', [], [])\u001b[0m\n",
      "\u001b[34m('/opt/ml/processing/test', [], ['test.csv'])\u001b[0m\n",
      "\u001b[34m('/opt/ml/processing/model', [], ['model.tar.gz'])\u001b[0m\n",
      "\u001b[34m************************************************* \u001b[0m\n",
      "\u001b[34m/miniconda3/lib/python3.7/site-packages/xgboost/sklearn.py:472: UserWarning: Loading a native XGBoost model with Scikit-Learn interface.\n",
      "  'Loading a native XGBoost model with Scikit-Learn interface.')\u001b[0m\n",
      "\u001b[34mmodel is loaded\u001b[0m\n",
      "\u001b[34mtest df sample \u001b[0m\n",
      "\u001b[34m:    Unnamed: 0  PassengerId  Pclass  Sex   Age  SibSp  Parch     Fare  Embarked\u001b[0m\n",
      "\u001b[34m0          12          904       1    1  23.0      1      0  82.2667         0\u001b[0m\n",
      "\u001b[34m1          14          906       1    1  47.0      1      0  61.1750         0\u001b[0m\n",
      "\u001b[34m/miniconda3/lib/python3.7/site-packages/sklearn/metrics/_classification.py:1245: UndefinedMetricWarning: Precision and F-score are ill-defined and being set to 0.0 in labels with no predicted samples. Use `zero_division` parameter to control this behavior.\n",
      "  _warn_prf(average, modifier, msg_start, len(result))\u001b[0m\n",
      "\u001b[34m/miniconda3/lib/python3.7/site-packages/sklearn/metrics/_classification.py:1245: UndefinedMetricWarning: Recall and F-score are ill-defined and being set to 0.0 in labels with no true samples. Use `zero_division` parameter to control this behavior.\n",
      "  _warn_prf(average, modifier, msg_start, len(result))\u001b[0m\n",
      "\u001b[34m/miniconda3/lib/python3.7/site-packages/sklearn/metrics/_classification.py:1245: UndefinedMetricWarning: Precision and F-score are ill-defined and being set to 0.0 in labels with no predicted samples. Use `zero_division` parameter to control this behavior.\n",
      "  _warn_prf(average, modifier, msg_start, len(result))\u001b[0m\n",
      "\u001b[34m/miniconda3/lib/python3.7/site-packages/sklearn/metrics/_classification.py:1245: UndefinedMetricWarning: Recall and F-score are ill-defined and being set to 0.0 in labels with no true samples. Use `zero_division` parameter to control this behavior.\n",
      "  _warn_prf(average, modifier, msg_start, len(result))\u001b[0m\n",
      "\u001b[34m/miniconda3/lib/python3.7/site-packages/sklearn/metrics/_classification.py:1245: UndefinedMetricWarning: Precision and F-score are ill-defined and being set to 0.0 in labels with no predicted samples. Use `zero_division` parameter to control this behavior.\n",
      "  _warn_prf(average, modifier, msg_start, len(result))\u001b[0m\n",
      "\u001b[34m/miniconda3/lib/python3.7/site-packages/sklearn/metrics/_classification.py:1245: UndefinedMetricWarning: Recall and F-score are ill-defined and being set to 0.0 in labels with no true samples. Use `zero_division` parameter to control this behavior.\n",
      "  _warn_prf(average, modifier, msg_start, len(result))\n",
      "              precision    recall  f1-score   support\n",
      "           0       0.00      0.00      0.00       0.0\n",
      "           1       0.00      0.00      0.00       0.0\n",
      "          12       0.00      0.00      0.00       1.0\n",
      "          14       0.00      0.00      0.00       1.0\n",
      "          24       0.00      0.00      0.00       1.0\n",
      "          26       0.00      0.00      0.00       1.0\n",
      "          28       0.00      0.00      0.00       1.0\n",
      "          34       0.00      0.00      0.00       1.0\n",
      "          44       0.00      0.00      0.00       1.0\n",
      "          46       0.00      0.00      0.00       1.0\n",
      "          48       0.00      0.00      0.00       1.0\n",
      "          50       0.00      0.00      0.00       1.0\n",
      "          53       0.00      0.00      0.00       1.0\n",
      "          57       0.00      0.00      0.00       1.0\n",
      "          59       0.00      0.00      0.00       1.0\n",
      "          64       0.00      0.00      0.00       1.0\n",
      "          68       0.00      0.00      0.00       1.0\n",
      "          69       0.00      0.00      0.00       1.0\n",
      "          73       0.00      0.00      0.00       1.0\n",
      "          74       0.00      0.00      0.00       1.0\n",
      "          75       0.00      0.00      0.00       1.0\n",
      "          77       0.00      0.00      0.00       1.0\n",
      "          81       0.00      0.00      0.00       1.0\n",
      "          92       0.00      0.00      0.00       1.0\n",
      "          96       0.00      0.00      0.00       1.0\n",
      "         100       0.00      0.00      0.00       1.0\n",
      "         109       0.00      0.00      0.00       1.0\n",
      "         112       0.00      0.00      0.00       1.0\n",
      "         114       0.00      0.00      0.00       1.0\n",
      "         117       0.00      0.00      0.00       1.0\n",
      "         118       0.00      0.00      0.00       1.0\n",
      "         122       0.00      0.00      0.00       1.0\n",
      "         131       0.00      0.00      0.00       1.0\n",
      "         142       0.00      0.00      0.00       1.0\n",
      "         150       0.00      0.00      0.00       1.0\n",
      "         156       0.00      0.00      0.00       1.0\n",
      "         158       0.00      0.00      0.00       1.0\n",
      "         166       0.00      0.00      0.00       1.0\n",
      "         177       0.00      0.00      0.00       1.0\n",
      "         178       0.00      0.00      0.00       1.0\n",
      "         179       0.00      0.00      0.00       1.0\n",
      "         181       0.00      0.00      0.00       1.0\n",
      "         182       0.00      0.00      0.00       1.0\n",
      "         184       0.00      0.00      0.00       1.0\n",
      "         196       0.00      0.00      0.00       1.0\n",
      "         202       0.00      0.00      0.00       1.0\n",
      "         208       0.00      0.00      0.00       1.0\n",
      "         215       0.00      0.00      0.00       1.0\n",
      "         218       0.00      0.00      0.00       1.0\n",
      "         222       0.00      0.00      0.00       1.0\n",
      "         234       0.00      0.00      0.00       1.0\n",
      "         236       0.00      0.00      0.00       1.0\n",
      "         239       0.00      0.00      0.00       1.0\n",
      "         242       0.00      0.00      0.00       1.0\n",
      "         245       0.00      0.00      0.00       1.0\n",
      "         252       0.00      0.00      0.00       1.0\n",
      "         270       0.00      0.00      0.00       1.0\n",
      "         272       0.00      0.00      0.00       1.0\n",
      "         287       0.00      0.00      0.00       1.0\n",
      "         293       0.00      0.00      0.00       1.0\n",
      "         305       0.00      0.00      0.00       1.0\n",
      "         306       0.00      0.00      0.00       1.0\n",
      "         308       0.00      0.00      0.00       1.0\n",
      "         314       0.00      0.00      0.00       1.0\n",
      "         316       0.00      0.00      0.00       1.0\n",
      "         321       0.00      0.00      0.00       1.0\n",
      "         322       0.00      0.00      0.00       1.0\n",
      "         326       0.00      0.00      0.00       1.0\n",
      "         331       0.00      0.00      0.00       1.0\n",
      "         335       0.00      0.00      0.00       1.0\n",
      "         343       0.00      0.00      0.00       1.0\n",
      "         350       0.00      0.00      0.00       1.0\n",
      "         355       0.00      0.00      0.00       1.0\n",
      "         356       0.00      0.00      0.00       1.0\n",
      "         364       0.00      0.00      0.00       1.0\n",
      "         371       0.00      0.00      0.00       1.0\n",
      "         372       0.00      0.00      0.00       1.0\n",
      "         374       0.00      0.00      0.00       1.0\n",
      "         378       0.00      0.00      0.00       1.0\n",
      "         390       0.00      0.00      0.00       1.0\n",
      "         391       0.00      0.00      0.00       1.0\n",
      "         395       0.00      0.00      0.00       1.0\n",
      "         397       0.00      0.00      0.00       1.0\n",
      "         400       0.00      0.00      0.00       1.0\n",
      "         404       0.00      0.00      0.00       1.0\n",
      "         405       0.00      0.00      0.00       1.0\n",
      "         407       0.00      0.00      0.00       1.0\n",
      "         411       0.00      0.00      0.00       1.0\n",
      "         414       0.00      0.00      0.00       1.0\n",
      "    accuracy                           0.00      87.0\n",
      "   macro avg       0.00      0.00      0.00      87.0\u001b[0m\n",
      "\u001b[34mweighted avg       0.00      0.00      0.00      87.0\u001b[0m\n",
      "\u001b[34m[[0 0 0 ... 0 0 0]\n",
      " [0 0 0 ... 0 0 0]\n",
      " [0 1 0 ... 0 0 0]\n",
      " ...\n",
      " [0 1 0 ... 0 0 0]\n",
      " [0 1 0 ... 0 0 0]\n",
      " [0 1 0 ... 0 0 0]]\u001b[0m\n",
      "\u001b[34mevaluation_path \u001b[0m\n",
      "\u001b[34m: /opt/ml/processing/output/evaluation.json\u001b[0m\n",
      "\u001b[34mreport_dict \u001b[0m\n",
      "\u001b[34m: {'regression_metrics': {'mse': {'value': 59877.97701149425, 'standard_deviation': 126.03221795639004}}}\u001b[0m\n",
      "\n"
     ]
    }
   ],
   "source": [
    "script_eval.latest_job.wait()"
   ]
  },
  {
   "cell_type": "markdown",
   "id": "4237710a-068c-4791-baa2-cd6326a56d84",
   "metadata": {},
   "source": [
    "### 실험 결과 확인"
   ]
  },
  {
   "cell_type": "code",
   "execution_count": 32,
   "id": "7f0b4dac-88b4-4321-9722-406ffb0e8b53",
   "metadata": {},
   "outputs": [
    {
     "name": "stdout",
     "output_type": "stream",
     "text": [
      "s3://sagemaker-us-east-1-376278017302/titanic-ml/xgboost/output/titanic-xgboost-test-1-0207-13531675777997/output/\n",
      "2023-02-07 13:56:10    2.1 KiB model.tar.gz\n",
      "2023-02-07 13:56:10  185 Bytes output.tar.gz\n"
     ]
    }
   ],
   "source": [
    "artifacts_dir = estimator.model_data.replace('model.tar.gz', '')\n",
    "print(artifacts_dir)\n",
    "!aws s3 ls --human-readable {artifacts_dir}"
   ]
  },
  {
   "cell_type": "code",
   "execution_count": 33,
   "id": "2889d558-e9fc-454d-8156-eb8ac768de67",
   "metadata": {},
   "outputs": [
    {
     "name": "stdout",
     "output_type": "stream",
     "text": [
      "download: s3://sagemaker-us-east-1-376278017302/titanic-ml/xgboost/output/titanic-xgboost-test-1-0207-13531675777997/output/model.tar.gz to model/model.tar.gz\n",
      "xgboost-model\n"
     ]
    }
   ],
   "source": [
    "model_dir = './model'\n",
    "\n",
    "!rm -rf $model_dir\n",
    "\n",
    "import json , os\n",
    "\n",
    "if not os.path.exists(model_dir):\n",
    "    os.makedirs(model_dir)\n",
    "\n",
    "!aws s3 cp {artifacts_dir}model.tar.gz {model_dir}/model.tar.gz\n",
    "!tar -xvzf {model_dir}/model.tar.gz -C {model_dir}"
   ]
  },
  {
   "cell_type": "code",
   "execution_count": 34,
   "id": "22e63229-a31f-4f06-84c0-fcf7f4cd3cc0",
   "metadata": {},
   "outputs": [
    {
     "name": "stdout",
     "output_type": "stream",
     "text": [
      "Looking in indexes: https://pypi.org/simple, https://pip.repos.neuron.amazonaws.com\n",
      "Collecting xgboost\n",
      "  Downloading xgboost-1.7.3-py3-none-manylinux2014_x86_64.whl (193.6 MB)\n",
      "\u001b[2K     \u001b[90m━━━━━━━━━━━━━━━━━━━━━━━━━━━━━━━━━━━━━━\u001b[0m \u001b[32m193.6/193.6 MB\u001b[0m \u001b[31m10.9 MB/s\u001b[0m eta \u001b[36m0:00:00\u001b[0m00:01\u001b[0m00:01\u001b[0m\n",
      "\u001b[?25hCollecting graphviz\n",
      "  Downloading graphviz-0.20.1-py3-none-any.whl (47 kB)\n",
      "\u001b[2K     \u001b[90m━━━━━━━━━━━━━━━━━━━━━━━━━━━━━━━━━━━━━━━━\u001b[0m \u001b[32m47.0/47.0 kB\u001b[0m \u001b[31m15.9 MB/s\u001b[0m eta \u001b[36m0:00:00\u001b[0m\n",
      "\u001b[?25hRequirement already satisfied: scipy in /home/ec2-user/anaconda3/envs/python3/lib/python3.10/site-packages (from xgboost) (1.9.3)\n",
      "Requirement already satisfied: numpy in /home/ec2-user/anaconda3/envs/python3/lib/python3.10/site-packages (from xgboost) (1.22.4)\n",
      "Installing collected packages: graphviz, xgboost\n",
      "Successfully installed graphviz-0.20.1 xgboost-1.7.3\n"
     ]
    }
   ],
   "source": [
    "#!pip install xgboost graphviz"
   ]
  },
  {
   "cell_type": "code",
   "execution_count": 35,
   "id": "b0a73197-47fb-4a9d-87f6-0114b240ce91",
   "metadata": {},
   "outputs": [],
   "source": [
    "import xgboost as xgb\n",
    "import matplotlib.pyplot as plt"
   ]
  },
  {
   "cell_type": "code",
   "execution_count": 36,
   "id": "1d7d6450-0a50-42bb-9286-34e2f65b6556",
   "metadata": {},
   "outputs": [
    {
     "name": "stderr",
     "output_type": "stream",
     "text": [
      "/home/ec2-user/anaconda3/envs/python3/lib/python3.10/site-packages/xgboost/sklearn.py:782: UserWarning: Loading a native XGBoost model with Scikit-Learn interface.\n",
      "  warnings.warn(\"Loading a native XGBoost model with Scikit-Learn interface.\")\n"
     ]
    }
   ],
   "source": [
    "model = xgb.XGBClassifier()\n",
    "model.load_model(\"./model/xgboost-model\")"
   ]
  },
  {
   "cell_type": "code",
   "execution_count": 40,
   "id": "f2cbfc53-04d5-4207-9d81-c4f6d06b175c",
   "metadata": {},
   "outputs": [
    {
     "data": {
      "text/plain": [
       "<AxesSubplot: title={'center': 'Feature importance'}, xlabel='F score', ylabel='Features'>"
      ]
     },
     "execution_count": 40,
     "metadata": {},
     "output_type": "execute_result"
    },
    {
     "data": {
      "image/png": "[encoded data removed]",
      "text/plain": [
       "<Figure size 1500x800 with 1 Axes>"
      ]
     },
     "metadata": {},
     "output_type": "display_data"
    }
   ],
   "source": [
    "test_prep_df = pd.read_csv('./dataset/test.csv') \n",
    "feature_data = xgb.DMatrix(x_test)\n",
    "model.get_booster().feature_names = feature_data.feature_names\n",
    "model.get_booster().feature_types = feature_data.feature_types\n",
    "fig, ax = plt.subplots(figsize=(15, 8))\n",
    "xgb.plot_importance(model, ax=ax, importance_type='gain')"
   ]
  },
  {
   "cell_type": "code",
   "execution_count": null,
   "id": "ef71c886-efdd-497c-a8ad-7efe9f680f90",
   "metadata": {},
   "outputs": [],
   "source": []
  }
 ],
 "metadata": {
  "kernelspec": {
   "display_name": "conda_python3",
   "language": "python",
   "name": "conda_python3"
  },
  "language_info": {
   "codemirror_mode": {
    "name": "ipython",
    "version": 3
   },
   "file_extension": ".py",
   "mimetype": "text/x-python",
   "name": "python",
   "nbconvert_exporter": "python",
   "pygments_lexer": "ipython3",
   "version": "3.10.6"
  }
 },
 "nbformat": 4,
 "nbformat_minor": 5
}
