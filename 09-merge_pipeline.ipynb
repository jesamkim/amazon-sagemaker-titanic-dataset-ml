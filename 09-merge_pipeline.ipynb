{
 "cells": [
  {
   "cell_type": "markdown",
   "id": "61bb591b-0ad0-4836-a912-98a3f47a9ddd",
   "metadata": {},
   "source": [
    "# 2023 AI/ML UnicornGym - Track 1"
   ]
  },
  {
   "cell_type": "markdown",
   "id": "26d76179-91a4-498d-a5d8-3769a67613e2",
   "metadata": {},
   "source": [
    "@jesamkim | 2023-Feb-08"
   ]
  },
  {
   "cell_type": "markdown",
   "id": "80cb5afb-87a5-454c-9816-5725a317fc29",
   "metadata": {},
   "source": [
    "# 9. 전체 모델 빌딩 파이프라인 개발\n",
    "데이터 전처리 스텝은 제외되었으며, 나머지 훈련, 모델, 배포에 대한 전체 파이프라인을 생성 합니다."
   ]
  },
  {
   "cell_type": "markdown",
   "id": "cbb805e0-64e4-46de-a5bc-c3ac700718f6",
   "metadata": {},
   "source": [
    "### setup environment"
   ]
  },
  {
   "cell_type": "code",
   "execution_count": 1,
   "id": "c43750e0-5f2d-4ec0-9f3f-338be6b4a4e8",
   "metadata": {},
   "outputs": [],
   "source": [
    "%load_ext autoreload\n",
    "%autoreload 2\n",
    "\n",
    "# src 폴더 경로 설정\n",
    "import sys\n",
    "sys.path.append('./src')"
   ]
  },
  {
   "cell_type": "markdown",
   "id": "ff02ebba-3210-4011-9519-c333ab533738",
   "metadata": {},
   "source": [
    "## 9-1. SageMaker 모델 빌드 파이프라인을 이용한 모델 빌드 오케스트레이션\n",
    "\n",
    "Amazon SageMaker 모델 구축 파이프라인은 직접 SageMaker 통합을 활용하는 머신 러닝 파이프라인을 구축하기 위한 도구입니다. \n",
    "\n",
    "- 상세 사항은 개발자 가이드 참조 하세요. --> [Amazon SageMaker 모델 구축 파이프라인](https://docs.aws.amazon.com/ko_kr/sagemaker/latest/dg/pipelines.html)"
   ]
  },
  {
   "cell_type": "markdown",
   "id": "e82f3543-1f4f-4aa8-ade7-d7d7eadecaa7",
   "metadata": {},
   "source": [
    "## 9-2. 파이프라인 개발자 가이드\n",
    "- 상세 사항은 개발자 가이드 참조 하세요. --> [Amazon SageMaker 모델 구축 파이프라인](https://docs.aws.amazon.com/ko_kr/sagemaker/latest/dg/pipelines.html)\n",
    "\n",
    "![mdp_how_it_works.png](img/mdp_how_it_works.png)\n",
    "\n",
    "SageMaker 파이프라인은 다음 기능을 지원하며 본 노트북에서 하나씩 다루게 됩니다. \n",
    "\n",
    "* Processing job steps - 데이터처러 워크로드를 실행하기 위한 SageMaker의 관리형 기능. Feature engineering, 데이터 검증, 모델 평가, 모델 해석 등에 주로 사용됨 \n",
    "* Training job steps - 학습작업. 모델에게 학습데이터셋을 이용하여 모델에게 예측을 하도록 학습시키는 반복적인 작업 \n",
    "* Create model steps - 추론 엔드포인트 또는 배치 추론을 위한 모델의 생성 \n",
    "* Pipelines - Workflow DAG. SageMaker 작업과 리소스 생성을 조율하는 단계와 조건을 가진다. "
   ]
  },
  {
   "cell_type": "markdown",
   "id": "ed3fa334-76ad-405b-93b4-60fd6d223e59",
   "metadata": {},
   "source": [
    "## 9-3. 기본 라이브러리 로딩 \n",
    "\n",
    "- [중요] Sagemaker python sdk 를 `2.72.1` 로 다운 그레이드 합니다. 현재는 2.77.x 버전이지만 CreateModel 단계의 오류로 인해서 다운 그레이드 합니다.\n",
    "- 세이지 메이커 관련 라이브러리를 로딩 합니다."
   ]
  },
  {
   "cell_type": "code",
   "execution_count": 2,
   "id": "8d4ecea7-56e3-405a-962b-8326e975951b",
   "metadata": {},
   "outputs": [
    {
     "name": "stdout",
     "output_type": "stream",
     "text": [
      "current_sm_version:  2.72.1\n"
     ]
    }
   ],
   "source": [
    "import sys, IPython\n",
    "\n",
    "sm_sdk_version = \"2.72.1\"\n",
    "\n",
    "import sagemaker\n",
    "current_sm_version = sagemaker.__version__\n",
    "if sm_sdk_version == current_sm_version:\n",
    "    print(\"current_sm_version: \", current_sm_version)\n",
    "else:\n",
    "    !{sys.executable} -m pip install sagemaker=={sm_sdk_version} --upgrade    \n",
    "    IPython.Application.instance().kernel.do_shutdown(True)    \n"
   ]
  },
  {
   "cell_type": "code",
   "execution_count": 3,
   "id": "24f6c438-5e81-4885-9787-3dd35c7d35f7",
   "metadata": {},
   "outputs": [],
   "source": [
    "import boto3\n",
    "import sagemaker\n",
    "import pandas as pd\n",
    "\n",
    "region = boto3.Session().region_name\n",
    "sagemaker_session = sagemaker.session.Session()\n",
    "role = sagemaker.get_execution_role()"
   ]
  },
  {
   "cell_type": "markdown",
   "id": "420c14d3-b743-4018-9f98-60fbf14a2ecc",
   "metadata": {},
   "source": [
    "### 노트북 변수 로딩"
   ]
  },
  {
   "cell_type": "code",
   "execution_count": 4,
   "id": "4289d719-8c18-4ffa-9388-ad1dd2922347",
   "metadata": {},
   "outputs": [
    {
     "name": "stdout",
     "output_type": "stream",
     "text": [
      "Stored variables and their in-db values:\n",
      "bucket                           -> 'sagemaker-us-east-1-376278017302'\n",
      "endpoint_name                    -> 'sagemaker-xgboost-2023-02-09-05-24-37-494'\n",
      "hyperparameters                  -> {'scale_pos_weight': '19', 'max_depth': '2', 'eta'\n",
      "image_uri                        -> '683313688378.dkr.ecr.us-east-1.amazonaws.com/sage\n",
      "input_data_uri                   -> 's3://sagemaker-us-east-1-376278017302/titanic-ml/\n",
      "project_prefix                   -> 'titanic-ml'\n",
      "s3_path                          -> 's3://sagemaker-us-east-1-376278017302/titanic-ml/\n",
      "sagemaker_model                  -> 'pipelines-4jksbfxkgkny-survived-basic-creat-km39j\n",
      "test_data_uri                    -> 's3://sagemaker-us-east-1-376278017302/titanic-ml/\n",
      "test_df                          ->     PassengerId  Pclass  Sex   Age  SibSp  Parch  \n",
      "train_data_uri                   -> 's3://sagemaker-us-east-1-376278017302/titanic-ml/\n",
      "train_model_artifact             -> 's3://sagemaker-us-east-1-376278017302/titanic-ml/\n"
     ]
    }
   ],
   "source": [
    "%store -r\n",
    "\n",
    "%store"
   ]
  },
  {
   "cell_type": "markdown",
   "id": "9b6d3ea3-407c-461f-9082-c15fcca14582",
   "metadata": {},
   "source": [
    "---\n",
    "# 9-4. 모델 빌딩 파이프라인 의 스텝(Step) 생성\n",
    "\n",
    "### 모델 빌딩 파이프라인 변수 생성\n",
    "\n",
    "파이프라인에 인자로 넘길 변수는 아래 크게 3가지 종류가 있습니다.\n",
    "- 프로세싱 스텝을 위한 인스턴스 타입 및 인스턴스 수\n",
    "    - 데이터 전처리 스텝 및 실시간 앤드 포인트 스텝에 사용 됨.\n",
    "- 훈련 스텝을 위한 인스턴스 타입 및 인스턴스 수     \n",
    "- 엔트 포인트의 인스턴스 타입\n",
    "- 원본 데이터 세트에 대한 S3 주소\n",
    "    - 데이터 전처리 스텝에서 사용 됩니다."
   ]
  },
  {
   "cell_type": "code",
   "execution_count": 5,
   "id": "716a9d36-e46f-4a0f-a4b0-a374eefde656",
   "metadata": {},
   "outputs": [],
   "source": [
    "from sagemaker.workflow.parameters import (\n",
    "    ParameterInteger,\n",
    "    ParameterString,\n",
    ")\n",
    "\n",
    "processing_instance_count = ParameterInteger(\n",
    "    name=\"ProcessingInstanceCount\",\n",
    "    default_value=1\n",
    ")\n",
    "\n",
    "processing_instance_type = ParameterString(\n",
    "    name=\"ProcessingInstanceType\",\n",
    "    default_value=\"ml.m5.xlarge\"\n",
    ")\n",
    "\n",
    "training_instance_type = ParameterString(\n",
    "    name=\"TrainingInstanceType\",\n",
    "    default_value=\"ml.m5.xlarge\"\n",
    ")\n",
    "\n",
    "training_instance_count = ParameterInteger(\n",
    "    name=\"TrainingInstanceCount\",\n",
    "    default_value=1\n",
    ")\n",
    "\n",
    "endpoint_instance_type = ParameterString(\n",
    "    name=\"EndpointInstanceType\",\n",
    "    default_value=\"ml.m5.xlarge\"\n",
    ")\n",
    "\n",
    "input_data = ParameterString(\n",
    "    name=\"InputData\",\n",
    "    default_value=input_data_uri\n",
    ")"
   ]
  },
  {
   "cell_type": "markdown",
   "id": "80ee1b00-01af-443c-8a79-32355e8bb02d",
   "metadata": {},
   "source": [
    "### 모델 학습을 위한 학습단계 정의\n",
    "\n",
    "\n",
    "학습 스텝을 정의하기 위해서는 크게 아래와 같은 과정이 있습니다.\n",
    "- XGBoost Estimator 정의\n",
    "- 학습 스텝 정의\n",
    "    - 아래와 같은 중요한 인자가 필요 합니다.\n",
    "        - Estimator (위에서 정의한 것 사용)\n",
    "        - 훈련을 위한 입력 데이터 위치"
   ]
  },
  {
   "cell_type": "markdown",
   "id": "5a61d11f-a1d4-48c9-bb12-a42a5f64b97b",
   "metadata": {},
   "source": [
    "### 기본 훈련 변수 및 하이퍼파라미터 설정"
   ]
  },
  {
   "cell_type": "code",
   "execution_count": 6,
   "id": "71bd3d26-b6c8-4c1f-bdd4-8c778045b97f",
   "metadata": {},
   "outputs": [],
   "source": [
    "from sagemaker.xgboost.estimator import XGBoost\n",
    "\n",
    "estimator_output_path = f's3://{bucket}/{project_prefix}/training-jobs'\n",
    "XGB_FRAMEWORK_VERSION = '1.3-1'\n",
    "\n",
    "\n",
    "hyperparameters = {\n",
    "       \"scale_pos_weight\" : \"19\",    \n",
    "        \"max_depth\": \"2\",\n",
    "        \"eta\": \"0.3\",\n",
    "        \"objective\": \"binary:logistic\",\n",
    "        \"num_round\": \"100\",\n",
    "}"
   ]
  },
  {
   "cell_type": "code",
   "execution_count": 7,
   "id": "2d227c43-bdea-4527-93ba-389e855873f0",
   "metadata": {},
   "outputs": [],
   "source": [
    "xgb_train = XGBoost(\n",
    "    entry_point = \"xgboost_starter_script_pipeline.py\",\n",
    "    source_dir = \"src\",\n",
    "    output_path = estimator_output_path,\n",
    "    code_location = estimator_output_path,\n",
    "    hyperparameters = hyperparameters,\n",
    "    role = role,\n",
    "    instance_count = training_instance_count,\n",
    "    instance_type = training_instance_type,\n",
    "    framework_version=XGB_FRAMEWORK_VERSION    \n",
    ")"
   ]
  },
  {
   "cell_type": "markdown",
   "id": "118560e2-e489-4e95-bc0a-1322996feb5b",
   "metadata": {},
   "source": [
    "훈련의 입력은 S3 출력 경로를 지정하고, 다음 스텝부터 이전의 S3 경로 결과가 제공됩니다.\n",
    "- `step_process.properties.ProcessingOutputConfig.Outputs[\"train\"].S3Output.S3Uri`"
   ]
  },
  {
   "cell_type": "code",
   "execution_count": 8,
   "id": "94923ecb-403e-4d34-9c14-6cec42853b23",
   "metadata": {},
   "outputs": [],
   "source": [
    "train_preproc_dir_artifact = input_data_uri "
   ]
  },
  {
   "cell_type": "code",
   "execution_count": 9,
   "id": "b60ffc26-f767-4508-b26b-6d6527cecb21",
   "metadata": {},
   "outputs": [],
   "source": [
    "from sagemaker.inputs import TrainingInput\n",
    "from sagemaker.workflow.steps import TrainingStep\n",
    "\n",
    "\n",
    "step_train = TrainingStep(\n",
    "    name=\"Titanic-Basic-Train\",\n",
    "    estimator=xgb_train,\n",
    "    inputs={\n",
    "        \"train\": TrainingInput(\n",
    "            s3_data = train_preproc_dir_artifact,\n",
    "            content_type=\"text/csv\"\n",
    "        ),\n",
    "    },\n",
    ")"
   ]
  },
  {
   "cell_type": "markdown",
   "id": "cefca0dc-354f-4fe9-ab8c-990413a4aa14",
   "metadata": {},
   "source": [
    "### SageMaker 모델 생성 스텝 생성\n",
    "- 스텝 생성시에 위에서 생성한 Estimator 입력 및 입력 데이타로서 이전에 생성한 S3 경로를 제공합니다."
   ]
  },
  {
   "cell_type": "code",
   "execution_count": 10,
   "id": "bd48755a-e76e-4bdd-956d-7369b9d115e9",
   "metadata": {},
   "outputs": [],
   "source": [
    "from sagemaker.model import Model\n",
    "\n",
    "model = Model(\n",
    "    image_uri= step_train.properties.AlgorithmSpecification.TrainingImage,\n",
    "    model_data= step_train.properties.ModelArtifacts.S3ModelArtifacts,\n",
    "    sagemaker_session=sagemaker_session,\n",
    "    role=role,\n",
    ")"
   ]
  },
  {
   "cell_type": "code",
   "execution_count": 11,
   "id": "9bf9d355-1df9-4f8f-a0bb-f0956c02e685",
   "metadata": {},
   "outputs": [],
   "source": [
    "from sagemaker.inputs import CreateModelInput\n",
    "from sagemaker.workflow.steps import CreateModelStep\n",
    "\n",
    "\n",
    "inputs = CreateModelInput(\n",
    "    instance_type=\"ml.m5.large\",\n",
    ")\n",
    "step_create_model = CreateModelStep(\n",
    "    name=\"Titanic-Basic-CreateModel\",\n",
    "    model=model,\n",
    "    inputs=inputs,\n",
    ")"
   ]
  },
  {
   "cell_type": "markdown",
   "id": "e12ec40b-cf76-4a84-87ad-bf3ecba4c499",
   "metadata": {},
   "source": [
    "### 실시간 엔드 포인트 배포 스텝 생성\n",
    "\n",
    "앤드포인트를 생성하기 위해서는 프로세싱 스텝을 통해서 합니다. 프레세싱 스텝에 앤드포인트 생성에 필요한 코드(스크립트)를 작성하여 프로세싱 스텝에서 실행하여 생성하게 합니다. 크게 아래와 같은 과정으로 합니다.\n",
    "\n",
    "- 앤드포인트 생성 코드를 S3 에 업로드\n",
    "- SKLearnProcessor 오브젝트 생성\n",
    "- ProcessingStep 정의 (중요한 인자는 아래와 같습니다.)\n",
    "    - processor (SKLearnProcessor 오브젝트 제공)\n",
    "    - 코드에 전달할 커맨드 인자\n",
    "        - endpoint config 생성시에, 이전 단계의 모델 결과를 제공합니다.\n",
    "        - \"--model_name\", step_create_model.properties.ModelName,     \n",
    "    - 앤드포인트 생성 코드\n",
    "\n"
   ]
  },
  {
   "cell_type": "markdown",
   "id": "0daeed81-d172-4fd7-adf6-b6421ad2292a",
   "metadata": {},
   "source": [
    "### 엔드포인트 생성 스크립트 코드를 S3에 업로딩"
   ]
  },
  {
   "cell_type": "code",
   "execution_count": 12,
   "id": "c3d60f0e-e3a2-462d-8432-252db2264b99",
   "metadata": {},
   "outputs": [],
   "source": [
    "from datetime import datetime\n",
    "suffix = datetime.now().microsecond"
   ]
  },
  {
   "cell_type": "code",
   "execution_count": 13,
   "id": "75092e47-7eb9-43d6-8295-c1d66bac0cb7",
   "metadata": {},
   "outputs": [
    {
     "name": "stdout",
     "output_type": "stream",
     "text": [
      "s3_deploy_code_uri:  s3://sagemaker-us-east-1-376278017302/titanic-ml/code/deploy_model.py\n"
     ]
    }
   ],
   "source": [
    "\n",
    "local_deploy_code_path = 'src/deploy_model.py'\n",
    "s3_deploy_code_path = f\"s3://{bucket}/{project_prefix}/code\"\n",
    "s3_deploy_code_uri = sagemaker.s3.S3Uploader.upload(\n",
    "    local_path=local_deploy_code_path, \n",
    "    desired_s3_uri=s3_deploy_code_path,\n",
    ")\n",
    "print(\"s3_deploy_code_uri: \", s3_deploy_code_uri)\n",
    "\n",
    "all_pipeline_endpoint_name = 'merge-pipeline-endpoint-' + str(suffix)\n",
    "endpoint_instance_type = \"ml.m5.xlarge\""
   ]
  },
  {
   "cell_type": "markdown",
   "id": "541d8fd3-0fbd-45f3-8f6d-49dab81410d5",
   "metadata": {},
   "source": [
    "### 프로세서 정의 및 스텝 정의"
   ]
  },
  {
   "cell_type": "code",
   "execution_count": 14,
   "id": "5679c3a7-8459-4c74-8aa3-18a969366bba",
   "metadata": {},
   "outputs": [],
   "source": [
    "from sagemaker.sklearn.processing import SKLearnProcessor\n",
    "from sagemaker.workflow.steps import ProcessingStep\n",
    "\n",
    "deploy_model_processor = SKLearnProcessor(\n",
    "    framework_version='0.23-1',\n",
    "    role= role,\n",
    "    instance_type=processing_instance_type,\n",
    "    instance_count=processing_instance_count,\n",
    "    base_job_name='Survived-Basic-Endpoint',\n",
    "    sagemaker_session=sagemaker_session)\n",
    "\n",
    "\n",
    "step_deploy = ProcessingStep(\n",
    "    name='Titanic-Basic-Endpoint',\n",
    "    processor=deploy_model_processor,\n",
    "    job_arguments=[\n",
    "        \"--model_name\", step_create_model.properties.ModelName, \n",
    "        \"--region\", region,\n",
    "        \"--endpoint_instance_type\", endpoint_instance_type,\n",
    "        \"--endpoint_name\", all_pipeline_endpoint_name\n",
    "    ],\n",
    "    code=s3_deploy_code_uri)"
   ]
  },
  {
   "cell_type": "markdown",
   "id": "d949857b-0948-4394-be72-45d8ccc6f3bf",
   "metadata": {},
   "source": [
    "## 9-5. 파리마터, 단계, 조건을 조합하여 최종 파이프라인 정의 및 실행\n",
    "\n",
    "\n",
    "이제 지금까지 생성한 단계들을 하나의 파이프라인으로 조합하고 실행하도록 하겠습니다.\n",
    "\n",
    "파이프라인은 name, parameters, steps 속성이 필수적으로 필요합니다. \n",
    "여기서 파이프라인의 이름은 (account, region) 조합에 대하여 유일(unique))해야 합니다.\n",
    "우리는 또한 여기서 Experiment 설정을 추가 하여, 실험에 등록 합니다.\n",
    "\n",
    "주의:\n",
    "\n",
    "- 정의에 사용한 모든 파라미터가 존재해야 합니다.\n",
    "- 파이프라인으로 전달된 단계(step)들은 실행순서와는 무관합니다. SageMaker Pipeline은 단계가 실행되고 완료될 수 있도록 의존관계를를 해석합니다."
   ]
  },
  {
   "cell_type": "markdown",
   "id": "bf794fcf-e5c9-4905-ac12-b0dca604da48",
   "metadata": {},
   "source": [
    "### 파이프라인 정의\n",
    "- 위에서 정의한 파라미터를 제공\n",
    "- 실행할 스텝 기술\n",
    "    - steps=[step_train, step_create_model, step_deploy],\n",
    "- 아래는 약 10분 정도 소요 됩니다."
   ]
  },
  {
   "cell_type": "code",
   "execution_count": 15,
   "id": "1a2d6b70-c42c-4f6c-85ce-e445bdb7e9ad",
   "metadata": {},
   "outputs": [],
   "source": [
    "from sagemaker.workflow.pipeline import Pipeline\n",
    "\n",
    "\n",
    "pipeline_name = project_prefix\n",
    "pipeline = Pipeline(\n",
    "    name=pipeline_name,\n",
    "    parameters=[\n",
    "        processing_instance_type, \n",
    "        processing_instance_count,\n",
    "        training_instance_type,        \n",
    "        training_instance_count,   \n",
    "        #endpoint_instance_type,        \n",
    "        input_data,\n",
    "    ],\n",
    "   steps=[step_train, step_create_model, step_deploy],\n",
    "\n",
    ")"
   ]
  },
  {
   "cell_type": "markdown",
   "id": "0d235698-ca77-44cb-a44a-3ab96015e132",
   "metadata": {},
   "source": [
    "### 파이프라인 정의 확인\n",
    "\n",
    "위에서 정의한 파이프라인 정의는 Json 형식으로 정의 되어 있습니다."
   ]
  },
  {
   "cell_type": "code",
   "execution_count": 16,
   "id": "25e97c59-9bab-4eec-aa75-b89c5313cc8e",
   "metadata": {},
   "outputs": [
    {
     "data": {
      "text/plain": [
       "{'Version': '2020-12-01',\n",
       " 'Metadata': {},\n",
       " 'Parameters': [{'Name': 'ProcessingInstanceType',\n",
       "   'Type': 'String',\n",
       "   'DefaultValue': 'ml.m5.xlarge'},\n",
       "  {'Name': 'ProcessingInstanceCount', 'Type': 'Integer', 'DefaultValue': 1},\n",
       "  {'Name': 'TrainingInstanceType',\n",
       "   'Type': 'String',\n",
       "   'DefaultValue': 'ml.m5.xlarge'},\n",
       "  {'Name': 'TrainingInstanceCount', 'Type': 'Integer', 'DefaultValue': 1},\n",
       "  {'Name': 'InputData',\n",
       "   'Type': 'String',\n",
       "   'DefaultValue': 's3://sagemaker-us-east-1-376278017302/titanic-ml/input'}],\n",
       " 'PipelineExperimentConfig': {'ExperimentName': {'Get': 'Execution.PipelineName'},\n",
       "  'TrialName': {'Get': 'Execution.PipelineExecutionId'}},\n",
       " 'Steps': [{'Name': 'Titanic-Basic-Train',\n",
       "   'Type': 'Training',\n",
       "   'Arguments': {'AlgorithmSpecification': {'TrainingInputMode': 'File',\n",
       "     'TrainingImage': '683313688378.dkr.ecr.us-east-1.amazonaws.com/sagemaker-xgboost:1.3-1'},\n",
       "    'OutputDataConfig': {'S3OutputPath': 's3://sagemaker-us-east-1-376278017302/titanic-ml/training-jobs'},\n",
       "    'StoppingCondition': {'MaxRuntimeInSeconds': 86400},\n",
       "    'ResourceConfig': {'InstanceCount': {'Get': 'Parameters.TrainingInstanceCount'},\n",
       "     'InstanceType': {'Get': 'Parameters.TrainingInstanceType'},\n",
       "     'VolumeSizeInGB': 30},\n",
       "    'RoleArn': 'arn:aws:iam::376278017302:role/service-role/AmazonSageMaker-ExecutionRole-20230112T204234',\n",
       "    'InputDataConfig': [{'DataSource': {'S3DataSource': {'S3DataType': 'S3Prefix',\n",
       "        'S3Uri': 's3://sagemaker-us-east-1-376278017302/titanic-ml/input',\n",
       "        'S3DataDistributionType': 'FullyReplicated'}},\n",
       "      'ContentType': 'text/csv',\n",
       "      'ChannelName': 'train'}],\n",
       "    'HyperParameters': {'scale_pos_weight': '\"19\"',\n",
       "     'max_depth': '\"2\"',\n",
       "     'eta': '\"0.3\"',\n",
       "     'objective': '\"binary:logistic\"',\n",
       "     'num_round': '\"100\"',\n",
       "     'sagemaker_submit_directory': '\"s3://sagemaker-us-east-1-376278017302/titanic-ml/training-jobs/sagemaker-xgboost-2023-02-09-05-46-37-318/source/sourcedir.tar.gz\"',\n",
       "     'sagemaker_program': '\"xgboost_starter_script_pipeline.py\"',\n",
       "     'sagemaker_container_log_level': '20',\n",
       "     'sagemaker_job_name': '\"sagemaker-xgboost-2023-02-09-05-46-37-318\"',\n",
       "     'sagemaker_region': '\"us-east-1\"'},\n",
       "    'DebugHookConfig': {'S3OutputPath': 's3://sagemaker-us-east-1-376278017302/titanic-ml/training-jobs',\n",
       "     'CollectionConfigurations': []},\n",
       "    'ProfilerRuleConfigurations': [{'RuleConfigurationName': 'ProfilerReport-1675921597',\n",
       "      'RuleEvaluatorImage': '503895931360.dkr.ecr.us-east-1.amazonaws.com/sagemaker-debugger-rules:latest',\n",
       "      'RuleParameters': {'rule_to_invoke': 'ProfilerReport'}}],\n",
       "    'ProfilerConfig': {'S3OutputPath': 's3://sagemaker-us-east-1-376278017302/titanic-ml/training-jobs'}}},\n",
       "  {'Name': 'Titanic-Basic-CreateModel',\n",
       "   'Type': 'Model',\n",
       "   'Arguments': {'ExecutionRoleArn': 'arn:aws:iam::376278017302:role/service-role/AmazonSageMaker-ExecutionRole-20230112T204234',\n",
       "    'PrimaryContainer': {'Image': {'Get': 'Steps.Titanic-Basic-Train.AlgorithmSpecification.TrainingImage'},\n",
       "     'Environment': {},\n",
       "     'ModelDataUrl': {'Get': 'Steps.Titanic-Basic-Train.ModelArtifacts.S3ModelArtifacts'}}}},\n",
       "  {'Name': 'Titanic-Basic-Endpoint',\n",
       "   'Type': 'Processing',\n",
       "   'Arguments': {'ProcessingResources': {'ClusterConfig': {'InstanceType': {'Get': 'Parameters.ProcessingInstanceType'},\n",
       "      'InstanceCount': {'Get': 'Parameters.ProcessingInstanceCount'},\n",
       "      'VolumeSizeInGB': 30}},\n",
       "    'AppSpecification': {'ImageUri': '683313688378.dkr.ecr.us-east-1.amazonaws.com/sagemaker-scikit-learn:0.23-1-cpu-py3',\n",
       "     'ContainerArguments': ['--model_name',\n",
       "      {'Get': 'Steps.Titanic-Basic-CreateModel.ModelName'},\n",
       "      '--region',\n",
       "      'us-east-1',\n",
       "      '--endpoint_instance_type',\n",
       "      'ml.m5.xlarge',\n",
       "      '--endpoint_name',\n",
       "      'merge-pipeline-endpoint-874152'],\n",
       "     'ContainerEntrypoint': ['python3',\n",
       "      '/opt/ml/processing/input/code/deploy_model.py']},\n",
       "    'RoleArn': 'arn:aws:iam::376278017302:role/service-role/AmazonSageMaker-ExecutionRole-20230112T204234',\n",
       "    'ProcessingInputs': [{'InputName': 'code',\n",
       "      'AppManaged': False,\n",
       "      'S3Input': {'S3Uri': 's3://sagemaker-us-east-1-376278017302/titanic-ml/code/deploy_model.py',\n",
       "       'LocalPath': '/opt/ml/processing/input/code',\n",
       "       'S3DataType': 'S3Prefix',\n",
       "       'S3InputMode': 'File',\n",
       "       'S3DataDistributionType': 'FullyReplicated',\n",
       "       'S3CompressionType': 'None'}}]}}]}"
      ]
     },
     "execution_count": 16,
     "metadata": {},
     "output_type": "execute_result"
    }
   ],
   "source": [
    "import json\n",
    "\n",
    "definition = json.loads(pipeline.definition())\n",
    "definition"
   ]
  },
  {
   "cell_type": "markdown",
   "id": "89f98328-1c1b-4814-a1f1-89a5d37163e9",
   "metadata": {},
   "source": [
    "### 파이프라인 정의를 제출하고 실행하기 \n",
    "\n",
    "파이프라인 정의를 파이프라인 서비스에 제출합니다. 함께 전달되는 역할(role)을 이용하여 AWS에서 파이프라인을 생성하고 작업의 각 단계를 실행할 것입니다.   "
   ]
  },
  {
   "cell_type": "code",
   "execution_count": 17,
   "id": "ac211c70-e903-4209-a5da-e2162f38eba1",
   "metadata": {},
   "outputs": [],
   "source": [
    "pipeline.upsert(role_arn=role)\n",
    "execution = pipeline.start()"
   ]
  },
  {
   "cell_type": "markdown",
   "id": "006b6f12-acc8-4f51-bf4f-133e505635a1",
   "metadata": {},
   "source": [
    "디폴트값을 이용하여 파이프라인을 샐행합니다.\n"
   ]
  },
  {
   "cell_type": "code",
   "execution_count": 18,
   "id": "c2f4f1b7-0c72-4808-9179-1575f00fa04c",
   "metadata": {},
   "outputs": [
    {
     "data": {
      "text/plain": [
       "{'PipelineArn': 'arn:aws:sagemaker:us-east-1:376278017302:pipeline/titanic-ml',\n",
       " 'PipelineExecutionArn': 'arn:aws:sagemaker:us-east-1:376278017302:pipeline/titanic-ml/execution/jr5f6kq7io1e',\n",
       " 'PipelineExecutionDisplayName': 'execution-1675921599005',\n",
       " 'PipelineExecutionStatus': 'Executing',\n",
       " 'CreationTime': datetime.datetime(2023, 2, 9, 5, 46, 38, 898000, tzinfo=tzlocal()),\n",
       " 'LastModifiedTime': datetime.datetime(2023, 2, 9, 5, 46, 38, 898000, tzinfo=tzlocal()),\n",
       " 'CreatedBy': {},\n",
       " 'LastModifiedBy': {},\n",
       " 'ResponseMetadata': {'RequestId': '5b7e4d95-a6a4-4d17-8abf-395b94039096',\n",
       "  'HTTPStatusCode': 200,\n",
       "  'HTTPHeaders': {'x-amzn-requestid': '5b7e4d95-a6a4-4d17-8abf-395b94039096',\n",
       "   'content-type': 'application/x-amz-json-1.1',\n",
       "   'content-length': '385',\n",
       "   'date': 'Thu, 09 Feb 2023 05:46:38 GMT'},\n",
       "  'RetryAttempts': 0}}"
      ]
     },
     "execution_count": 18,
     "metadata": {},
     "output_type": "execute_result"
    }
   ],
   "source": [
    "execution.describe()"
   ]
  },
  {
   "cell_type": "markdown",
   "id": "6c7a071f-c89c-4e51-a17c-e2e2aea77521",
   "metadata": {},
   "source": [
    "### 파이프라인 실행 기다리기"
   ]
  },
  {
   "cell_type": "code",
   "execution_count": 19,
   "id": "cb6fe87e-b50a-4127-9f38-def98f63d29f",
   "metadata": {},
   "outputs": [],
   "source": [
    "execution.wait()"
   ]
  },
  {
   "cell_type": "markdown",
   "id": "b2e87bca-54ae-4b6c-a166-98c9c96ed279",
   "metadata": {},
   "source": [
    "실행이 완료될 때까지 기다립니다.\n"
   ]
  },
  {
   "cell_type": "markdown",
   "id": "307d4f5f-d75c-467d-8155-49b69ea72e29",
   "metadata": {},
   "source": [
    "### 파이프라인 실행 단계 기록 보기\n",
    "\n",
    "실행된 단계들을 리스트업합니다. 파이프라인의 단계실행 서비스에 의해 시작되거나 완료된 단계를 보여줍니다.\n"
   ]
  },
  {
   "cell_type": "code",
   "execution_count": 20,
   "id": "216ab401-61a7-4c89-98b7-046f0581e009",
   "metadata": {},
   "outputs": [
    {
     "data": {
      "text/plain": [
       "[{'StepName': 'Titanic-Basic-Endpoint',\n",
       "  'StartTime': datetime.datetime(2023, 2, 9, 5, 49, 18, 124000, tzinfo=tzlocal()),\n",
       "  'EndTime': datetime.datetime(2023, 2, 9, 5, 55, 59, 195000, tzinfo=tzlocal()),\n",
       "  'StepStatus': 'Succeeded',\n",
       "  'AttemptCount': 0,\n",
       "  'Metadata': {'ProcessingJob': {'Arn': 'arn:aws:sagemaker:us-east-1:376278017302:processing-job/pipelines-jr5f6kq7io1e-titanic-basic-endpoi-plrlnzzl7t'}}},\n",
       " {'StepName': 'Titanic-Basic-CreateModel',\n",
       "  'StartTime': datetime.datetime(2023, 2, 9, 5, 49, 16, 622000, tzinfo=tzlocal()),\n",
       "  'EndTime': datetime.datetime(2023, 2, 9, 5, 49, 17, 657000, tzinfo=tzlocal()),\n",
       "  'StepStatus': 'Succeeded',\n",
       "  'AttemptCount': 0,\n",
       "  'Metadata': {'Model': {'Arn': 'arn:aws:sagemaker:us-east-1:376278017302:model/pipelines-jr5f6kq7io1e-titanic-basic-create-hi9zrltiri'}}},\n",
       " {'StepName': 'Titanic-Basic-Train',\n",
       "  'StartTime': datetime.datetime(2023, 2, 9, 5, 46, 39, 978000, tzinfo=tzlocal()),\n",
       "  'EndTime': datetime.datetime(2023, 2, 9, 5, 49, 15, 929000, tzinfo=tzlocal()),\n",
       "  'StepStatus': 'Succeeded',\n",
       "  'AttemptCount': 0,\n",
       "  'Metadata': {'TrainingJob': {'Arn': 'arn:aws:sagemaker:us-east-1:376278017302:training-job/pipelines-jr5f6kq7io1e-Titanic-Basic-Train-1UsCLB9v9z'}}}]"
      ]
     },
     "execution_count": 20,
     "metadata": {},
     "output_type": "execute_result"
    }
   ],
   "source": [
    "execution.list_steps()"
   ]
  },
  {
   "cell_type": "markdown",
   "id": "23683683-9f63-442b-a7b2-1d6c662bc08c",
   "metadata": {},
   "source": [
    "---\n",
    "## 9-6. 세이지 메이커 스튜디오에서 실행 확인 하기\n",
    "\n",
    "- 아래의 그림 처럼 SageMaker Studio에 로긴후에 따라하시면, SageMaker Studio 에서도 실행 내역을 확인할 수 있습니다.\n",
    "- SageMaker Studio 개발자 가이드 --> [SageMaker Studio](https://docs.aws.amazon.com/ko_kr/sagemaker/latest/dg/studio.html)"
   ]
  },
  {
   "cell_type": "markdown",
   "id": "c276086f-897f-4a4c-9e0a-2e4bb0379fe2",
   "metadata": {},
   "source": [
    "![sm_pipeline_all.png](img/sm_pipeline_all.png)"
   ]
  },
  {
   "cell_type": "markdown",
   "id": "b24e938e-6559-4371-b783-5a134aeab37a",
   "metadata": {},
   "source": [
    "---\n",
    "## 9-7. 아티펙트 경로 추출\n",
    "실제 추론시에 필요한 아래 두가지를 추출 합니다.\n",
    "- 전처리된 테스트 데이터의 경로\n",
    "- endpoint 이름을 추출"
   ]
  },
  {
   "cell_type": "code",
   "execution_count": 21,
   "id": "819b1cc3-dd59-4786-9e92-2aa322bed022",
   "metadata": {},
   "outputs": [
    {
     "name": "stdout",
     "output_type": "stream",
     "text": [
      "test_preproc__dir_artifact:  s3://sagemaker-us-east-1-376278017302/titanic-ml/input\n"
     ]
    }
   ],
   "source": [
    "from src.p_utils import get_proc_artifact\n",
    "\n",
    "import boto3\n",
    "client = boto3.client(\"sagemaker\")\n",
    "\n",
    "#test_preproc_dir_artifact = get_proc_artifact(execution, client, kind=1 )\n",
    "\n",
    "test_preproc_dir_artifact = input_data_uri\n",
    "\n",
    "print(\"test_preproc__dir_artifact: \", test_preproc_dir_artifact)\n",
    "\n"
   ]
  },
  {
   "cell_type": "markdown",
   "id": "9a884f5b-0c6f-44ad-9df4-8a838bcd1d1d",
   "metadata": {},
   "source": [
    "### 변수 저장"
   ]
  },
  {
   "cell_type": "code",
   "execution_count": 22,
   "id": "d3b023be-61bb-420e-97ba-f82e75fcfeb7",
   "metadata": {},
   "outputs": [
    {
     "name": "stdout",
     "output_type": "stream",
     "text": [
      "Stored 'test_preproc_dir_artifact' (str)\n",
      "Stored 'all_pipeline_endpoint_name' (str)\n"
     ]
    }
   ],
   "source": [
    "%store test_preproc_dir_artifact\n",
    "%store all_pipeline_endpoint_name"
   ]
  },
  {
   "cell_type": "code",
   "execution_count": null,
   "id": "c584de2c-d642-46b5-b622-867e2205a7ea",
   "metadata": {},
   "outputs": [],
   "source": []
  }
 ],
 "metadata": {
  "kernelspec": {
   "display_name": "conda_python3",
   "language": "python",
   "name": "conda_python3"
  },
  "language_info": {
   "codemirror_mode": {
    "name": "ipython",
    "version": 3
   },
   "file_extension": ".py",
   "mimetype": "text/x-python",
   "name": "python",
   "nbconvert_exporter": "python",
   "pygments_lexer": "ipython3",
   "version": "3.10.6"
  }
 },
 "nbformat": 4,
 "nbformat_minor": 5
}
